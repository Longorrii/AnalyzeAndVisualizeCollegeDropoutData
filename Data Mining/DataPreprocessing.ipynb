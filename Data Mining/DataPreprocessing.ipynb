{
  "cells": [
    {
      "cell_type": "markdown",
      "metadata": {},
      "source": [
        "# Import các thư viện cần thiết"
      ]
    },
    {
      "cell_type": "code",
      "execution_count": 82,
      "metadata": {},
      "outputs": [
        {
          "data": {
            "application/vnd.livy.statement-meta+json": {
              "execution_finish_time": "2023-12-10T03:03:28.7748016Z",
              "execution_start_time": "2023-12-10T03:03:07.9177989Z",
              "livy_statement_state": "available",
              "parent_msg_id": "702dc8c7-4773-4646-bf7c-4ca6e4212a5d",
              "queued_time": "2023-12-10T03:01:19.1614284Z",
              "session_id": "6",
              "session_start_time": "2023-12-10T03:01:19.2145443Z",
              "spark_jobs": null,
              "spark_pool": "ApacheSparkPool",
              "state": "finished",
              "statement_id": 2
            },
            "text/plain": [
              "StatementMeta(ApacheSparkPool, 6, 2, Finished, Available)"
            ]
          },
          "metadata": {},
          "output_type": "display_data"
        }
      ],
      "source": [
        "%matplotlib inline\n",
        "import pandas as pd\n",
        "import numpy as np\n",
        "import matplotlib.pyplot as plt\n",
        "import seaborn as sns\n",
        "from scipy import stats"
      ]
    },
    {
      "cell_type": "markdown",
      "metadata": {},
      "source": [
        "# Đọc dữ liệu"
      ]
    },
    {
      "cell_type": "code",
      "execution_count": 83,
      "metadata": {},
      "outputs": [
        {
          "data": {
            "application/vnd.livy.statement-meta+json": {
              "execution_finish_time": "2023-12-10T03:03:33.6472123Z",
              "execution_start_time": "2023-12-10T03:03:28.9147701Z",
              "livy_statement_state": "available",
              "parent_msg_id": "95f828b1-81ec-4491-92d1-cfb902cda884",
              "queued_time": "2023-12-10T03:01:19.3470084Z",
              "session_id": "6",
              "session_start_time": null,
              "spark_jobs": null,
              "spark_pool": "ApacheSparkPool",
              "state": "finished",
              "statement_id": 3
            },
            "text/plain": [
              "StatementMeta(ApacheSparkPool, 6, 3, Finished, Available)"
            ]
          },
          "metadata": {},
          "output_type": "display_data"
        }
      ],
      "source": [
        "df = pd.read_excel(\"\",na_values=[\"\",\" \",\"N/A\",\"NA\"])"
      ]
    },
    {
      "cell_type": "markdown",
      "metadata": {},
      "source": [
        "# EDA"
      ]
    },
    {
      "cell_type": "code",
      "execution_count": 84,
      "metadata": {},
      "outputs": [
        {
          "data": {
            "application/vnd.livy.statement-meta+json": {
              "execution_finish_time": "2023-12-10T03:03:33.9488022Z",
              "execution_start_time": "2023-12-10T03:03:33.7955283Z",
              "livy_statement_state": "available",
              "parent_msg_id": "e6f9769b-71f8-46af-8a3b-d9495cc77f45",
              "queued_time": "2023-12-10T03:01:19.5604991Z",
              "session_id": "6",
              "session_start_time": null,
              "spark_jobs": null,
              "spark_pool": "ApacheSparkPool",
              "state": "finished",
              "statement_id": 4
            },
            "text/plain": [
              "StatementMeta(ApacheSparkPool, 6, 4, Finished, Available)"
            ]
          },
          "metadata": {},
          "output_type": "display_data"
        },
        {
          "data": {
            "text/html": [
              "<div>\n",
              "<style scoped>\n",
              "    .dataframe tbody tr th:only-of-type {\n",
              "        vertical-align: middle;\n",
              "    }\n",
              "\n",
              "    .dataframe tbody tr th {\n",
              "        vertical-align: top;\n",
              "    }\n",
              "\n",
              "    .dataframe thead th {\n",
              "        text-align: right;\n",
              "    }\n",
              "</style>\n",
              "<table border=\"1\" class=\"dataframe\">\n",
              "  <thead>\n",
              "    <tr style=\"text-align: right;\">\n",
              "      <th></th>\n",
              "      <th>STUDENT IDENTIFIER</th>\n",
              "      <th>STDNT_AGE</th>\n",
              "      <th>STDNT_GENDER</th>\n",
              "      <th>STDNT_BACKGROUND</th>\n",
              "      <th>IN_STATE_FLAG</th>\n",
              "      <th>INTERNATIONAL_STS</th>\n",
              "      <th>STDNT_MAJOR</th>\n",
              "      <th>STDNT_MINOR</th>\n",
              "      <th>STDNT_TEST_ENTRANCE1</th>\n",
              "      <th>STDNT_TEST_ENTRANCE2</th>\n",
              "      <th>...</th>\n",
              "      <th>DEGREE_GROUP_CD</th>\n",
              "      <th>DEGREE_GROUP_DESC</th>\n",
              "      <th>FIRST_TERM_ATTEMPT_HRS</th>\n",
              "      <th>FIRST_TERM_EARNED_HRS</th>\n",
              "      <th>SECOND_TERM_ATTEMPT_HRS</th>\n",
              "      <th>SECOND_TERM_EARNED_HRS</th>\n",
              "      <th>GROSS_FIN_NEED</th>\n",
              "      <th>COST_OF_ATTEND</th>\n",
              "      <th>EST_FAM_CONTRIBUTION</th>\n",
              "      <th>UNMET_NEED</th>\n",
              "    </tr>\n",
              "  </thead>\n",
              "  <tbody>\n",
              "    <tr>\n",
              "      <th>0</th>\n",
              "      <td>7808615</td>\n",
              "      <td>18</td>\n",
              "      <td>F</td>\n",
              "      <td>BGD 1</td>\n",
              "      <td>Y</td>\n",
              "      <td>N</td>\n",
              "      <td>Undeclared</td>\n",
              "      <td>N</td>\n",
              "      <td>NaN</td>\n",
              "      <td>1150.0</td>\n",
              "      <td>...</td>\n",
              "      <td>B</td>\n",
              "      <td>Bachelors</td>\n",
              "      <td>16</td>\n",
              "      <td>16</td>\n",
              "      <td>14.0</td>\n",
              "      <td>14.0</td>\n",
              "      <td>0</td>\n",
              "      <td>0</td>\n",
              "      <td>0</td>\n",
              "      <td>0.0</td>\n",
              "    </tr>\n",
              "    <tr>\n",
              "      <th>1</th>\n",
              "      <td>7830063</td>\n",
              "      <td>19</td>\n",
              "      <td>F</td>\n",
              "      <td>BGD 1</td>\n",
              "      <td>N</td>\n",
              "      <td>N</td>\n",
              "      <td>Undeclared</td>\n",
              "      <td>N</td>\n",
              "      <td>26.0</td>\n",
              "      <td>NaN</td>\n",
              "      <td>...</td>\n",
              "      <td>B</td>\n",
              "      <td>Bachelors</td>\n",
              "      <td>18</td>\n",
              "      <td>18</td>\n",
              "      <td>18.0</td>\n",
              "      <td>18.0</td>\n",
              "      <td>570000</td>\n",
              "      <td>1355760</td>\n",
              "      <td>785760</td>\n",
              "      <td>459300.0</td>\n",
              "    </tr>\n",
              "    <tr>\n",
              "      <th>2</th>\n",
              "      <td>7847538</td>\n",
              "      <td>18</td>\n",
              "      <td>M</td>\n",
              "      <td>BGD 1</td>\n",
              "      <td>Y</td>\n",
              "      <td>N</td>\n",
              "      <td>Mathematics</td>\n",
              "      <td>N</td>\n",
              "      <td>NaN</td>\n",
              "      <td>1020.0</td>\n",
              "      <td>...</td>\n",
              "      <td>B</td>\n",
              "      <td>Bachelors</td>\n",
              "      <td>15</td>\n",
              "      <td>15</td>\n",
              "      <td>14.0</td>\n",
              "      <td>14.0</td>\n",
              "      <td>0</td>\n",
              "      <td>0</td>\n",
              "      <td>0</td>\n",
              "      <td>0.0</td>\n",
              "    </tr>\n",
              "    <tr>\n",
              "      <th>3</th>\n",
              "      <td>8006429</td>\n",
              "      <td>18</td>\n",
              "      <td>M</td>\n",
              "      <td>BGD 1</td>\n",
              "      <td>Y</td>\n",
              "      <td>N</td>\n",
              "      <td>Undeclared</td>\n",
              "      <td>N</td>\n",
              "      <td>NaN</td>\n",
              "      <td>1210.0</td>\n",
              "      <td>...</td>\n",
              "      <td>B</td>\n",
              "      <td>Bachelors</td>\n",
              "      <td>13</td>\n",
              "      <td>13</td>\n",
              "      <td>14.0</td>\n",
              "      <td>14.0</td>\n",
              "      <td>0</td>\n",
              "      <td>0</td>\n",
              "      <td>0</td>\n",
              "      <td>0.0</td>\n",
              "    </tr>\n",
              "    <tr>\n",
              "      <th>4</th>\n",
              "      <td>7962680</td>\n",
              "      <td>18</td>\n",
              "      <td>F</td>\n",
              "      <td>BGD 1</td>\n",
              "      <td>Y</td>\n",
              "      <td>N</td>\n",
              "      <td>Art</td>\n",
              "      <td>N</td>\n",
              "      <td>NaN</td>\n",
              "      <td>1200.0</td>\n",
              "      <td>...</td>\n",
              "      <td>B</td>\n",
              "      <td>Bachelors</td>\n",
              "      <td>12</td>\n",
              "      <td>12</td>\n",
              "      <td>12.0</td>\n",
              "      <td>12.0</td>\n",
              "      <td>835920</td>\n",
              "      <td>1355760</td>\n",
              "      <td>519840</td>\n",
              "      <td>278340.0</td>\n",
              "    </tr>\n",
              "    <tr>\n",
              "      <th>5</th>\n",
              "      <td>7815697</td>\n",
              "      <td>18</td>\n",
              "      <td>M</td>\n",
              "      <td>BGD 1</td>\n",
              "      <td>Y</td>\n",
              "      <td>N</td>\n",
              "      <td>Political Science</td>\n",
              "      <td>N</td>\n",
              "      <td>NaN</td>\n",
              "      <td>1050.0</td>\n",
              "      <td>...</td>\n",
              "      <td>B</td>\n",
              "      <td>Bachelors</td>\n",
              "      <td>15</td>\n",
              "      <td>15</td>\n",
              "      <td>16.0</td>\n",
              "      <td>16.0</td>\n",
              "      <td>0</td>\n",
              "      <td>0</td>\n",
              "      <td>0</td>\n",
              "      <td>0.0</td>\n",
              "    </tr>\n",
              "    <tr>\n",
              "      <th>6</th>\n",
              "      <td>7838856</td>\n",
              "      <td>18</td>\n",
              "      <td>F</td>\n",
              "      <td>BGD 1</td>\n",
              "      <td>Y</td>\n",
              "      <td>N</td>\n",
              "      <td>Biology</td>\n",
              "      <td>N</td>\n",
              "      <td>NaN</td>\n",
              "      <td>580.0</td>\n",
              "      <td>...</td>\n",
              "      <td>B</td>\n",
              "      <td>Bachelors</td>\n",
              "      <td>16</td>\n",
              "      <td>16</td>\n",
              "      <td>15.0</td>\n",
              "      <td>15.0</td>\n",
              "      <td>0</td>\n",
              "      <td>0</td>\n",
              "      <td>0</td>\n",
              "      <td>0.0</td>\n",
              "    </tr>\n",
              "    <tr>\n",
              "      <th>7</th>\n",
              "      <td>7960448</td>\n",
              "      <td>18</td>\n",
              "      <td>F</td>\n",
              "      <td>BGD 1</td>\n",
              "      <td>Y</td>\n",
              "      <td>N</td>\n",
              "      <td>Biology</td>\n",
              "      <td>N</td>\n",
              "      <td>NaN</td>\n",
              "      <td>750.0</td>\n",
              "      <td>...</td>\n",
              "      <td>B</td>\n",
              "      <td>Bachelors</td>\n",
              "      <td>16</td>\n",
              "      <td>16</td>\n",
              "      <td>15.0</td>\n",
              "      <td>15.0</td>\n",
              "      <td>0</td>\n",
              "      <td>0</td>\n",
              "      <td>0</td>\n",
              "      <td>0.0</td>\n",
              "    </tr>\n",
              "    <tr>\n",
              "      <th>8</th>\n",
              "      <td>7944779</td>\n",
              "      <td>18</td>\n",
              "      <td>F</td>\n",
              "      <td>BGD 3</td>\n",
              "      <td>Y</td>\n",
              "      <td>N</td>\n",
              "      <td>Accounting</td>\n",
              "      <td>N</td>\n",
              "      <td>NaN</td>\n",
              "      <td>1060.0</td>\n",
              "      <td>...</td>\n",
              "      <td>B</td>\n",
              "      <td>Bachelors</td>\n",
              "      <td>16</td>\n",
              "      <td>16</td>\n",
              "      <td>15.0</td>\n",
              "      <td>15.0</td>\n",
              "      <td>0</td>\n",
              "      <td>0</td>\n",
              "      <td>0</td>\n",
              "      <td>0.0</td>\n",
              "    </tr>\n",
              "    <tr>\n",
              "      <th>9</th>\n",
              "      <td>7902044</td>\n",
              "      <td>18</td>\n",
              "      <td>F</td>\n",
              "      <td>BGD 1</td>\n",
              "      <td>Y</td>\n",
              "      <td>N</td>\n",
              "      <td>Undeclared</td>\n",
              "      <td>N</td>\n",
              "      <td>NaN</td>\n",
              "      <td>NaN</td>\n",
              "      <td>...</td>\n",
              "      <td>B</td>\n",
              "      <td>Bachelors</td>\n",
              "      <td>16</td>\n",
              "      <td>16</td>\n",
              "      <td>14.0</td>\n",
              "      <td>14.0</td>\n",
              "      <td>0</td>\n",
              "      <td>0</td>\n",
              "      <td>0</td>\n",
              "      <td>0.0</td>\n",
              "    </tr>\n",
              "  </tbody>\n",
              "</table>\n",
              "<p>10 rows × 56 columns</p>\n",
              "</div>"
            ],
            "text/plain": [
              "   STUDENT IDENTIFIER  STDNT_AGE STDNT_GENDER STDNT_BACKGROUND IN_STATE_FLAG  \\\n",
              "0             7808615         18            F            BGD 1             Y   \n",
              "1             7830063         19            F            BGD 1             N   \n",
              "2             7847538         18            M            BGD 1             Y   \n",
              "3             8006429         18            M            BGD 1             Y   \n",
              "4             7962680         18            F            BGD 1             Y   \n",
              "5             7815697         18            M            BGD 1             Y   \n",
              "6             7838856         18            F            BGD 1             Y   \n",
              "7             7960448         18            F            BGD 1             Y   \n",
              "8             7944779         18            F            BGD 3             Y   \n",
              "9             7902044         18            F            BGD 1             Y   \n",
              "\n",
              "  INTERNATIONAL_STS        STDNT_MAJOR STDNT_MINOR  STDNT_TEST_ENTRANCE1  \\\n",
              "0                 N         Undeclared           N                   NaN   \n",
              "1                 N         Undeclared           N                  26.0   \n",
              "2                 N        Mathematics           N                   NaN   \n",
              "3                 N         Undeclared           N                   NaN   \n",
              "4                 N                Art           N                   NaN   \n",
              "5                 N  Political Science           N                   NaN   \n",
              "6                 N            Biology           N                   NaN   \n",
              "7                 N            Biology           N                   NaN   \n",
              "8                 N         Accounting           N                   NaN   \n",
              "9                 N         Undeclared           N                   NaN   \n",
              "\n",
              "   STDNT_TEST_ENTRANCE2  ...  DEGREE_GROUP_CD  DEGREE_GROUP_DESC  \\\n",
              "0                1150.0  ...                B          Bachelors   \n",
              "1                   NaN  ...                B          Bachelors   \n",
              "2                1020.0  ...                B          Bachelors   \n",
              "3                1210.0  ...                B          Bachelors   \n",
              "4                1200.0  ...                B          Bachelors   \n",
              "5                1050.0  ...                B          Bachelors   \n",
              "6                 580.0  ...                B          Bachelors   \n",
              "7                 750.0  ...                B          Bachelors   \n",
              "8                1060.0  ...                B          Bachelors   \n",
              "9                   NaN  ...                B          Bachelors   \n",
              "\n",
              "  FIRST_TERM_ATTEMPT_HRS FIRST_TERM_EARNED_HRS SECOND_TERM_ATTEMPT_HRS  \\\n",
              "0                     16                    16                    14.0   \n",
              "1                     18                    18                    18.0   \n",
              "2                     15                    15                    14.0   \n",
              "3                     13                    13                    14.0   \n",
              "4                     12                    12                    12.0   \n",
              "5                     15                    15                    16.0   \n",
              "6                     16                    16                    15.0   \n",
              "7                     16                    16                    15.0   \n",
              "8                     16                    16                    15.0   \n",
              "9                     16                    16                    14.0   \n",
              "\n",
              "  SECOND_TERM_EARNED_HRS GROSS_FIN_NEED COST_OF_ATTEND EST_FAM_CONTRIBUTION  \\\n",
              "0                   14.0              0              0                    0   \n",
              "1                   18.0         570000        1355760               785760   \n",
              "2                   14.0              0              0                    0   \n",
              "3                   14.0              0              0                    0   \n",
              "4                   12.0         835920        1355760               519840   \n",
              "5                   16.0              0              0                    0   \n",
              "6                   15.0              0              0                    0   \n",
              "7                   15.0              0              0                    0   \n",
              "8                   15.0              0              0                    0   \n",
              "9                   14.0              0              0                    0   \n",
              "\n",
              "  UNMET_NEED  \n",
              "0        0.0  \n",
              "1   459300.0  \n",
              "2        0.0  \n",
              "3        0.0  \n",
              "4   278340.0  \n",
              "5        0.0  \n",
              "6        0.0  \n",
              "7        0.0  \n",
              "8        0.0  \n",
              "9        0.0  \n",
              "\n",
              "[10 rows x 56 columns]"
            ]
          },
          "execution_count": 9,
          "metadata": {},
          "output_type": "execute_result"
        }
      ],
      "source": [
        "# View 10 samples first\n",
        "df.head(10)"
      ]
    },
    {
      "cell_type": "code",
      "execution_count": 85,
      "metadata": {},
      "outputs": [
        {
          "data": {
            "application/vnd.livy.statement-meta+json": {
              "execution_finish_time": "2023-12-10T03:03:34.5843345Z",
              "execution_start_time": "2023-12-10T03:03:34.0776334Z",
              "livy_statement_state": "available",
              "parent_msg_id": "68c6a5d8-fd79-41ed-a61e-8f4ec42ff5e7",
              "queued_time": "2023-12-10T03:01:19.7063159Z",
              "session_id": "6",
              "session_start_time": null,
              "spark_jobs": null,
              "spark_pool": "ApacheSparkPool",
              "state": "finished",
              "statement_id": 5
            },
            "text/plain": [
              "StatementMeta(ApacheSparkPool, 6, 5, Finished, Available)"
            ]
          },
          "metadata": {},
          "output_type": "display_data"
        },
        {
          "name": "stdout",
          "output_type": "stream",
          "text": [
            "<class 'pandas.core.frame.DataFrame'>\n",
            "RangeIndex: 3400 entries, 0 to 3399\n",
            "Data columns (total 56 columns):\n",
            " #   Column                    Non-Null Count  Dtype  \n",
            "---  ------                    --------------  -----  \n",
            " 0   STUDENT IDENTIFIER        3400 non-null   int64  \n",
            " 1   STDNT_AGE                 3400 non-null   int64  \n",
            " 2   STDNT_GENDER              3400 non-null   object \n",
            " 3   STDNT_BACKGROUND          3400 non-null   object \n",
            " 4   IN_STATE_FLAG             3400 non-null   object \n",
            " 5   INTERNATIONAL_STS         3400 non-null   object \n",
            " 6   STDNT_MAJOR               3400 non-null   object \n",
            " 7   STDNT_MINOR               3400 non-null   object \n",
            " 8   STDNT_TEST_ENTRANCE1      1106 non-null   float64\n",
            " 9   STDNT_TEST_ENTRANCE2      2492 non-null   float64\n",
            " 10  STDNT_TEST_ENTRANCE_COMB  2882 non-null   float64\n",
            " 11  FIRST_TERM                3400 non-null   int64  \n",
            " 12  CORE_COURSE_NAME_1_F      3400 non-null   object \n",
            " 13  CORE_COURSE_GRADE_1_F     3400 non-null   object \n",
            " 14  CORE_COURSE_NAME_2_F      3301 non-null   object \n",
            " 15  CORE_COURSE_GRADE_2_F     3301 non-null   object \n",
            " 16  CORE_COURSE_NAME_3_F      2835 non-null   object \n",
            " 17  CORE_COURSE_GRADE_3_F     2835 non-null   object \n",
            " 18  CORE_COURSE_NAME_4_F      1803 non-null   object \n",
            " 19  CORE_COURSE_GRADE_4_F     1803 non-null   object \n",
            " 20  CORE_COURSE_NAME_5_F      645 non-null    object \n",
            " 21  CORE_COURSE_GRADE_5_F     645 non-null    object \n",
            " 22  CORE_COURSE_NAME_6_F      128 non-null    object \n",
            " 23  CORE_COURSE_GRADE_6_F     128 non-null    object \n",
            " 24  SECOND_TERM               3400 non-null   int64  \n",
            " 25  CORE_COURSE_NAME_1_S      3243 non-null   object \n",
            " 26  CORE_COURSE_GRADE_1_S     3168 non-null   object \n",
            " 27  CORE_COURSE_NAME_2_S      2961 non-null   object \n",
            " 28  CORE_COURSE_GRADE_2_S     2961 non-null   object \n",
            " 29  CORE_COURSE_NAME_3_S      2362 non-null   object \n",
            " 30  CORE_COURSE_GRADE_3_S     2362 non-null   object \n",
            " 31  CORE_COURSE_NAME_4_S      1355 non-null   object \n",
            " 32  CORE_COURSE_GRADE_4_S     1355 non-null   object \n",
            " 33  CORE_COURSE_NAME_5_S      450 non-null    object \n",
            " 34  CORE_COURSE_GRADE_5_S     450 non-null    object \n",
            " 35  CORE_COURSE_NAME_6_S      81 non-null     object \n",
            " 36  CORE_COURSE_GRADE_6_S     81 non-null     object \n",
            " 37  HOUSING_STS               3400 non-null   object \n",
            " 38  RETURNED_2ND_YR           3400 non-null   int64  \n",
            " 39  DISTANCE_FROM_HOME        3375 non-null   float64\n",
            " 40  HIGH_SCHL_GPA             3347 non-null   float64\n",
            " 41  HIGH_SCHL_NAME            3399 non-null   object \n",
            " 42  FATHER_HI_EDU_CD          2968 non-null   float64\n",
            " 43  FATHER_HI_EDU_DESC        3400 non-null   object \n",
            " 44  MOTHER_HI_EDU_CD          2911 non-null   float64\n",
            " 45  MOTHER_HI_EDU_DESC        3400 non-null   object \n",
            " 46  DEGREE_GROUP_CD           3400 non-null   object \n",
            " 47  DEGREE_GROUP_DESC         3400 non-null   object \n",
            " 48  FIRST_TERM_ATTEMPT_HRS    3400 non-null   int64  \n",
            " 49  FIRST_TERM_EARNED_HRS     3400 non-null   int64  \n",
            " 50  SECOND_TERM_ATTEMPT_HRS   3194 non-null   float64\n",
            " 51  SECOND_TERM_EARNED_HRS    3191 non-null   float64\n",
            " 52  GROSS_FIN_NEED            3400 non-null   int64  \n",
            " 53  COST_OF_ATTEND            3400 non-null   int64  \n",
            " 54  EST_FAM_CONTRIBUTION      3400 non-null   int64  \n",
            " 55  UNMET_NEED                3400 non-null   float64\n",
            "dtypes: float64(10), int64(10), object(36)\n",
            "memory usage: 1.5+ MB\n"
          ]
        }
      ],
      "source": [
        "# View basic information\n",
        "df.info()"
      ]
    },
    {
      "cell_type": "code",
      "execution_count": 86,
      "metadata": {},
      "outputs": [
        {
          "data": {
            "application/vnd.livy.statement-meta+json": {
              "execution_finish_time": "2023-12-10T03:03:34.8918476Z",
              "execution_start_time": "2023-12-10T03:03:34.7097432Z",
              "livy_statement_state": "available",
              "parent_msg_id": "292b4387-b2fc-41ce-918a-575a419afe72",
              "queued_time": "2023-12-10T03:01:20.1121844Z",
              "session_id": "6",
              "session_start_time": null,
              "spark_jobs": null,
              "spark_pool": "ApacheSparkPool",
              "state": "finished",
              "statement_id": 6
            },
            "text/plain": [
              "StatementMeta(ApacheSparkPool, 6, 6, Finished, Available)"
            ]
          },
          "metadata": {},
          "output_type": "display_data"
        },
        {
          "name": "stdout",
          "output_type": "stream",
          "text": [
            "Number of features: 56\n",
            "Number of samples : 3400\n"
          ]
        }
      ],
      "source": [
        "# Count number of fearutes and samples\n",
        "print(\"Number of features:\", df.shape[1])\n",
        "print(\"Number of samples :\", df.shape[0])"
      ]
    },
    {
      "cell_type": "markdown",
      "metadata": {},
      "source": [
        "Có 56 thuộc tính và 3400 dòng dữ liệu"
      ]
    },
    {
      "cell_type": "code",
      "execution_count": 87,
      "metadata": {},
      "outputs": [
        {
          "data": {
            "application/vnd.livy.statement-meta+json": {
              "execution_finish_time": "2023-12-10T03:03:35.5424504Z",
              "execution_start_time": "2023-12-10T03:03:35.0186195Z",
              "livy_statement_state": "available",
              "parent_msg_id": "020f78d3-13ee-4aac-b391-04e953527ba0",
              "queued_time": "2023-12-10T03:01:20.2797059Z",
              "session_id": "6",
              "session_start_time": null,
              "spark_jobs": null,
              "spark_pool": "ApacheSparkPool",
              "state": "finished",
              "statement_id": 7
            },
            "text/plain": [
              "StatementMeta(ApacheSparkPool, 6, 7, Finished, Available)"
            ]
          },
          "metadata": {},
          "output_type": "display_data"
        },
        {
          "data": {
            "text/html": [
              "<div>\n",
              "<style scoped>\n",
              "    .dataframe tbody tr th:only-of-type {\n",
              "        vertical-align: middle;\n",
              "    }\n",
              "\n",
              "    .dataframe tbody tr th {\n",
              "        vertical-align: top;\n",
              "    }\n",
              "\n",
              "    .dataframe thead th {\n",
              "        text-align: right;\n",
              "    }\n",
              "</style>\n",
              "<table border=\"1\" class=\"dataframe\">\n",
              "  <thead>\n",
              "    <tr style=\"text-align: right;\">\n",
              "      <th></th>\n",
              "      <th>STUDENT IDENTIFIER</th>\n",
              "      <th>STDNT_AGE</th>\n",
              "      <th>STDNT_GENDER</th>\n",
              "      <th>STDNT_BACKGROUND</th>\n",
              "      <th>IN_STATE_FLAG</th>\n",
              "      <th>INTERNATIONAL_STS</th>\n",
              "      <th>STDNT_MAJOR</th>\n",
              "      <th>STDNT_MINOR</th>\n",
              "      <th>STDNT_TEST_ENTRANCE1</th>\n",
              "      <th>STDNT_TEST_ENTRANCE2</th>\n",
              "      <th>...</th>\n",
              "      <th>DEGREE_GROUP_CD</th>\n",
              "      <th>DEGREE_GROUP_DESC</th>\n",
              "      <th>FIRST_TERM_ATTEMPT_HRS</th>\n",
              "      <th>FIRST_TERM_EARNED_HRS</th>\n",
              "      <th>SECOND_TERM_ATTEMPT_HRS</th>\n",
              "      <th>SECOND_TERM_EARNED_HRS</th>\n",
              "      <th>GROSS_FIN_NEED</th>\n",
              "      <th>COST_OF_ATTEND</th>\n",
              "      <th>EST_FAM_CONTRIBUTION</th>\n",
              "      <th>UNMET_NEED</th>\n",
              "    </tr>\n",
              "  </thead>\n",
              "  <tbody>\n",
              "    <tr>\n",
              "      <th>count</th>\n",
              "      <td>3.400000e+03</td>\n",
              "      <td>3400.000000</td>\n",
              "      <td>3400</td>\n",
              "      <td>3400</td>\n",
              "      <td>3400</td>\n",
              "      <td>3400</td>\n",
              "      <td>3400</td>\n",
              "      <td>3400</td>\n",
              "      <td>1106.000000</td>\n",
              "      <td>2492.000000</td>\n",
              "      <td>...</td>\n",
              "      <td>3400</td>\n",
              "      <td>3400</td>\n",
              "      <td>3400.000000</td>\n",
              "      <td>3400.000000</td>\n",
              "      <td>3194.000000</td>\n",
              "      <td>3191.000000</td>\n",
              "      <td>3.400000e+03</td>\n",
              "      <td>3.400000e+03</td>\n",
              "      <td>3.400000e+03</td>\n",
              "      <td>3.400000e+03</td>\n",
              "    </tr>\n",
              "    <tr>\n",
              "      <th>unique</th>\n",
              "      <td>NaN</td>\n",
              "      <td>NaN</td>\n",
              "      <td>2</td>\n",
              "      <td>8</td>\n",
              "      <td>2</td>\n",
              "      <td>2</td>\n",
              "      <td>54</td>\n",
              "      <td>37</td>\n",
              "      <td>NaN</td>\n",
              "      <td>NaN</td>\n",
              "      <td>...</td>\n",
              "      <td>3</td>\n",
              "      <td>3</td>\n",
              "      <td>NaN</td>\n",
              "      <td>NaN</td>\n",
              "      <td>NaN</td>\n",
              "      <td>NaN</td>\n",
              "      <td>NaN</td>\n",
              "      <td>NaN</td>\n",
              "      <td>NaN</td>\n",
              "      <td>NaN</td>\n",
              "    </tr>\n",
              "    <tr>\n",
              "      <th>top</th>\n",
              "      <td>NaN</td>\n",
              "      <td>NaN</td>\n",
              "      <td>F</td>\n",
              "      <td>BGD 1</td>\n",
              "      <td>Y</td>\n",
              "      <td>N</td>\n",
              "      <td>Undeclared</td>\n",
              "      <td>N</td>\n",
              "      <td>NaN</td>\n",
              "      <td>NaN</td>\n",
              "      <td>...</td>\n",
              "      <td>B</td>\n",
              "      <td>Bachelors</td>\n",
              "      <td>NaN</td>\n",
              "      <td>NaN</td>\n",
              "      <td>NaN</td>\n",
              "      <td>NaN</td>\n",
              "      <td>NaN</td>\n",
              "      <td>NaN</td>\n",
              "      <td>NaN</td>\n",
              "      <td>NaN</td>\n",
              "    </tr>\n",
              "    <tr>\n",
              "      <th>freq</th>\n",
              "      <td>NaN</td>\n",
              "      <td>NaN</td>\n",
              "      <td>2140</td>\n",
              "      <td>2082</td>\n",
              "      <td>3063</td>\n",
              "      <td>3373</td>\n",
              "      <td>460</td>\n",
              "      <td>3160</td>\n",
              "      <td>NaN</td>\n",
              "      <td>NaN</td>\n",
              "      <td>...</td>\n",
              "      <td>3384</td>\n",
              "      <td>3384</td>\n",
              "      <td>NaN</td>\n",
              "      <td>NaN</td>\n",
              "      <td>NaN</td>\n",
              "      <td>NaN</td>\n",
              "      <td>NaN</td>\n",
              "      <td>NaN</td>\n",
              "      <td>NaN</td>\n",
              "      <td>NaN</td>\n",
              "    </tr>\n",
              "    <tr>\n",
              "      <th>mean</th>\n",
              "      <td>7.897155e+06</td>\n",
              "      <td>17.994118</td>\n",
              "      <td>NaN</td>\n",
              "      <td>NaN</td>\n",
              "      <td>NaN</td>\n",
              "      <td>NaN</td>\n",
              "      <td>NaN</td>\n",
              "      <td>NaN</td>\n",
              "      <td>20.660036</td>\n",
              "      <td>965.092295</td>\n",
              "      <td>...</td>\n",
              "      <td>NaN</td>\n",
              "      <td>NaN</td>\n",
              "      <td>13.985882</td>\n",
              "      <td>12.205000</td>\n",
              "      <td>14.285848</td>\n",
              "      <td>12.511125</td>\n",
              "      <td>3.034025e+05</td>\n",
              "      <td>5.515335e+05</td>\n",
              "      <td>3.446899e+05</td>\n",
              "      <td>7.222052e+04</td>\n",
              "    </tr>\n",
              "    <tr>\n",
              "      <th>std</th>\n",
              "      <td>8.083421e+04</td>\n",
              "      <td>0.552052</td>\n",
              "      <td>NaN</td>\n",
              "      <td>NaN</td>\n",
              "      <td>NaN</td>\n",
              "      <td>NaN</td>\n",
              "      <td>NaN</td>\n",
              "      <td>NaN</td>\n",
              "      <td>3.234734</td>\n",
              "      <td>209.088633</td>\n",
              "      <td>...</td>\n",
              "      <td>NaN</td>\n",
              "      <td>NaN</td>\n",
              "      <td>1.554286</td>\n",
              "      <td>2.986294</td>\n",
              "      <td>2.104387</td>\n",
              "      <td>3.470492</td>\n",
              "      <td>4.836255e+05</td>\n",
              "      <td>6.064403e+05</td>\n",
              "      <td>7.871878e+05</td>\n",
              "      <td>2.795679e+05</td>\n",
              "    </tr>\n",
              "    <tr>\n",
              "      <th>min</th>\n",
              "      <td>7.755837e+06</td>\n",
              "      <td>16.000000</td>\n",
              "      <td>NaN</td>\n",
              "      <td>NaN</td>\n",
              "      <td>NaN</td>\n",
              "      <td>NaN</td>\n",
              "      <td>NaN</td>\n",
              "      <td>NaN</td>\n",
              "      <td>8.000000</td>\n",
              "      <td>350.000000</td>\n",
              "      <td>...</td>\n",
              "      <td>NaN</td>\n",
              "      <td>NaN</td>\n",
              "      <td>9.000000</td>\n",
              "      <td>0.000000</td>\n",
              "      <td>2.000000</td>\n",
              "      <td>0.000000</td>\n",
              "      <td>0.000000e+00</td>\n",
              "      <td>0.000000e+00</td>\n",
              "      <td>0.000000e+00</td>\n",
              "      <td>-1.212072e+06</td>\n",
              "    </tr>\n",
              "    <tr>\n",
              "      <th>25%</th>\n",
              "      <td>7.827039e+06</td>\n",
              "      <td>18.000000</td>\n",
              "      <td>NaN</td>\n",
              "      <td>NaN</td>\n",
              "      <td>NaN</td>\n",
              "      <td>NaN</td>\n",
              "      <td>NaN</td>\n",
              "      <td>NaN</td>\n",
              "      <td>18.000000</td>\n",
              "      <td>900.000000</td>\n",
              "      <td>...</td>\n",
              "      <td>NaN</td>\n",
              "      <td>NaN</td>\n",
              "      <td>13.000000</td>\n",
              "      <td>11.000000</td>\n",
              "      <td>13.000000</td>\n",
              "      <td>11.000000</td>\n",
              "      <td>0.000000e+00</td>\n",
              "      <td>0.000000e+00</td>\n",
              "      <td>0.000000e+00</td>\n",
              "      <td>0.000000e+00</td>\n",
              "    </tr>\n",
              "    <tr>\n",
              "      <th>50%</th>\n",
              "      <td>7.899052e+06</td>\n",
              "      <td>18.000000</td>\n",
              "      <td>NaN</td>\n",
              "      <td>NaN</td>\n",
              "      <td>NaN</td>\n",
              "      <td>NaN</td>\n",
              "      <td>NaN</td>\n",
              "      <td>NaN</td>\n",
              "      <td>20.000000</td>\n",
              "      <td>990.000000</td>\n",
              "      <td>...</td>\n",
              "      <td>NaN</td>\n",
              "      <td>NaN</td>\n",
              "      <td>14.000000</td>\n",
              "      <td>13.000000</td>\n",
              "      <td>14.000000</td>\n",
              "      <td>13.000000</td>\n",
              "      <td>0.000000e+00</td>\n",
              "      <td>1.505400e+05</td>\n",
              "      <td>0.000000e+00</td>\n",
              "      <td>0.000000e+00</td>\n",
              "    </tr>\n",
              "    <tr>\n",
              "      <th>75%</th>\n",
              "      <td>7.964008e+06</td>\n",
              "      <td>18.000000</td>\n",
              "      <td>NaN</td>\n",
              "      <td>NaN</td>\n",
              "      <td>NaN</td>\n",
              "      <td>NaN</td>\n",
              "      <td>NaN</td>\n",
              "      <td>NaN</td>\n",
              "      <td>22.000000</td>\n",
              "      <td>1100.000000</td>\n",
              "      <td>...</td>\n",
              "      <td>NaN</td>\n",
              "      <td>NaN</td>\n",
              "      <td>15.000000</td>\n",
              "      <td>15.000000</td>\n",
              "      <td>16.000000</td>\n",
              "      <td>15.000000</td>\n",
              "      <td>5.995800e+05</td>\n",
              "      <td>1.192815e+06</td>\n",
              "      <td>3.241800e+05</td>\n",
              "      <td>1.876155e+05</td>\n",
              "    </tr>\n",
              "    <tr>\n",
              "      <th>max</th>\n",
              "      <td>8.037098e+06</td>\n",
              "      <td>26.000000</td>\n",
              "      <td>NaN</td>\n",
              "      <td>NaN</td>\n",
              "      <td>NaN</td>\n",
              "      <td>NaN</td>\n",
              "      <td>NaN</td>\n",
              "      <td>NaN</td>\n",
              "      <td>32.000000</td>\n",
              "      <td>1490.000000</td>\n",
              "      <td>...</td>\n",
              "      <td>NaN</td>\n",
              "      <td>NaN</td>\n",
              "      <td>21.000000</td>\n",
              "      <td>21.000000</td>\n",
              "      <td>23.000000</td>\n",
              "      <td>23.000000</td>\n",
              "      <td>2.124900e+06</td>\n",
              "      <td>2.124900e+06</td>\n",
              "      <td>5.999940e+06</td>\n",
              "      <td>1.632660e+06</td>\n",
              "    </tr>\n",
              "  </tbody>\n",
              "</table>\n",
              "<p>11 rows × 56 columns</p>\n",
              "</div>"
            ],
            "text/plain": [
              "        STUDENT IDENTIFIER    STDNT_AGE STDNT_GENDER STDNT_BACKGROUND  \\\n",
              "count         3.400000e+03  3400.000000         3400             3400   \n",
              "unique                 NaN          NaN            2                8   \n",
              "top                    NaN          NaN            F            BGD 1   \n",
              "freq                   NaN          NaN         2140             2082   \n",
              "mean          7.897155e+06    17.994118          NaN              NaN   \n",
              "std           8.083421e+04     0.552052          NaN              NaN   \n",
              "min           7.755837e+06    16.000000          NaN              NaN   \n",
              "25%           7.827039e+06    18.000000          NaN              NaN   \n",
              "50%           7.899052e+06    18.000000          NaN              NaN   \n",
              "75%           7.964008e+06    18.000000          NaN              NaN   \n",
              "max           8.037098e+06    26.000000          NaN              NaN   \n",
              "\n",
              "       IN_STATE_FLAG INTERNATIONAL_STS STDNT_MAJOR STDNT_MINOR  \\\n",
              "count           3400              3400        3400        3400   \n",
              "unique             2                 2          54          37   \n",
              "top                Y                 N  Undeclared           N   \n",
              "freq            3063              3373         460        3160   \n",
              "mean             NaN               NaN         NaN         NaN   \n",
              "std              NaN               NaN         NaN         NaN   \n",
              "min              NaN               NaN         NaN         NaN   \n",
              "25%              NaN               NaN         NaN         NaN   \n",
              "50%              NaN               NaN         NaN         NaN   \n",
              "75%              NaN               NaN         NaN         NaN   \n",
              "max              NaN               NaN         NaN         NaN   \n",
              "\n",
              "        STDNT_TEST_ENTRANCE1  STDNT_TEST_ENTRANCE2  ...  DEGREE_GROUP_CD  \\\n",
              "count            1106.000000           2492.000000  ...             3400   \n",
              "unique                   NaN                   NaN  ...                3   \n",
              "top                      NaN                   NaN  ...                B   \n",
              "freq                     NaN                   NaN  ...             3384   \n",
              "mean               20.660036            965.092295  ...              NaN   \n",
              "std                 3.234734            209.088633  ...              NaN   \n",
              "min                 8.000000            350.000000  ...              NaN   \n",
              "25%                18.000000            900.000000  ...              NaN   \n",
              "50%                20.000000            990.000000  ...              NaN   \n",
              "75%                22.000000           1100.000000  ...              NaN   \n",
              "max                32.000000           1490.000000  ...              NaN   \n",
              "\n",
              "        DEGREE_GROUP_DESC FIRST_TERM_ATTEMPT_HRS FIRST_TERM_EARNED_HRS  \\\n",
              "count                3400            3400.000000           3400.000000   \n",
              "unique                  3                    NaN                   NaN   \n",
              "top             Bachelors                    NaN                   NaN   \n",
              "freq                 3384                    NaN                   NaN   \n",
              "mean                  NaN              13.985882             12.205000   \n",
              "std                   NaN               1.554286              2.986294   \n",
              "min                   NaN               9.000000              0.000000   \n",
              "25%                   NaN              13.000000             11.000000   \n",
              "50%                   NaN              14.000000             13.000000   \n",
              "75%                   NaN              15.000000             15.000000   \n",
              "max                   NaN              21.000000             21.000000   \n",
              "\n",
              "       SECOND_TERM_ATTEMPT_HRS SECOND_TERM_EARNED_HRS GROSS_FIN_NEED  \\\n",
              "count              3194.000000            3191.000000   3.400000e+03   \n",
              "unique                     NaN                    NaN            NaN   \n",
              "top                        NaN                    NaN            NaN   \n",
              "freq                       NaN                    NaN            NaN   \n",
              "mean                 14.285848              12.511125   3.034025e+05   \n",
              "std                   2.104387               3.470492   4.836255e+05   \n",
              "min                   2.000000               0.000000   0.000000e+00   \n",
              "25%                  13.000000              11.000000   0.000000e+00   \n",
              "50%                  14.000000              13.000000   0.000000e+00   \n",
              "75%                  16.000000              15.000000   5.995800e+05   \n",
              "max                  23.000000              23.000000   2.124900e+06   \n",
              "\n",
              "       COST_OF_ATTEND EST_FAM_CONTRIBUTION    UNMET_NEED  \n",
              "count    3.400000e+03         3.400000e+03  3.400000e+03  \n",
              "unique            NaN                  NaN           NaN  \n",
              "top               NaN                  NaN           NaN  \n",
              "freq              NaN                  NaN           NaN  \n",
              "mean     5.515335e+05         3.446899e+05  7.222052e+04  \n",
              "std      6.064403e+05         7.871878e+05  2.795679e+05  \n",
              "min      0.000000e+00         0.000000e+00 -1.212072e+06  \n",
              "25%      0.000000e+00         0.000000e+00  0.000000e+00  \n",
              "50%      1.505400e+05         0.000000e+00  0.000000e+00  \n",
              "75%      1.192815e+06         3.241800e+05  1.876155e+05  \n",
              "max      2.124900e+06         5.999940e+06  1.632660e+06  \n",
              "\n",
              "[11 rows x 56 columns]"
            ]
          },
          "execution_count": 15,
          "metadata": {},
          "output_type": "execute_result"
        }
      ],
      "source": [
        "# Statistical statistics of quantitative attributes such as: count the number of values, maximum, minimum, mean, standard deviation, quartiles...\n",
        "df.describe(include='all')"
      ]
    },
    {
      "cell_type": "code",
      "execution_count": 88,
      "metadata": {},
      "outputs": [
        {
          "data": {
            "application/vnd.livy.statement-meta+json": {
              "execution_finish_time": "2023-12-10T03:03:35.8218943Z",
              "execution_start_time": "2023-12-10T03:03:35.6717896Z",
              "livy_statement_state": "available",
              "parent_msg_id": "92a30db2-841c-4fb9-8075-9d48df1c595e",
              "queued_time": "2023-12-10T03:01:20.394808Z",
              "session_id": "6",
              "session_start_time": null,
              "spark_jobs": null,
              "spark_pool": "ApacheSparkPool",
              "state": "finished",
              "statement_id": 8
            },
            "text/plain": [
              "StatementMeta(ApacheSparkPool, 6, 8, Finished, Available)"
            ]
          },
          "metadata": {},
          "output_type": "display_data"
        },
        {
          "data": {
            "text/html": [
              "<div>\n",
              "<style scoped>\n",
              "    .dataframe tbody tr th:only-of-type {\n",
              "        vertical-align: middle;\n",
              "    }\n",
              "\n",
              "    .dataframe tbody tr th {\n",
              "        vertical-align: top;\n",
              "    }\n",
              "\n",
              "    .dataframe thead th {\n",
              "        text-align: right;\n",
              "    }\n",
              "</style>\n",
              "<table border=\"1\" class=\"dataframe\">\n",
              "  <thead>\n",
              "    <tr style=\"text-align: right;\">\n",
              "      <th></th>\n",
              "      <th>types</th>\n",
              "    </tr>\n",
              "  </thead>\n",
              "  <tbody>\n",
              "    <tr>\n",
              "      <th>STUDENT IDENTIFIER</th>\n",
              "      <td>int64</td>\n",
              "    </tr>\n",
              "    <tr>\n",
              "      <th>STDNT_AGE</th>\n",
              "      <td>int64</td>\n",
              "    </tr>\n",
              "    <tr>\n",
              "      <th>STDNT_GENDER</th>\n",
              "      <td>object</td>\n",
              "    </tr>\n",
              "    <tr>\n",
              "      <th>STDNT_BACKGROUND</th>\n",
              "      <td>object</td>\n",
              "    </tr>\n",
              "    <tr>\n",
              "      <th>IN_STATE_FLAG</th>\n",
              "      <td>object</td>\n",
              "    </tr>\n",
              "    <tr>\n",
              "      <th>INTERNATIONAL_STS</th>\n",
              "      <td>object</td>\n",
              "    </tr>\n",
              "    <tr>\n",
              "      <th>STDNT_MAJOR</th>\n",
              "      <td>object</td>\n",
              "    </tr>\n",
              "    <tr>\n",
              "      <th>STDNT_MINOR</th>\n",
              "      <td>object</td>\n",
              "    </tr>\n",
              "    <tr>\n",
              "      <th>STDNT_TEST_ENTRANCE1</th>\n",
              "      <td>float64</td>\n",
              "    </tr>\n",
              "    <tr>\n",
              "      <th>STDNT_TEST_ENTRANCE2</th>\n",
              "      <td>float64</td>\n",
              "    </tr>\n",
              "    <tr>\n",
              "      <th>STDNT_TEST_ENTRANCE_COMB</th>\n",
              "      <td>float64</td>\n",
              "    </tr>\n",
              "    <tr>\n",
              "      <th>FIRST_TERM</th>\n",
              "      <td>int64</td>\n",
              "    </tr>\n",
              "    <tr>\n",
              "      <th>CORE_COURSE_NAME_1_F</th>\n",
              "      <td>object</td>\n",
              "    </tr>\n",
              "    <tr>\n",
              "      <th>CORE_COURSE_GRADE_1_F</th>\n",
              "      <td>object</td>\n",
              "    </tr>\n",
              "    <tr>\n",
              "      <th>CORE_COURSE_NAME_2_F</th>\n",
              "      <td>object</td>\n",
              "    </tr>\n",
              "    <tr>\n",
              "      <th>CORE_COURSE_GRADE_2_F</th>\n",
              "      <td>object</td>\n",
              "    </tr>\n",
              "    <tr>\n",
              "      <th>CORE_COURSE_NAME_3_F</th>\n",
              "      <td>object</td>\n",
              "    </tr>\n",
              "    <tr>\n",
              "      <th>CORE_COURSE_GRADE_3_F</th>\n",
              "      <td>object</td>\n",
              "    </tr>\n",
              "    <tr>\n",
              "      <th>CORE_COURSE_NAME_4_F</th>\n",
              "      <td>object</td>\n",
              "    </tr>\n",
              "    <tr>\n",
              "      <th>CORE_COURSE_GRADE_4_F</th>\n",
              "      <td>object</td>\n",
              "    </tr>\n",
              "    <tr>\n",
              "      <th>CORE_COURSE_NAME_5_F</th>\n",
              "      <td>object</td>\n",
              "    </tr>\n",
              "    <tr>\n",
              "      <th>CORE_COURSE_GRADE_5_F</th>\n",
              "      <td>object</td>\n",
              "    </tr>\n",
              "    <tr>\n",
              "      <th>CORE_COURSE_NAME_6_F</th>\n",
              "      <td>object</td>\n",
              "    </tr>\n",
              "    <tr>\n",
              "      <th>CORE_COURSE_GRADE_6_F</th>\n",
              "      <td>object</td>\n",
              "    </tr>\n",
              "    <tr>\n",
              "      <th>SECOND_TERM</th>\n",
              "      <td>int64</td>\n",
              "    </tr>\n",
              "    <tr>\n",
              "      <th>CORE_COURSE_NAME_1_S</th>\n",
              "      <td>object</td>\n",
              "    </tr>\n",
              "    <tr>\n",
              "      <th>CORE_COURSE_GRADE_1_S</th>\n",
              "      <td>object</td>\n",
              "    </tr>\n",
              "    <tr>\n",
              "      <th>CORE_COURSE_NAME_2_S</th>\n",
              "      <td>object</td>\n",
              "    </tr>\n",
              "    <tr>\n",
              "      <th>CORE_COURSE_GRADE_2_S</th>\n",
              "      <td>object</td>\n",
              "    </tr>\n",
              "    <tr>\n",
              "      <th>CORE_COURSE_NAME_3_S</th>\n",
              "      <td>object</td>\n",
              "    </tr>\n",
              "    <tr>\n",
              "      <th>CORE_COURSE_GRADE_3_S</th>\n",
              "      <td>object</td>\n",
              "    </tr>\n",
              "    <tr>\n",
              "      <th>CORE_COURSE_NAME_4_S</th>\n",
              "      <td>object</td>\n",
              "    </tr>\n",
              "    <tr>\n",
              "      <th>CORE_COURSE_GRADE_4_S</th>\n",
              "      <td>object</td>\n",
              "    </tr>\n",
              "    <tr>\n",
              "      <th>CORE_COURSE_NAME_5_S</th>\n",
              "      <td>object</td>\n",
              "    </tr>\n",
              "    <tr>\n",
              "      <th>CORE_COURSE_GRADE_5_S</th>\n",
              "      <td>object</td>\n",
              "    </tr>\n",
              "    <tr>\n",
              "      <th>CORE_COURSE_NAME_6_S</th>\n",
              "      <td>object</td>\n",
              "    </tr>\n",
              "    <tr>\n",
              "      <th>CORE_COURSE_GRADE_6_S</th>\n",
              "      <td>object</td>\n",
              "    </tr>\n",
              "    <tr>\n",
              "      <th>HOUSING_STS</th>\n",
              "      <td>object</td>\n",
              "    </tr>\n",
              "    <tr>\n",
              "      <th>RETURNED_2ND_YR</th>\n",
              "      <td>int64</td>\n",
              "    </tr>\n",
              "    <tr>\n",
              "      <th>DISTANCE_FROM_HOME</th>\n",
              "      <td>float64</td>\n",
              "    </tr>\n",
              "    <tr>\n",
              "      <th>HIGH_SCHL_GPA</th>\n",
              "      <td>float64</td>\n",
              "    </tr>\n",
              "    <tr>\n",
              "      <th>HIGH_SCHL_NAME</th>\n",
              "      <td>object</td>\n",
              "    </tr>\n",
              "    <tr>\n",
              "      <th>FATHER_HI_EDU_CD</th>\n",
              "      <td>float64</td>\n",
              "    </tr>\n",
              "    <tr>\n",
              "      <th>FATHER_HI_EDU_DESC</th>\n",
              "      <td>object</td>\n",
              "    </tr>\n",
              "    <tr>\n",
              "      <th>MOTHER_HI_EDU_CD</th>\n",
              "      <td>float64</td>\n",
              "    </tr>\n",
              "    <tr>\n",
              "      <th>MOTHER_HI_EDU_DESC</th>\n",
              "      <td>object</td>\n",
              "    </tr>\n",
              "    <tr>\n",
              "      <th>DEGREE_GROUP_CD</th>\n",
              "      <td>object</td>\n",
              "    </tr>\n",
              "    <tr>\n",
              "      <th>DEGREE_GROUP_DESC</th>\n",
              "      <td>object</td>\n",
              "    </tr>\n",
              "    <tr>\n",
              "      <th>FIRST_TERM_ATTEMPT_HRS</th>\n",
              "      <td>int64</td>\n",
              "    </tr>\n",
              "    <tr>\n",
              "      <th>FIRST_TERM_EARNED_HRS</th>\n",
              "      <td>int64</td>\n",
              "    </tr>\n",
              "    <tr>\n",
              "      <th>SECOND_TERM_ATTEMPT_HRS</th>\n",
              "      <td>float64</td>\n",
              "    </tr>\n",
              "    <tr>\n",
              "      <th>SECOND_TERM_EARNED_HRS</th>\n",
              "      <td>float64</td>\n",
              "    </tr>\n",
              "    <tr>\n",
              "      <th>GROSS_FIN_NEED</th>\n",
              "      <td>int64</td>\n",
              "    </tr>\n",
              "    <tr>\n",
              "      <th>COST_OF_ATTEND</th>\n",
              "      <td>int64</td>\n",
              "    </tr>\n",
              "    <tr>\n",
              "      <th>EST_FAM_CONTRIBUTION</th>\n",
              "      <td>int64</td>\n",
              "    </tr>\n",
              "    <tr>\n",
              "      <th>UNMET_NEED</th>\n",
              "      <td>float64</td>\n",
              "    </tr>\n",
              "  </tbody>\n",
              "</table>\n",
              "</div>"
            ],
            "text/plain": [
              "                            types\n",
              "STUDENT IDENTIFIER          int64\n",
              "STDNT_AGE                   int64\n",
              "STDNT_GENDER               object\n",
              "STDNT_BACKGROUND           object\n",
              "IN_STATE_FLAG              object\n",
              "INTERNATIONAL_STS          object\n",
              "STDNT_MAJOR                object\n",
              "STDNT_MINOR                object\n",
              "STDNT_TEST_ENTRANCE1      float64\n",
              "STDNT_TEST_ENTRANCE2      float64\n",
              "STDNT_TEST_ENTRANCE_COMB  float64\n",
              "FIRST_TERM                  int64\n",
              "CORE_COURSE_NAME_1_F       object\n",
              "CORE_COURSE_GRADE_1_F      object\n",
              "CORE_COURSE_NAME_2_F       object\n",
              "CORE_COURSE_GRADE_2_F      object\n",
              "CORE_COURSE_NAME_3_F       object\n",
              "CORE_COURSE_GRADE_3_F      object\n",
              "CORE_COURSE_NAME_4_F       object\n",
              "CORE_COURSE_GRADE_4_F      object\n",
              "CORE_COURSE_NAME_5_F       object\n",
              "CORE_COURSE_GRADE_5_F      object\n",
              "CORE_COURSE_NAME_6_F       object\n",
              "CORE_COURSE_GRADE_6_F      object\n",
              "SECOND_TERM                 int64\n",
              "CORE_COURSE_NAME_1_S       object\n",
              "CORE_COURSE_GRADE_1_S      object\n",
              "CORE_COURSE_NAME_2_S       object\n",
              "CORE_COURSE_GRADE_2_S      object\n",
              "CORE_COURSE_NAME_3_S       object\n",
              "CORE_COURSE_GRADE_3_S      object\n",
              "CORE_COURSE_NAME_4_S       object\n",
              "CORE_COURSE_GRADE_4_S      object\n",
              "CORE_COURSE_NAME_5_S       object\n",
              "CORE_COURSE_GRADE_5_S      object\n",
              "CORE_COURSE_NAME_6_S       object\n",
              "CORE_COURSE_GRADE_6_S      object\n",
              "HOUSING_STS                object\n",
              "RETURNED_2ND_YR             int64\n",
              "DISTANCE_FROM_HOME        float64\n",
              "HIGH_SCHL_GPA             float64\n",
              "HIGH_SCHL_NAME             object\n",
              "FATHER_HI_EDU_CD          float64\n",
              "FATHER_HI_EDU_DESC         object\n",
              "MOTHER_HI_EDU_CD          float64\n",
              "MOTHER_HI_EDU_DESC         object\n",
              "DEGREE_GROUP_CD            object\n",
              "DEGREE_GROUP_DESC          object\n",
              "FIRST_TERM_ATTEMPT_HRS      int64\n",
              "FIRST_TERM_EARNED_HRS       int64\n",
              "SECOND_TERM_ATTEMPT_HRS   float64\n",
              "SECOND_TERM_EARNED_HRS    float64\n",
              "GROSS_FIN_NEED              int64\n",
              "COST_OF_ATTEND              int64\n",
              "EST_FAM_CONTRIBUTION        int64\n",
              "UNMET_NEED                float64"
            ]
          },
          "execution_count": 17,
          "metadata": {},
          "output_type": "execute_result"
        }
      ],
      "source": [
        "# Print out each data type of each features\n",
        "dtype = pd.DataFrame(data= {'types': df.dtypes})\n",
        "dtype"
      ]
    },
    {
      "cell_type": "code",
      "execution_count": 89,
      "metadata": {},
      "outputs": [
        {
          "data": {
            "application/vnd.livy.statement-meta+json": {
              "execution_finish_time": "2023-12-10T03:03:36.1289708Z",
              "execution_start_time": "2023-12-10T03:03:35.9831754Z",
              "livy_statement_state": "available",
              "parent_msg_id": "7f436288-e1bc-417e-98ed-78e419688fe5",
              "queued_time": "2023-12-10T03:01:20.5431853Z",
              "session_id": "6",
              "session_start_time": null,
              "spark_jobs": null,
              "spark_pool": "ApacheSparkPool",
              "state": "finished",
              "statement_id": 9
            },
            "text/plain": [
              "StatementMeta(ApacheSparkPool, 6, 9, Finished, Available)"
            ]
          },
          "metadata": {},
          "output_type": "display_data"
        },
        {
          "data": {
            "text/plain": [
              "types  \n",
              "object     36\n",
              "int64      10\n",
              "float64    10\n",
              "Name: count, dtype: int64"
            ]
          },
          "execution_count": 19,
          "metadata": {},
          "output_type": "execute_result"
        }
      ],
      "source": [
        "# Count data type\n",
        "dtype = pd.DataFrame(data= {'types': df.dtypes})\n",
        "dtype.value_counts()"
      ]
    },
    {
      "cell_type": "markdown",
      "metadata": {},
      "source": [
        "Trong 56 thuộc tính có 36 thuộc tính kiểu object, 10 kiểu số nguyên, 10 kiểu số thực"
      ]
    },
    {
      "cell_type": "code",
      "execution_count": 90,
      "metadata": {},
      "outputs": [
        {
          "data": {
            "application/vnd.livy.statement-meta+json": {
              "execution_finish_time": "2023-12-10T03:03:36.4165648Z",
              "execution_start_time": "2023-12-10T03:03:36.2539577Z",
              "livy_statement_state": "available",
              "parent_msg_id": "29e1ce0c-f4e4-45e9-aa56-8fd3dae101f0",
              "queued_time": "2023-12-10T03:01:20.6952047Z",
              "session_id": "6",
              "session_start_time": null,
              "spark_jobs": null,
              "spark_pool": "ApacheSparkPool",
              "state": "finished",
              "statement_id": 10
            },
            "text/plain": [
              "StatementMeta(ApacheSparkPool, 6, 10, Finished, Available)"
            ]
          },
          "metadata": {},
          "output_type": "display_data"
        },
        {
          "data": {
            "text/plain": [
              "STUDENT IDENTIFIER             0\n",
              "STDNT_AGE                      0\n",
              "STDNT_GENDER                   0\n",
              "STDNT_BACKGROUND               0\n",
              "IN_STATE_FLAG                  0\n",
              "INTERNATIONAL_STS              0\n",
              "STDNT_MAJOR                    0\n",
              "STDNT_MINOR                    0\n",
              "STDNT_TEST_ENTRANCE1        2294\n",
              "STDNT_TEST_ENTRANCE2         908\n",
              "STDNT_TEST_ENTRANCE_COMB     518\n",
              "FIRST_TERM                     0\n",
              "CORE_COURSE_NAME_1_F           0\n",
              "CORE_COURSE_GRADE_1_F          0\n",
              "CORE_COURSE_NAME_2_F          99\n",
              "CORE_COURSE_GRADE_2_F         99\n",
              "CORE_COURSE_NAME_3_F         565\n",
              "CORE_COURSE_GRADE_3_F        565\n",
              "CORE_COURSE_NAME_4_F        1597\n",
              "CORE_COURSE_GRADE_4_F       1597\n",
              "CORE_COURSE_NAME_5_F        2755\n",
              "CORE_COURSE_GRADE_5_F       2755\n",
              "CORE_COURSE_NAME_6_F        3272\n",
              "CORE_COURSE_GRADE_6_F       3272\n",
              "SECOND_TERM                    0\n",
              "CORE_COURSE_NAME_1_S         157\n",
              "CORE_COURSE_GRADE_1_S        232\n",
              "CORE_COURSE_NAME_2_S         439\n",
              "CORE_COURSE_GRADE_2_S        439\n",
              "CORE_COURSE_NAME_3_S        1038\n",
              "CORE_COURSE_GRADE_3_S       1038\n",
              "CORE_COURSE_NAME_4_S        2045\n",
              "CORE_COURSE_GRADE_4_S       2045\n",
              "CORE_COURSE_NAME_5_S        2950\n",
              "CORE_COURSE_GRADE_5_S       2950\n",
              "CORE_COURSE_NAME_6_S        3319\n",
              "CORE_COURSE_GRADE_6_S       3319\n",
              "HOUSING_STS                    0\n",
              "RETURNED_2ND_YR                0\n",
              "DISTANCE_FROM_HOME            25\n",
              "HIGH_SCHL_GPA                 53\n",
              "HIGH_SCHL_NAME                 1\n",
              "FATHER_HI_EDU_CD             432\n",
              "FATHER_HI_EDU_DESC             0\n",
              "MOTHER_HI_EDU_CD             489\n",
              "MOTHER_HI_EDU_DESC             0\n",
              "DEGREE_GROUP_CD                0\n",
              "DEGREE_GROUP_DESC              0\n",
              "FIRST_TERM_ATTEMPT_HRS         0\n",
              "FIRST_TERM_EARNED_HRS          0\n",
              "SECOND_TERM_ATTEMPT_HRS      206\n",
              "SECOND_TERM_EARNED_HRS       209\n",
              "GROSS_FIN_NEED                 0\n",
              "COST_OF_ATTEND                 0\n",
              "EST_FAM_CONTRIBUTION           0\n",
              "UNMET_NEED                     0\n",
              "dtype: int64"
            ]
          },
          "execution_count": 21,
          "metadata": {},
          "output_type": "execute_result"
        }
      ],
      "source": [
        "# Check if dataset have missing values\n",
        "df.isna().sum()"
      ]
    },
    {
      "cell_type": "markdown",
      "metadata": {},
      "source": [
        "Có tổng cộng 32 thuộc tính có dữ liệu null, trong đó CORE_COURSE_NAME_6_F        và CORE_COURSE_GRADE_6_F có độ mất mát dữ liệu lớn nhất và thuộc tính HIGH_SCHL_NAME có độ mất mất thấp nhất "
      ]
    },
    {
      "cell_type": "code",
      "execution_count": 91,
      "metadata": {},
      "outputs": [
        {
          "data": {
            "application/vnd.livy.statement-meta+json": {
              "execution_finish_time": "2023-12-10T03:03:36.7108262Z",
              "execution_start_time": "2023-12-10T03:03:36.5566244Z",
              "livy_statement_state": "available",
              "parent_msg_id": "49b6c871-9ab6-4ffc-aaf0-97ca3dc56133",
              "queued_time": "2023-12-10T03:01:20.8453115Z",
              "session_id": "6",
              "session_start_time": null,
              "spark_jobs": null,
              "spark_pool": "ApacheSparkPool",
              "state": "finished",
              "statement_id": 11
            },
            "text/plain": [
              "StatementMeta(ApacheSparkPool, 6, 11, Finished, Available)"
            ]
          },
          "metadata": {},
          "output_type": "display_data"
        },
        {
          "name": "stdout",
          "output_type": "stream",
          "text": [
            "Number missing samples: 3399\n",
            "Percent missing samples: 99.97058823529412\n"
          ]
        }
      ],
      "source": [
        "# Calculate percent of missing values and sample\n",
        "missing_samples = df.isna().any(axis=1).sum()\n",
        "percent_missing = (missing_samples / len(df)) * 100\n",
        "\n",
        "print('Number missing samples:', missing_samples)\n",
        "print('Percent missing samples:', percent_missing)"
      ]
    },
    {
      "cell_type": "markdown",
      "metadata": {},
      "source": [
        "Có thể thấy có 3399/3400 dòng dữ liệu bị mất dữ liệu và chiếm khoảng 99,9 % => Mất mát dữ liệu nghiệm trọng"
      ]
    },
    {
      "cell_type": "code",
      "execution_count": 92,
      "metadata": {},
      "outputs": [
        {
          "data": {
            "application/vnd.livy.statement-meta+json": {
              "execution_finish_time": "2023-12-10T03:03:37.0043274Z",
              "execution_start_time": "2023-12-10T03:03:36.8486276Z",
              "livy_statement_state": "available",
              "parent_msg_id": "40897415-4644-49b8-90d8-27b696d25025",
              "queued_time": "2023-12-10T03:01:20.9911604Z",
              "session_id": "6",
              "session_start_time": null,
              "spark_jobs": null,
              "spark_pool": "ApacheSparkPool",
              "state": "finished",
              "statement_id": 12
            },
            "text/plain": [
              "StatementMeta(ApacheSparkPool, 6, 12, Finished, Available)"
            ]
          },
          "metadata": {},
          "output_type": "display_data"
        },
        {
          "name": "stdout",
          "output_type": "stream",
          "text": [
            "Number missing    41682.000\n",
            "Percent %            21.892\n",
            "dtype: float64\n",
            "                          Number missing  Percent %\n",
            "CORE_COURSE_GRADE_6_S               3319     97.618\n",
            "CORE_COURSE_NAME_6_S                3319     97.618\n",
            "CORE_COURSE_NAME_6_F                3272     96.235\n",
            "CORE_COURSE_GRADE_6_F               3272     96.235\n",
            "CORE_COURSE_GRADE_5_S               2950     86.765\n",
            "CORE_COURSE_NAME_5_S                2950     86.765\n",
            "CORE_COURSE_GRADE_5_F               2755     81.029\n",
            "CORE_COURSE_NAME_5_F                2755     81.029\n",
            "STDNT_TEST_ENTRANCE1                2294     67.471\n",
            "CORE_COURSE_NAME_4_S                2045     60.147\n",
            "CORE_COURSE_GRADE_4_S               2045     60.147\n",
            "CORE_COURSE_NAME_4_F                1597     46.971\n",
            "CORE_COURSE_GRADE_4_F               1597     46.971\n",
            "CORE_COURSE_GRADE_3_S               1038     30.529\n",
            "CORE_COURSE_NAME_3_S                1038     30.529\n",
            "STDNT_TEST_ENTRANCE2                 908     26.706\n",
            "CORE_COURSE_NAME_3_F                 565     16.618\n",
            "CORE_COURSE_GRADE_3_F                565     16.618\n",
            "STDNT_TEST_ENTRANCE_COMB             518     15.235\n",
            "MOTHER_HI_EDU_CD                     489     14.382\n",
            "CORE_COURSE_NAME_2_S                 439     12.912\n",
            "CORE_COURSE_GRADE_2_S                439     12.912\n",
            "FATHER_HI_EDU_CD                     432     12.706\n",
            "CORE_COURSE_GRADE_1_S                232      6.824\n",
            "SECOND_TERM_EARNED_HRS               209      6.147\n",
            "SECOND_TERM_ATTEMPT_HRS              206      6.059\n",
            "CORE_COURSE_NAME_1_S                 157      4.618\n",
            "CORE_COURSE_GRADE_2_F                 99      2.912\n",
            "CORE_COURSE_NAME_2_F                  99      2.912\n",
            "HIGH_SCHL_GPA                         53      1.559\n",
            "DISTANCE_FROM_HOME                    25      0.735\n",
            "HIGH_SCHL_NAME                         1      0.029\n"
          ]
        }
      ],
      "source": [
        "# Calculate percentage of missing values for each features and total missing values for all features\n",
        "missing_data = pd.DataFrame({\n",
        "    'Number missing': df.isna().sum(),\n",
        "    'Percent %': (df.isna().sum() * 100 / len(df)).round(3)\n",
        "})\n",
        "missing_data.sort_values(by='Percent %', ascending=False, inplace=True)\n",
        "\n",
        "missing_data_total = pd.DataFrame({\n",
        "    'Number missing': df.isna().sum(),\n",
        "    'Percent %': (df.isna().sum() * 100 / df.size).round(3)\n",
        "})\n",
        "\n",
        "print(missing_data_total.sum())\n",
        "print(missing_data.head(32))"
      ]
    },
    {
      "cell_type": "markdown",
      "metadata": {},
      "source": [
        "Ta thấy có 41682 giá trị còn null và chiếm khoảng 21,89 % tổng giá trị\n",
        "+ Các Thuộc tính CORE_COURSE_GRADE_6_S, CORE_COURSE_NAME_6_S,CORE_COURSE_GRADE_6_S có độ mất mát lớn nhất (97%) tiếp đến là các thuộc tính khác và thấp nhất  là HIGH_SHL_NAME (0.02 %)"
      ]
    },
    {
      "cell_type": "code",
      "execution_count": 93,
      "metadata": {},
      "outputs": [
        {
          "data": {
            "application/vnd.livy.statement-meta+json": {
              "execution_finish_time": "2023-12-10T03:03:38.2677764Z",
              "execution_start_time": "2023-12-10T03:03:37.1446864Z",
              "livy_statement_state": "available",
              "parent_msg_id": "44b93187-65da-4112-8dd2-bc8aa02da201",
              "queued_time": "2023-12-10T03:01:21.1434578Z",
              "session_id": "6",
              "session_start_time": null,
              "spark_jobs": null,
              "spark_pool": "ApacheSparkPool",
              "state": "finished",
              "statement_id": 13
            },
            "text/plain": [
              "StatementMeta(ApacheSparkPool, 6, 13, Finished, Available)"
            ]
          },
          "metadata": {},
          "output_type": "display_data"
        },
        {
          "name": "stderr",
          "output_type": "stream",
          "text": [
            "/home/trusted-service-user/cluster-env/env/lib/python3.10/site-packages/seaborn/_oldcore.py:1498: FutureWarning: is_categorical_dtype is deprecated and will be removed in a future version. Use isinstance(dtype, CategoricalDtype) instead\n",
            "  if pd.api.types.is_categorical_dtype(vector):\n",
            "/home/trusted-service-user/cluster-env/env/lib/python3.10/site-packages/seaborn/_oldcore.py:1498: FutureWarning: is_categorical_dtype is deprecated and will be removed in a future version. Use isinstance(dtype, CategoricalDtype) instead\n",
            "  if pd.api.types.is_categorical_dtype(vector):\n",
            "/home/trusted-service-user/cluster-env/env/lib/python3.10/site-packages/seaborn/_oldcore.py:1498: FutureWarning: is_categorical_dtype is deprecated and will be removed in a future version. Use isinstance(dtype, CategoricalDtype) instead\n",
            "  if pd.api.types.is_categorical_dtype(vector):\n"
          ]
        },
        {
          "data": {
            "image/png": "[encoded data removed]",
            "text/plain": [
              "<Figure size 1000x1000 with 1 Axes>"
            ]
          },
          "metadata": {},
          "output_type": "display_data"
        }
      ],
      "source": [
        "plt.figure(figsize=(10, 10))\n",
        "ax = sns.barplot(x=missing_data.head(32).index, y=missing_data.head(32)['Percent %'])\n",
        "ax.bar_label(ax.containers[0],rotation=90)\n",
        "# Hiển thị bảng ghi chú\n",
        "plt.xticks(rotation=90)\n",
        "plt.xlabel('Features')\n",
        "plt.ylabel('Percent')\n",
        "plt.title('Percent Missing')\n",
        "\n",
        "plt.show()"
      ]
    },
    {
      "cell_type": "markdown",
      "metadata": {},
      "source": [
        "# Tiền xử lý dữ liệu"
      ]
    },
    {
      "cell_type": "markdown",
      "metadata": {},
      "source": [
        "## Handling missing data"
      ]
    },
    {
      "cell_type": "code",
      "execution_count": 94,
      "metadata": {},
      "outputs": [
        {
          "data": {
            "application/vnd.livy.statement-meta+json": {
              "execution_finish_time": "2023-12-10T03:03:38.6002891Z",
              "execution_start_time": "2023-12-10T03:03:38.4417312Z",
              "livy_statement_state": "available",
              "parent_msg_id": "8114dc73-3624-422c-913c-36208972f2ca",
              "queued_time": "2023-12-10T03:01:21.2943547Z",
              "session_id": "6",
              "session_start_time": null,
              "spark_jobs": null,
              "spark_pool": "ApacheSparkPool",
              "state": "finished",
              "statement_id": 14
            },
            "text/plain": [
              "StatementMeta(ApacheSparkPool, 6, 14, Finished, Available)"
            ]
          },
          "metadata": {},
          "output_type": "display_data"
        }
      ],
      "source": [
        "# Xóa tất cả các dòng đều null ở tất cả các thuộc tính\n",
        "df = df.dropna(how='all')"
      ]
    },
    {
      "cell_type": "code",
      "execution_count": 95,
      "metadata": {},
      "outputs": [
        {
          "data": {
            "application/vnd.livy.statement-meta+json": {
              "execution_finish_time": "2023-12-10T03:03:38.8946689Z",
              "execution_start_time": "2023-12-10T03:03:38.7370122Z",
              "livy_statement_state": "available",
              "parent_msg_id": "f3ef0ef6-0624-4b9c-a90b-bf4613f37bcd",
              "queued_time": "2023-12-10T03:01:21.4719668Z",
              "session_id": "6",
              "session_start_time": null,
              "spark_jobs": null,
              "spark_pool": "ApacheSparkPool",
              "state": "finished",
              "statement_id": 15
            },
            "text/plain": [
              "StatementMeta(ApacheSparkPool, 6, 15, Finished, Available)"
            ]
          },
          "metadata": {},
          "output_type": "display_data"
        }
      ],
      "source": [
        "# Tiến hành loại bỏ các thuộc tính có độ mất mát dữ liệu lớn hơn 40 %\n",
        "df = df.drop(columns=[\n",
        "    'CORE_COURSE_GRADE_6_S',\n",
        "    'CORE_COURSE_NAME_6_S',\n",
        "    'CORE_COURSE_NAME_6_F',\n",
        "    'CORE_COURSE_GRADE_6_F',\n",
        "    'CORE_COURSE_GRADE_5_S',\n",
        "    'CORE_COURSE_NAME_5_S',\n",
        "    'CORE_COURSE_GRADE_5_F',\n",
        "    'CORE_COURSE_NAME_5_F',\n",
        "    'STDNT_TEST_ENTRANCE1',\n",
        "    'CORE_COURSE_NAME_4_S',\n",
        "    'CORE_COURSE_GRADE_4_S',\n",
        "    'CORE_COURSE_NAME_4_F',\n",
        "    'CORE_COURSE_GRADE_4_F'\n",
        "], axis=1)"
      ]
    },
    {
      "cell_type": "markdown",
      "metadata": {},
      "source": [
        "##### *HIGH_SCHL_NAME* (number missing =1)"
      ]
    },
    {
      "cell_type": "code",
      "execution_count": 96,
      "metadata": {},
      "outputs": [
        {
          "data": {
            "application/vnd.livy.statement-meta+json": {
              "execution_finish_time": "2023-12-10T03:03:39.1975808Z",
              "execution_start_time": "2023-12-10T03:03:39.03628Z",
              "livy_statement_state": "available",
              "parent_msg_id": "86b27a2e-d69f-4dd3-9831-844c55cbeb88",
              "queued_time": "2023-12-10T03:01:21.6664904Z",
              "session_id": "6",
              "session_start_time": null,
              "spark_jobs": null,
              "spark_pool": "ApacheSparkPool",
              "state": "finished",
              "statement_id": 16
            },
            "text/plain": [
              "StatementMeta(ApacheSparkPool, 6, 16, Finished, Available)"
            ]
          },
          "metadata": {},
          "output_type": "display_data"
        },
        {
          "data": {
            "text/plain": [
              "count          3399\n",
              "unique          439\n",
              "top       SCHOOL 11\n",
              "freq            249\n",
              "Name: HIGH_SCHL_NAME, dtype: object"
            ]
          },
          "execution_count": 33,
          "metadata": {},
          "output_type": "execute_result"
        }
      ],
      "source": [
        "df['HIGH_SCHL_NAME'].describe()"
      ]
    },
    {
      "cell_type": "code",
      "execution_count": 97,
      "metadata": {},
      "outputs": [
        {
          "data": {
            "application/vnd.livy.statement-meta+json": {
              "execution_finish_time": "2023-12-10T03:03:39.4899145Z",
              "execution_start_time": "2023-12-10T03:03:39.3330414Z",
              "livy_statement_state": "available",
              "parent_msg_id": "8eefaddb-ab3c-4ce2-8e65-d4606e6b9276",
              "queued_time": "2023-12-10T03:01:21.8268246Z",
              "session_id": "6",
              "session_start_time": null,
              "spark_jobs": null,
              "spark_pool": "ApacheSparkPool",
              "state": "finished",
              "statement_id": 17
            },
            "text/plain": [
              "StatementMeta(ApacheSparkPool, 6, 17, Finished, Available)"
            ]
          },
          "metadata": {},
          "output_type": "display_data"
        }
      ],
      "source": [
        "df['HIGH_SCHL_NAME'].fillna('SCHOOL 11', inplace=True)"
      ]
    },
    {
      "cell_type": "code",
      "execution_count": 98,
      "metadata": {},
      "outputs": [
        {
          "data": {
            "application/vnd.livy.statement-meta+json": {
              "execution_finish_time": "2023-12-10T03:03:39.7704038Z",
              "execution_start_time": "2023-12-10T03:03:39.616799Z",
              "livy_statement_state": "available",
              "parent_msg_id": "20b6c210-e054-4bd1-bb37-39b4f136575f",
              "queued_time": "2023-12-10T03:01:21.9849949Z",
              "session_id": "6",
              "session_start_time": null,
              "spark_jobs": null,
              "spark_pool": "ApacheSparkPool",
              "state": "finished",
              "statement_id": 18
            },
            "text/plain": [
              "StatementMeta(ApacheSparkPool, 6, 18, Finished, Available)"
            ]
          },
          "metadata": {},
          "output_type": "display_data"
        },
        {
          "data": {
            "text/plain": [
              "0"
            ]
          },
          "execution_count": 37,
          "metadata": {},
          "output_type": "execute_result"
        }
      ],
      "source": [
        "df['HIGH_SCHL_NAME'].isnull().sum()"
      ]
    },
    {
      "cell_type": "markdown",
      "metadata": {},
      "source": [
        "##### *DISTANCE_FROM_HOME* (number missing =25)"
      ]
    },
    {
      "cell_type": "code",
      "execution_count": 99,
      "metadata": {},
      "outputs": [
        {
          "data": {
            "application/vnd.livy.statement-meta+json": {
              "execution_finish_time": "2023-12-10T03:03:40.0516242Z",
              "execution_start_time": "2023-12-10T03:03:39.9052534Z",
              "livy_statement_state": "available",
              "parent_msg_id": "be8dd91a-969b-4902-9c4b-b39adfe653ee",
              "queued_time": "2023-12-10T03:01:22.128244Z",
              "session_id": "6",
              "session_start_time": null,
              "spark_jobs": null,
              "spark_pool": "ApacheSparkPool",
              "state": "finished",
              "statement_id": 19
            },
            "text/plain": [
              "StatementMeta(ApacheSparkPool, 6, 19, Finished, Available)"
            ]
          },
          "metadata": {},
          "output_type": "display_data"
        },
        {
          "data": {
            "text/plain": [
              "count    3375.000000\n",
              "mean       99.825185\n",
              "std       235.196984\n",
              "min         0.000000\n",
              "25%        69.000000\n",
              "50%        69.000000\n",
              "75%       138.000000\n",
              "max      5932.000000\n",
              "Name: DISTANCE_FROM_HOME, dtype: float64"
            ]
          },
          "execution_count": 39,
          "metadata": {},
          "output_type": "execute_result"
        }
      ],
      "source": [
        "df['DISTANCE_FROM_HOME'].describe()"
      ]
    },
    {
      "cell_type": "code",
      "execution_count": 100,
      "metadata": {},
      "outputs": [
        {
          "data": {
            "application/vnd.livy.statement-meta+json": {
              "execution_finish_time": "2023-12-10T03:03:40.7275391Z",
              "execution_start_time": "2023-12-10T03:03:40.1938043Z",
              "livy_statement_state": "available",
              "parent_msg_id": "797f83e5-2983-49ea-9739-43c4241438aa",
              "queued_time": "2023-12-10T03:01:22.2831654Z",
              "session_id": "6",
              "session_start_time": null,
              "spark_jobs": null,
              "spark_pool": "ApacheSparkPool",
              "state": "finished",
              "statement_id": 20
            },
            "text/plain": [
              "StatementMeta(ApacheSparkPool, 6, 20, Finished, Available)"
            ]
          },
          "metadata": {},
          "output_type": "display_data"
        },
        {
          "name": "stderr",
          "output_type": "stream",
          "text": [
            "/home/trusted-service-user/cluster-env/env/lib/python3.10/site-packages/seaborn/_oldcore.py:1498: FutureWarning: is_categorical_dtype is deprecated and will be removed in a future version. Use isinstance(dtype, CategoricalDtype) instead\n",
            "  if pd.api.types.is_categorical_dtype(vector):\n"
          ]
        },
        {
          "data": {
            "image/png": "[encoded data removed]",
            "text/plain": [
              "<Figure size 640x480 with 1 Axes>"
            ]
          },
          "metadata": {},
          "output_type": "display_data"
        }
      ],
      "source": [
        "sns.boxplot(x=df['DISTANCE_FROM_HOME'])\n",
        "plt.title('Boxplot of DISTANCE_FROM_HOME')\n",
        "plt.show()"
      ]
    },
    {
      "cell_type": "code",
      "execution_count": 101,
      "metadata": {},
      "outputs": [
        {
          "data": {
            "application/vnd.livy.statement-meta+json": {
              "execution_finish_time": "2023-12-10T03:03:41.0226761Z",
              "execution_start_time": "2023-12-10T03:03:40.8653415Z",
              "livy_statement_state": "available",
              "parent_msg_id": "9ebdf27a-22eb-451f-9127-f7e465d04c36",
              "queued_time": "2023-12-10T03:01:22.4271811Z",
              "session_id": "6",
              "session_start_time": null,
              "spark_jobs": null,
              "spark_pool": "ApacheSparkPool",
              "state": "finished",
              "statement_id": 21
            },
            "text/plain": [
              "StatementMeta(ApacheSparkPool, 6, 21, Finished, Available)"
            ]
          },
          "metadata": {},
          "output_type": "display_data"
        }
      ],
      "source": [
        "# Dựa vào biểu đồ phân phối dữ liệu ta thấy thuộc tính có nhiều giá trị outlier\n",
        "# Phương pháp tối ưu là sử dụng median (trung vị)\n",
        "df['DISTANCE_FROM_HOME'].fillna(df['DISTANCE_FROM_HOME'].median(), inplace=True)"
      ]
    },
    {
      "cell_type": "code",
      "execution_count": 102,
      "metadata": {},
      "outputs": [
        {
          "data": {
            "application/vnd.livy.statement-meta+json": {
              "execution_finish_time": "2023-12-10T03:03:42.0064884Z",
              "execution_start_time": "2023-12-10T03:03:41.8370434Z",
              "livy_statement_state": "available",
              "parent_msg_id": "7ed5fcad-2fc7-4e27-8384-b9c7b656b8e4",
              "queued_time": "2023-12-10T03:01:22.5567973Z",
              "session_id": "6",
              "session_start_time": null,
              "spark_jobs": null,
              "spark_pool": "ApacheSparkPool",
              "state": "finished",
              "statement_id": 22
            },
            "text/plain": [
              "StatementMeta(ApacheSparkPool, 6, 22, Finished, Available)"
            ]
          },
          "metadata": {},
          "output_type": "display_data"
        },
        {
          "data": {
            "text/plain": [
              "0"
            ]
          },
          "execution_count": 45,
          "metadata": {},
          "output_type": "execute_result"
        }
      ],
      "source": [
        "df['DISTANCE_FROM_HOME'].isnull().sum()"
      ]
    },
    {
      "cell_type": "markdown",
      "metadata": {},
      "source": [
        "##### *HIGH_SCHL_GPA* (number missing = 53)"
      ]
    },
    {
      "cell_type": "code",
      "execution_count": 103,
      "metadata": {},
      "outputs": [
        {
          "data": {
            "application/vnd.livy.statement-meta+json": {
              "execution_finish_time": "2023-12-10T03:03:42.2871283Z",
              "execution_start_time": "2023-12-10T03:03:42.1335558Z",
              "livy_statement_state": "available",
              "parent_msg_id": "e8b6aaf2-149f-45aa-928b-89fc46084205",
              "queued_time": "2023-12-10T03:01:22.6897264Z",
              "session_id": "6",
              "session_start_time": null,
              "spark_jobs": null,
              "spark_pool": "ApacheSparkPool",
              "state": "finished",
              "statement_id": 23
            },
            "text/plain": [
              "StatementMeta(ApacheSparkPool, 6, 23, Finished, Available)"
            ]
          },
          "metadata": {},
          "output_type": "display_data"
        },
        {
          "data": {
            "text/plain": [
              "count    3347.000000\n",
              "mean        3.202738\n",
              "std         0.455337\n",
              "min         0.000000\n",
              "25%         2.870000\n",
              "50%         3.200000\n",
              "75%         3.560000\n",
              "max         4.000000\n",
              "Name: HIGH_SCHL_GPA, dtype: float64"
            ]
          },
          "execution_count": 47,
          "metadata": {},
          "output_type": "execute_result"
        }
      ],
      "source": [
        "df['HIGH_SCHL_GPA'].describe()"
      ]
    },
    {
      "cell_type": "code",
      "execution_count": 104,
      "metadata": {},
      "outputs": [
        {
          "data": {
            "application/vnd.livy.statement-meta+json": {
              "execution_finish_time": "2023-12-10T03:03:42.9308988Z",
              "execution_start_time": "2023-12-10T03:03:42.4239694Z",
              "livy_statement_state": "available",
              "parent_msg_id": "82575b3c-1ca1-4a78-8e6d-02a3efab734d",
              "queued_time": "2023-12-10T03:01:22.8270313Z",
              "session_id": "6",
              "session_start_time": null,
              "spark_jobs": null,
              "spark_pool": "ApacheSparkPool",
              "state": "finished",
              "statement_id": 24
            },
            "text/plain": [
              "StatementMeta(ApacheSparkPool, 6, 24, Finished, Available)"
            ]
          },
          "metadata": {},
          "output_type": "display_data"
        },
        {
          "name": "stderr",
          "output_type": "stream",
          "text": [
            "/home/trusted-service-user/cluster-env/env/lib/python3.10/site-packages/seaborn/_oldcore.py:1498: FutureWarning: is_categorical_dtype is deprecated and will be removed in a future version. Use isinstance(dtype, CategoricalDtype) instead\n",
            "  if pd.api.types.is_categorical_dtype(vector):\n"
          ]
        },
        {
          "data": {
            "image/png": "[encoded data removed]",
            "text/plain": [
              "<Figure size 640x480 with 1 Axes>"
            ]
          },
          "metadata": {},
          "output_type": "display_data"
        }
      ],
      "source": [
        "sns.boxplot(x=df['HIGH_SCHL_GPA'])\n",
        "plt.title('Boxplot of HIGH_SCHL_GPA')\n",
        "plt.show()"
      ]
    },
    {
      "cell_type": "code",
      "execution_count": 105,
      "metadata": {},
      "outputs": [
        {
          "data": {
            "application/vnd.livy.statement-meta+json": {
              "execution_finish_time": "2023-12-10T03:03:43.2114323Z",
              "execution_start_time": "2023-12-10T03:03:43.0594124Z",
              "livy_statement_state": "available",
              "parent_msg_id": "fab27df2-4112-4670-a363-6be456367407",
              "queued_time": "2023-12-10T03:01:22.9833616Z",
              "session_id": "6",
              "session_start_time": null,
              "spark_jobs": null,
              "spark_pool": "ApacheSparkPool",
              "state": "finished",
              "statement_id": 25
            },
            "text/plain": [
              "StatementMeta(ApacheSparkPool, 6, 25, Finished, Available)"
            ]
          },
          "metadata": {},
          "output_type": "display_data"
        }
      ],
      "source": [
        "# Đồ thị ít biến động và không có outlier, sử dụng mean để điền các giá trị thiếu\n",
        "df['HIGH_SCHL_GPA'].fillna(df['HIGH_SCHL_GPA'].mean(), inplace=True)"
      ]
    },
    {
      "cell_type": "code",
      "execution_count": 106,
      "metadata": {},
      "outputs": [
        {
          "data": {
            "application/vnd.livy.statement-meta+json": {
              "execution_finish_time": "2023-12-10T03:03:43.4909373Z",
              "execution_start_time": "2023-12-10T03:03:43.3358539Z",
              "livy_statement_state": "available",
              "parent_msg_id": "7f7458ce-6faf-4f82-8d0e-ceea480a7907",
              "queued_time": "2023-12-10T03:01:23.1105083Z",
              "session_id": "6",
              "session_start_time": null,
              "spark_jobs": null,
              "spark_pool": "ApacheSparkPool",
              "state": "finished",
              "statement_id": 26
            },
            "text/plain": [
              "StatementMeta(ApacheSparkPool, 6, 26, Finished, Available)"
            ]
          },
          "metadata": {},
          "output_type": "display_data"
        },
        {
          "data": {
            "text/plain": [
              "0"
            ]
          },
          "execution_count": 53,
          "metadata": {},
          "output_type": "execute_result"
        }
      ],
      "source": [
        "df['HIGH_SCHL_GPA'].isnull().sum()"
      ]
    },
    {
      "cell_type": "markdown",
      "metadata": {},
      "source": [
        "##### *CORE_COURSE_GRADE* : 3S,3F,2S,2F,1S"
      ]
    },
    {
      "cell_type": "code",
      "execution_count": 107,
      "metadata": {},
      "outputs": [
        {
          "data": {
            "application/vnd.livy.statement-meta+json": {
              "execution_finish_time": "2023-12-10T03:03:43.7895716Z",
              "execution_start_time": "2023-12-10T03:03:43.6389794Z",
              "livy_statement_state": "available",
              "parent_msg_id": "63d8d845-21d9-4ae5-b798-32f429b8f748",
              "queued_time": "2023-12-10T03:01:23.2571618Z",
              "session_id": "6",
              "session_start_time": null,
              "spark_jobs": null,
              "spark_pool": "ApacheSparkPool",
              "state": "finished",
              "statement_id": 27
            },
            "text/plain": [
              "StatementMeta(ApacheSparkPool, 6, 27, Finished, Available)"
            ]
          },
          "metadata": {},
          "output_type": "display_data"
        },
        {
          "data": {
            "text/plain": [
              "CORE_COURSE_GRADE_1_S\n",
              "C          906\n",
              "B          896\n",
              "D          501\n",
              "F          421\n",
              "A          366\n",
              "NOT REP     47\n",
              "INCOMPL     26\n",
              "Unknown      5\n",
              "Name: count, dtype: int64"
            ]
          },
          "execution_count": 55,
          "metadata": {},
          "output_type": "execute_result"
        }
      ],
      "source": [
        "df['CORE_COURSE_GRADE_1_S'].value_counts()"
      ]
    },
    {
      "cell_type": "markdown",
      "metadata": {},
      "source": [
        "Ta thấy về cơ bản thang chấm điểm của các khóa học sẽ bao gồm:\n",
        "+ Điểm A,B,C,D,F\n",
        "+ NOT REP: Không báo cáo điểm số. Có thể đây là giá trị được sử dụng khi không có thông tin về điểm số.\n",
        "+ INCOMPL: Không hoàn thành. Có thể đây là giá trị được sử dụng khi sinh viên không hoàn thành khóa học.\n",
        "+ Các giá trị null trong các cột về điểm số sẽ đại diện cho ý nghĩa rằng sinh viên đó không được chấm điểm do lý do nào đó"
      ]
    },
    {
      "cell_type": "code",
      "execution_count": 108,
      "metadata": {},
      "outputs": [
        {
          "data": {
            "application/vnd.livy.statement-meta+json": {
              "execution_finish_time": "2023-12-10T03:03:44.0866166Z",
              "execution_start_time": "2023-12-10T03:03:43.9325931Z",
              "livy_statement_state": "available",
              "parent_msg_id": "9dfe8e49-d94c-41ae-a597-e8b91bd6edce",
              "queued_time": "2023-12-10T03:01:23.4107365Z",
              "session_id": "6",
              "session_start_time": null,
              "spark_jobs": null,
              "spark_pool": "ApacheSparkPool",
              "state": "finished",
              "statement_id": 28
            },
            "text/plain": [
              "StatementMeta(ApacheSparkPool, 6, 28, Finished, Available)"
            ]
          },
          "metadata": {},
          "output_type": "display_data"
        }
      ],
      "source": [
        "# Thay thế các giá trị ở các cột điểm số bằng giá trị NG (Not Graded)\n",
        "df[['CORE_COURSE_GRADE_1_S','CORE_COURSE_GRADE_2_F','CORE_COURSE_GRADE_2_S',\n",
        "   'CORE_COURSE_GRADE_3_F','CORE_COURSE_GRADE_3_S']]=df[['CORE_COURSE_GRADE_1_S','CORE_COURSE_GRADE_2_F','CORE_COURSE_GRADE_2_S',\n",
        "   'CORE_COURSE_GRADE_3_F','CORE_COURSE_GRADE_3_S']].fillna(value=\"NG\")"
      ]
    },
    {
      "cell_type": "code",
      "execution_count": 109,
      "metadata": {},
      "outputs": [
        {
          "data": {
            "application/vnd.livy.statement-meta+json": {
              "execution_finish_time": "2023-12-10T03:03:44.38136Z",
              "execution_start_time": "2023-12-10T03:03:44.2242506Z",
              "livy_statement_state": "available",
              "parent_msg_id": "1e9252fa-c177-4c1d-b0e0-f730920587a0",
              "queued_time": "2023-12-10T03:01:23.6225133Z",
              "session_id": "6",
              "session_start_time": null,
              "spark_jobs": null,
              "spark_pool": "ApacheSparkPool",
              "state": "finished",
              "statement_id": 29
            },
            "text/plain": [
              "StatementMeta(ApacheSparkPool, 6, 29, Finished, Available)"
            ]
          },
          "metadata": {},
          "output_type": "display_data"
        },
        {
          "data": {
            "text/plain": [
              "CORE_COURSE_GRADE_1_S    0\n",
              "CORE_COURSE_GRADE_2_F    0\n",
              "CORE_COURSE_GRADE_2_S    0\n",
              "CORE_COURSE_GRADE_3_F    0\n",
              "CORE_COURSE_GRADE_3_S    0\n",
              "dtype: int64"
            ]
          },
          "execution_count": 59,
          "metadata": {},
          "output_type": "execute_result"
        }
      ],
      "source": [
        "df[['CORE_COURSE_GRADE_1_S','CORE_COURSE_GRADE_2_F','CORE_COURSE_GRADE_2_S',\n",
        "   'CORE_COURSE_GRADE_3_F','CORE_COURSE_GRADE_3_S']].isnull().sum()"
      ]
    },
    {
      "cell_type": "markdown",
      "metadata": {},
      "source": [
        "##### *CORE_COURSE_NAME* : 3S,3F,2S,2F,1S"
      ]
    },
    {
      "cell_type": "code",
      "execution_count": 110,
      "metadata": {},
      "outputs": [
        {
          "data": {
            "application/vnd.livy.statement-meta+json": {
              "execution_finish_time": "2023-12-10T03:03:44.6630651Z",
              "execution_start_time": "2023-12-10T03:03:44.5139664Z",
              "livy_statement_state": "available",
              "parent_msg_id": "b88c400c-9772-4d28-a6dc-8e82a2b7d374",
              "queued_time": "2023-12-10T03:01:23.7536485Z",
              "session_id": "6",
              "session_start_time": null,
              "spark_jobs": null,
              "spark_pool": "ApacheSparkPool",
              "state": "finished",
              "statement_id": 30
            },
            "text/plain": [
              "StatementMeta(ApacheSparkPool, 6, 30, Finished, Available)"
            ]
          },
          "metadata": {},
          "output_type": "display_data"
        },
        {
          "data": {
            "text/plain": [
              "array(['CHEM 1151', 'ECON 2105', 'ENGL 1102', 'COMM 1110', 'BIOL 1215K',\n",
              "       'ECON 2106', 'SPAN 1001', 'MATH 1101', 'ARTH 1100', 'BIOL 1225K',\n",
              "       'HIST 2112', 'COMM 1110H', 'CPSC 1105', 'HIST 2111', 'ITDS 2726',\n",
              "       'MATH 1111', 'GEOG 1101I', 'ANTH 1107', 'ENGL 1101', 'ASTR 1105',\n",
              "       'COMM 1110I', 'ANTH 1105I', 'BIOL 1125', 'CPSC 1301', 'ANTH 1105',\n",
              "       'STAT 1127', 'CHEM 1211', 'MUSC 1100', 'FREN 1001', 'SPAN 1002',\n",
              "       'ENGL 2111', 'GEOL 1121', 'ITDS 1145', 'ENVS 1105', 'GEOL 1121L',\n",
              "       'POLS 1101', 'PSYC 1101', 'THEA 1100', 'MATH 1131', 'ENGL 2136',\n",
              "       'MATH 1113', 'FREN 1002', 'CHEM 1151L', 'HIST 1111', 'ITDS 1156',\n",
              "       'GEOL 1110', 'ITDS 2735', 'MATH 1132', 'POLS 2401', 'PHYS 1125',\n",
              "       'SOCI 1101', 'CHEM 1211L', 'MATH 2125', 'FREN 2001', 'HIST 1112',\n",
              "       'HIST 1112I', 'ITDS 1155', 'FREN 2002', 'ENGL 1101I', 'MATH 1125',\n",
              "       'MATH 2115', 'CPSC 1301L', 'ITDS 2749', 'ITDS 2727', 'POLS 1101H',\n",
              "       'ITDS 2748', nan], dtype=object)"
            ]
          },
          "execution_count": 61,
          "metadata": {},
          "output_type": "execute_result"
        }
      ],
      "source": [
        "df['CORE_COURSE_NAME_1_S'].unique()"
      ]
    },
    {
      "cell_type": "markdown",
      "metadata": {},
      "source": [
        "Có nhiều môn học theo từng chuyên ngành mà sinh viên theo học"
      ]
    },
    {
      "cell_type": "code",
      "execution_count": 111,
      "metadata": {},
      "outputs": [
        {
          "data": {
            "application/vnd.livy.statement-meta+json": {
              "execution_finish_time": "2023-12-10T03:03:44.9780409Z",
              "execution_start_time": "2023-12-10T03:03:44.8133732Z",
              "livy_statement_state": "available",
              "parent_msg_id": "2aee6947-7b41-4636-8d52-c630d2de2015",
              "queued_time": "2023-12-10T03:01:23.8930708Z",
              "session_id": "6",
              "session_start_time": null,
              "spark_jobs": null,
              "spark_pool": "ApacheSparkPool",
              "state": "finished",
              "statement_id": 31
            },
            "text/plain": [
              "StatementMeta(ApacheSparkPool, 6, 31, Finished, Available)"
            ]
          },
          "metadata": {},
          "output_type": "display_data"
        },
        {
          "data": {
            "text/plain": [
              "CORE_COURSE_NAME_1_S\n",
              "ENGL 1102     627\n",
              "COMM 1110     241\n",
              "POLS 1101     204\n",
              "HIST 2111     196\n",
              "MATH 1111     187\n",
              "             ... \n",
              "ENGL 1101I      1\n",
              "MATH 2115       1\n",
              "ITDS 2727       1\n",
              "POLS 1101H      1\n",
              "ITDS 2748       1\n",
              "Name: count, Length: 66, dtype: int64"
            ]
          },
          "execution_count": 63,
          "metadata": {},
          "output_type": "execute_result"
        }
      ],
      "source": [
        "df['CORE_COURSE_NAME_1_S'].value_counts()"
      ]
    },
    {
      "cell_type": "code",
      "execution_count": 112,
      "metadata": {},
      "outputs": [
        {
          "data": {
            "application/vnd.livy.statement-meta+json": {
              "execution_finish_time": "2023-12-10T03:03:45.2935789Z",
              "execution_start_time": "2023-12-10T03:03:45.1194097Z",
              "livy_statement_state": "available",
              "parent_msg_id": "a61e2e7a-98c3-4a72-9829-f606e1c544c7",
              "queued_time": "2023-12-10T03:01:24.0324139Z",
              "session_id": "6",
              "session_start_time": null,
              "spark_jobs": null,
              "spark_pool": "ApacheSparkPool",
              "state": "finished",
              "statement_id": 32
            },
            "text/plain": [
              "StatementMeta(ApacheSparkPool, 6, 32, Finished, Available)"
            ]
          },
          "metadata": {},
          "output_type": "display_data"
        }
      ],
      "source": [
        "# Thay thế các giá trị null ở các cột về tên khóa học bằng giá trị Unknown (Unknown)\n",
        "df[['CORE_COURSE_NAME_1_S','CORE_COURSE_NAME_2_F','CORE_COURSE_NAME_2_S',\n",
        "   'CORE_COURSE_NAME_3_F','CORE_COURSE_NAME_3_S']]=df[['CORE_COURSE_NAME_1_S','CORE_COURSE_NAME_2_F','CORE_COURSE_NAME_2_S',\n",
        "   'CORE_COURSE_NAME_3_F','CORE_COURSE_NAME_3_S']].fillna(value=\"UNKN\")"
      ]
    },
    {
      "cell_type": "code",
      "execution_count": 113,
      "metadata": {},
      "outputs": [
        {
          "data": {
            "application/vnd.livy.statement-meta+json": {
              "execution_finish_time": "2023-12-10T03:03:45.5894846Z",
              "execution_start_time": "2023-12-10T03:03:45.4226661Z",
              "livy_statement_state": "available",
              "parent_msg_id": "6b7b453f-986d-4e53-8db6-e261b21b1bc7",
              "queued_time": "2023-12-10T03:01:24.1700796Z",
              "session_id": "6",
              "session_start_time": null,
              "spark_jobs": null,
              "spark_pool": "ApacheSparkPool",
              "state": "finished",
              "statement_id": 33
            },
            "text/plain": [
              "StatementMeta(ApacheSparkPool, 6, 33, Finished, Available)"
            ]
          },
          "metadata": {},
          "output_type": "display_data"
        },
        {
          "data": {
            "text/plain": [
              "CORE_COURSE_NAME_1_S    0\n",
              "CORE_COURSE_NAME_2_F    0\n",
              "CORE_COURSE_NAME_2_S    0\n",
              "CORE_COURSE_NAME_3_F    0\n",
              "CORE_COURSE_NAME_3_S    0\n",
              "dtype: int64"
            ]
          },
          "execution_count": 67,
          "metadata": {},
          "output_type": "execute_result"
        }
      ],
      "source": [
        "df[['CORE_COURSE_NAME_1_S','CORE_COURSE_NAME_2_F','CORE_COURSE_NAME_2_S',\n",
        "   'CORE_COURSE_NAME_3_F','CORE_COURSE_NAME_3_S']].isnull().sum()"
      ]
    },
    {
      "cell_type": "markdown",
      "metadata": {},
      "source": [
        "##### *STDNT_TEST_ENTRANCE2* (percent missing = 26.706 %) *STDNT_TEST_ENTRANCE_COMB* (percent missing = 15.235 %), "
      ]
    },
    {
      "cell_type": "code",
      "execution_count": 114,
      "metadata": {},
      "outputs": [
        {
          "data": {
            "application/vnd.livy.statement-meta+json": {
              "execution_finish_time": "2023-12-10T03:03:46.6279735Z",
              "execution_start_time": "2023-12-10T03:03:46.4751581Z",
              "livy_statement_state": "available",
              "parent_msg_id": "f31a9d06-79b8-42e2-b55b-6d40774051d4",
              "queued_time": "2023-12-10T03:01:24.3274735Z",
              "session_id": "6",
              "session_start_time": null,
              "spark_jobs": null,
              "spark_pool": "ApacheSparkPool",
              "state": "finished",
              "statement_id": 34
            },
            "text/plain": [
              "StatementMeta(ApacheSparkPool, 6, 34, Finished, Available)"
            ]
          },
          "metadata": {},
          "output_type": "display_data"
        }
      ],
      "source": [
        "# Ta thấy về mặt ý nghĩa 2 thuộc tính trên có mối liên hệ với nhau \n",
        "# STDNT_TEST_ENTRANCE2: Điểm thi đầu vào 2\n",
        "# STDNT_TEST_ENTRANCE_COMB: Điểm của sinh viên được tính cả trên điểm đầu vào 1 và đầu vào 2\n",
        "\n",
        "# Ta sẽ tiến hành xóa thuộc tính STDNT_TEST_ENTRANCE2 thay vì xử lý giá trị null\n",
        "df = df.drop(['STDNT_TEST_ENTRANCE2'],axis=1)"
      ]
    },
    {
      "cell_type": "code",
      "execution_count": 115,
      "metadata": {},
      "outputs": [
        {
          "data": {
            "application/vnd.livy.statement-meta+json": {
              "execution_finish_time": "2023-12-10T03:03:46.8934051Z",
              "execution_start_time": "2023-12-10T03:03:46.7533605Z",
              "livy_statement_state": "available",
              "parent_msg_id": "d94d65ec-7938-45e6-965f-68d377838d87",
              "queued_time": "2023-12-10T03:01:24.4587743Z",
              "session_id": "6",
              "session_start_time": null,
              "spark_jobs": null,
              "spark_pool": "ApacheSparkPool",
              "state": "finished",
              "statement_id": 35
            },
            "text/plain": [
              "StatementMeta(ApacheSparkPool, 6, 35, Finished, Available)"
            ]
          },
          "metadata": {},
          "output_type": "display_data"
        },
        {
          "data": {
            "text/plain": [
              "STDNT_TEST_ENTRANCE_COMB\n",
              "950.0     382\n",
              "990.0     352\n",
              "910.0     309\n",
              "1030.0    268\n",
              "870.0     238\n",
              "1070.0    234\n",
              "1110.0    212\n",
              "1150.0    159\n",
              "1190.0    139\n",
              "830.0     128\n",
              "1220.0    107\n",
              "1260.0     68\n",
              "530.0      51\n",
              "590.0      48\n",
              "790.0      48\n",
              "1300.0     35\n",
              "740.0      25\n",
              "640.0      23\n",
              "1340.0     22\n",
              "1380.0     17\n",
              "690.0       8\n",
              "1420.0      6\n",
              "1510.0      2\n",
              "1460.0      1\n",
              "Name: count, dtype: int64"
            ]
          },
          "execution_count": 71,
          "metadata": {},
          "output_type": "execute_result"
        }
      ],
      "source": [
        "df['STDNT_TEST_ENTRANCE_COMB'].value_counts()"
      ]
    },
    {
      "cell_type": "markdown",
      "metadata": {},
      "source": [
        "Đa số sinh viên đạt 950 điểm ở thuộc tính STDNT_TEST_ENTRANCE_COMB"
      ]
    },
    {
      "cell_type": "code",
      "execution_count": 116,
      "metadata": {},
      "outputs": [
        {
          "data": {
            "application/vnd.livy.statement-meta+json": {
              "execution_finish_time": "2023-12-10T03:03:47.2031494Z",
              "execution_start_time": "2023-12-10T03:03:47.0401102Z",
              "livy_statement_state": "available",
              "parent_msg_id": "e545ae44-be70-4a3e-b1c0-9661e109330f",
              "queued_time": "2023-12-10T03:01:24.6070447Z",
              "session_id": "6",
              "session_start_time": null,
              "spark_jobs": null,
              "spark_pool": "ApacheSparkPool",
              "state": "finished",
              "statement_id": 36
            },
            "text/plain": [
              "StatementMeta(ApacheSparkPool, 6, 36, Finished, Available)"
            ]
          },
          "metadata": {},
          "output_type": "display_data"
        },
        {
          "data": {
            "text/plain": [
              "count    2882.000000\n",
              "mean      997.758501\n",
              "std       156.268221\n",
              "min       530.000000\n",
              "25%       910.000000\n",
              "50%       990.000000\n",
              "75%      1110.000000\n",
              "max      1510.000000\n",
              "Name: STDNT_TEST_ENTRANCE_COMB, dtype: float64"
            ]
          },
          "execution_count": 73,
          "metadata": {},
          "output_type": "execute_result"
        }
      ],
      "source": [
        "df['STDNT_TEST_ENTRANCE_COMB'].describe(include=all)"
      ]
    },
    {
      "cell_type": "code",
      "execution_count": 117,
      "metadata": {},
      "outputs": [
        {
          "data": {
            "application/vnd.livy.statement-meta+json": {
              "execution_finish_time": "2023-12-10T03:03:47.4880535Z",
              "execution_start_time": "2023-12-10T03:03:47.3337365Z",
              "livy_statement_state": "available",
              "parent_msg_id": "b2ca0e02-f869-4cd5-96f3-a1f46a4d1521",
              "queued_time": "2023-12-10T03:01:24.7646619Z",
              "session_id": "6",
              "session_start_time": null,
              "spark_jobs": null,
              "spark_pool": "ApacheSparkPool",
              "state": "finished",
              "statement_id": 37
            },
            "text/plain": [
              "StatementMeta(ApacheSparkPool, 6, 37, Finished, Available)"
            ]
          },
          "metadata": {},
          "output_type": "display_data"
        },
        {
          "name": "stderr",
          "output_type": "stream",
          "text": [
            "/home/trusted-service-user/cluster-env/env/lib/python3.10/site-packages/seaborn/_oldcore.py:1498: FutureWarning: is_categorical_dtype is deprecated and will be removed in a future version. Use isinstance(dtype, CategoricalDtype) instead\n",
            "  if pd.api.types.is_categorical_dtype(vector):\n"
          ]
        },
        {
          "data": {
            "image/png": "[encoded data removed]",
            "text/plain": [
              "<Figure size 640x480 with 1 Axes>"
            ]
          },
          "metadata": {},
          "output_type": "display_data"
        }
      ],
      "source": [
        "sns.boxplot(x=df['STDNT_TEST_ENTRANCE_COMB'])\n",
        "plt.title('Boxplot of STDNT_TEST_ENTRANCE_COMB')\n",
        "plt.show()"
      ]
    },
    {
      "cell_type": "code",
      "execution_count": 118,
      "metadata": {},
      "outputs": [
        {
          "data": {
            "application/vnd.livy.statement-meta+json": {
              "execution_finish_time": "2023-12-10T03:03:47.7711441Z",
              "execution_start_time": "2023-12-10T03:03:47.6170668Z",
              "livy_statement_state": "available",
              "parent_msg_id": "4c6fb862-dae8-4c15-8166-e3edbeaadbe8",
              "queued_time": "2023-12-10T03:01:24.9212693Z",
              "session_id": "6",
              "session_start_time": null,
              "spark_jobs": null,
              "spark_pool": "ApacheSparkPool",
              "state": "finished",
              "statement_id": 38
            },
            "text/plain": [
              "StatementMeta(ApacheSparkPool, 6, 38, Finished, Available)"
            ]
          },
          "metadata": {},
          "output_type": "display_data"
        },
        {
          "data": {
            "text/plain": [
              "0    950.0\n",
              "Name: STDNT_TEST_ENTRANCE_COMB, dtype: float64"
            ]
          },
          "execution_count": 77,
          "metadata": {},
          "output_type": "execute_result"
        }
      ],
      "source": [
        "df['STDNT_TEST_ENTRANCE_COMB'].mode()"
      ]
    },
    {
      "cell_type": "code",
      "execution_count": 119,
      "metadata": {},
      "outputs": [
        {
          "data": {
            "application/vnd.livy.statement-meta+json": {
              "execution_finish_time": "2023-12-10T03:03:48.0539026Z",
              "execution_start_time": "2023-12-10T03:03:47.9005542Z",
              "livy_statement_state": "available",
              "parent_msg_id": "596cf973-6767-4a97-96e0-73d42f8f7c66",
              "queued_time": "2023-12-10T03:01:25.0942516Z",
              "session_id": "6",
              "session_start_time": null,
              "spark_jobs": null,
              "spark_pool": "ApacheSparkPool",
              "state": "finished",
              "statement_id": 39
            },
            "text/plain": [
              "StatementMeta(ApacheSparkPool, 6, 39, Finished, Available)"
            ]
          },
          "metadata": {},
          "output_type": "display_data"
        }
      ],
      "source": [
        "# Thay thế các giá trị null bằng điểm mà sinh viên đạt nhiều nhất là 950\n",
        "df['STDNT_TEST_ENTRANCE_COMB']=df['STDNT_TEST_ENTRANCE_COMB'].fillna(950)"
      ]
    },
    {
      "cell_type": "markdown",
      "metadata": {},
      "source": [
        "##### *MOTHER_HI_EDU_CD* (14.3%), *FATHER_HI_EDU_CD* (12.7%)"
      ]
    },
    {
      "cell_type": "code",
      "execution_count": 120,
      "metadata": {},
      "outputs": [
        {
          "data": {
            "application/vnd.livy.statement-meta+json": {
              "execution_finish_time": "2023-12-10T03:03:49.5371392Z",
              "execution_start_time": "2023-12-10T03:03:49.3872926Z",
              "livy_statement_state": "available",
              "parent_msg_id": "e83b5dc4-116d-4fbe-8478-c92afd3b1d9a",
              "queued_time": "2023-12-10T03:01:25.236931Z",
              "session_id": "6",
              "session_start_time": null,
              "spark_jobs": null,
              "spark_pool": "ApacheSparkPool",
              "state": "finished",
              "statement_id": 40
            },
            "text/plain": [
              "StatementMeta(ApacheSparkPool, 6, 40, Finished, Available)"
            ]
          },
          "metadata": {},
          "output_type": "display_data"
        },
        {
          "data": {
            "text/plain": [
              "FATHER_HI_EDU_CD\n",
              "2.0    1336\n",
              "3.0    1309\n",
              "4.0     226\n",
              "1.0      97\n",
              "Name: count, dtype: int64"
            ]
          },
          "execution_count": 81,
          "metadata": {},
          "output_type": "execute_result"
        }
      ],
      "source": [
        "df['FATHER_HI_EDU_CD'].value_counts()"
      ]
    },
    {
      "cell_type": "code",
      "execution_count": 121,
      "metadata": {},
      "outputs": [
        {
          "data": {
            "application/vnd.livy.statement-meta+json": {
              "execution_finish_time": "2023-12-10T03:03:49.8016805Z",
              "execution_start_time": "2023-12-10T03:03:49.6597306Z",
              "livy_statement_state": "available",
              "parent_msg_id": "0f82f0d8-3850-417b-a054-41a8a88c31c0",
              "queued_time": "2023-12-10T03:01:25.3821042Z",
              "session_id": "6",
              "session_start_time": null,
              "spark_jobs": null,
              "spark_pool": "ApacheSparkPool",
              "state": "finished",
              "statement_id": 41
            },
            "text/plain": [
              "StatementMeta(ApacheSparkPool, 6, 41, Finished, Available)"
            ]
          },
          "metadata": {},
          "output_type": "display_data"
        },
        {
          "data": {
            "text/plain": [
              "MOTHER_HI_EDU_CD\n",
              "3.0    1500\n",
              "2.0    1223\n",
              "4.0     117\n",
              "1.0      71\n",
              "Name: count, dtype: int64"
            ]
          },
          "execution_count": 83,
          "metadata": {},
          "output_type": "execute_result"
        }
      ],
      "source": [
        "df['MOTHER_HI_EDU_CD'].value_counts()"
      ]
    },
    {
      "cell_type": "code",
      "execution_count": 122,
      "metadata": {},
      "outputs": [
        {
          "data": {
            "application/vnd.livy.statement-meta+json": {
              "execution_finish_time": "2023-12-10T03:03:50.0841645Z",
              "execution_start_time": "2023-12-10T03:03:49.9320423Z",
              "livy_statement_state": "available",
              "parent_msg_id": "d06f02a0-a0af-4348-8722-89da0d8258d2",
              "queued_time": "2023-12-10T03:01:25.5187838Z",
              "session_id": "6",
              "session_start_time": null,
              "spark_jobs": null,
              "spark_pool": "ApacheSparkPool",
              "state": "finished",
              "statement_id": 42
            },
            "text/plain": [
              "StatementMeta(ApacheSparkPool, 6, 42, Finished, Available)"
            ]
          },
          "metadata": {},
          "output_type": "display_data"
        },
        {
          "data": {
            "text/html": [
              "<div>\n",
              "<style scoped>\n",
              "    .dataframe tbody tr th:only-of-type {\n",
              "        vertical-align: middle;\n",
              "    }\n",
              "\n",
              "    .dataframe tbody tr th {\n",
              "        vertical-align: top;\n",
              "    }\n",
              "\n",
              "    .dataframe thead th {\n",
              "        text-align: right;\n",
              "    }\n",
              "</style>\n",
              "<table border=\"1\" class=\"dataframe\">\n",
              "  <thead>\n",
              "    <tr style=\"text-align: right;\">\n",
              "      <th></th>\n",
              "      <th>FATHER_HI_EDU_CD</th>\n",
              "      <th>FATHER_HI_EDU_DESC</th>\n",
              "    </tr>\n",
              "  </thead>\n",
              "  <tbody>\n",
              "    <tr>\n",
              "      <th>0</th>\n",
              "      <td>NaN</td>\n",
              "      <td>No Information</td>\n",
              "    </tr>\n",
              "    <tr>\n",
              "      <th>6</th>\n",
              "      <td>NaN</td>\n",
              "      <td>No Information</td>\n",
              "    </tr>\n",
              "    <tr>\n",
              "      <th>7</th>\n",
              "      <td>NaN</td>\n",
              "      <td>No Information</td>\n",
              "    </tr>\n",
              "    <tr>\n",
              "      <th>12</th>\n",
              "      <td>NaN</td>\n",
              "      <td>No Information</td>\n",
              "    </tr>\n",
              "    <tr>\n",
              "      <th>27</th>\n",
              "      <td>NaN</td>\n",
              "      <td>No Information</td>\n",
              "    </tr>\n",
              "    <tr>\n",
              "      <th>...</th>\n",
              "      <td>...</td>\n",
              "      <td>...</td>\n",
              "    </tr>\n",
              "    <tr>\n",
              "      <th>3368</th>\n",
              "      <td>NaN</td>\n",
              "      <td>No Information</td>\n",
              "    </tr>\n",
              "    <tr>\n",
              "      <th>3379</th>\n",
              "      <td>NaN</td>\n",
              "      <td>No Information</td>\n",
              "    </tr>\n",
              "    <tr>\n",
              "      <th>3391</th>\n",
              "      <td>NaN</td>\n",
              "      <td>No Information</td>\n",
              "    </tr>\n",
              "    <tr>\n",
              "      <th>3395</th>\n",
              "      <td>NaN</td>\n",
              "      <td>No Information</td>\n",
              "    </tr>\n",
              "    <tr>\n",
              "      <th>3396</th>\n",
              "      <td>NaN</td>\n",
              "      <td>No Information</td>\n",
              "    </tr>\n",
              "  </tbody>\n",
              "</table>\n",
              "<p>432 rows × 2 columns</p>\n",
              "</div>"
            ],
            "text/plain": [
              "      FATHER_HI_EDU_CD FATHER_HI_EDU_DESC\n",
              "0                  NaN     No Information\n",
              "6                  NaN     No Information\n",
              "7                  NaN     No Information\n",
              "12                 NaN     No Information\n",
              "27                 NaN     No Information\n",
              "...                ...                ...\n",
              "3368               NaN     No Information\n",
              "3379               NaN     No Information\n",
              "3391               NaN     No Information\n",
              "3395               NaN     No Information\n",
              "3396               NaN     No Information\n",
              "\n",
              "[432 rows x 2 columns]"
            ]
          },
          "execution_count": 85,
          "metadata": {},
          "output_type": "execute_result"
        }
      ],
      "source": [
        "df[['FATHER_HI_EDU_CD','FATHER_HI_EDU_DESC']].loc[df['FATHER_HI_EDU_DESC'] == 'No Information']"
      ]
    },
    {
      "cell_type": "code",
      "execution_count": 123,
      "metadata": {},
      "outputs": [
        {
          "data": {
            "application/vnd.livy.statement-meta+json": {
              "execution_finish_time": "2023-12-10T03:03:50.3682019Z",
              "execution_start_time": "2023-12-10T03:03:50.213368Z",
              "livy_statement_state": "available",
              "parent_msg_id": "0cdccfc1-13e0-4cb6-bf41-2a85962f72e7",
              "queued_time": "2023-12-10T03:01:25.6656714Z",
              "session_id": "6",
              "session_start_time": null,
              "spark_jobs": null,
              "spark_pool": "ApacheSparkPool",
              "state": "finished",
              "statement_id": 43
            },
            "text/plain": [
              "StatementMeta(ApacheSparkPool, 6, 43, Finished, Available)"
            ]
          },
          "metadata": {},
          "output_type": "display_data"
        },
        {
          "data": {
            "text/html": [
              "<div>\n",
              "<style scoped>\n",
              "    .dataframe tbody tr th:only-of-type {\n",
              "        vertical-align: middle;\n",
              "    }\n",
              "\n",
              "    .dataframe tbody tr th {\n",
              "        vertical-align: top;\n",
              "    }\n",
              "\n",
              "    .dataframe thead th {\n",
              "        text-align: right;\n",
              "    }\n",
              "</style>\n",
              "<table border=\"1\" class=\"dataframe\">\n",
              "  <thead>\n",
              "    <tr style=\"text-align: right;\">\n",
              "      <th></th>\n",
              "      <th>MOTHER_HI_EDU_CD</th>\n",
              "      <th>MOTHER_HI_EDU_DESC</th>\n",
              "    </tr>\n",
              "  </thead>\n",
              "  <tbody>\n",
              "    <tr>\n",
              "      <th>0</th>\n",
              "      <td>NaN</td>\n",
              "      <td>No Information</td>\n",
              "    </tr>\n",
              "    <tr>\n",
              "      <th>6</th>\n",
              "      <td>NaN</td>\n",
              "      <td>No Information</td>\n",
              "    </tr>\n",
              "    <tr>\n",
              "      <th>7</th>\n",
              "      <td>NaN</td>\n",
              "      <td>No Information</td>\n",
              "    </tr>\n",
              "    <tr>\n",
              "      <th>12</th>\n",
              "      <td>NaN</td>\n",
              "      <td>No Information</td>\n",
              "    </tr>\n",
              "    <tr>\n",
              "      <th>28</th>\n",
              "      <td>NaN</td>\n",
              "      <td>No Information</td>\n",
              "    </tr>\n",
              "    <tr>\n",
              "      <th>...</th>\n",
              "      <td>...</td>\n",
              "      <td>...</td>\n",
              "    </tr>\n",
              "    <tr>\n",
              "      <th>3368</th>\n",
              "      <td>NaN</td>\n",
              "      <td>No Information</td>\n",
              "    </tr>\n",
              "    <tr>\n",
              "      <th>3379</th>\n",
              "      <td>NaN</td>\n",
              "      <td>No Information</td>\n",
              "    </tr>\n",
              "    <tr>\n",
              "      <th>3391</th>\n",
              "      <td>NaN</td>\n",
              "      <td>No Information</td>\n",
              "    </tr>\n",
              "    <tr>\n",
              "      <th>3395</th>\n",
              "      <td>NaN</td>\n",
              "      <td>No Information</td>\n",
              "    </tr>\n",
              "    <tr>\n",
              "      <th>3396</th>\n",
              "      <td>NaN</td>\n",
              "      <td>No Information</td>\n",
              "    </tr>\n",
              "  </tbody>\n",
              "</table>\n",
              "<p>489 rows × 2 columns</p>\n",
              "</div>"
            ],
            "text/plain": [
              "      MOTHER_HI_EDU_CD MOTHER_HI_EDU_DESC\n",
              "0                  NaN     No Information\n",
              "6                  NaN     No Information\n",
              "7                  NaN     No Information\n",
              "12                 NaN     No Information\n",
              "28                 NaN     No Information\n",
              "...                ...                ...\n",
              "3368               NaN     No Information\n",
              "3379               NaN     No Information\n",
              "3391               NaN     No Information\n",
              "3395               NaN     No Information\n",
              "3396               NaN     No Information\n",
              "\n",
              "[489 rows x 2 columns]"
            ]
          },
          "execution_count": 87,
          "metadata": {},
          "output_type": "execute_result"
        }
      ],
      "source": [
        "df[['MOTHER_HI_EDU_CD','MOTHER_HI_EDU_DESC']].loc[df['MOTHER_HI_EDU_DESC'] == 'No Information']"
      ]
    },
    {
      "cell_type": "markdown",
      "metadata": {},
      "source": [
        "+ Ta thấy các giá trị null ở 2 cột MOTHER_HI_EDU_CD, FATHER_HI_EDU_CD sẽ tương ứng với \"No Information\" ở cột MOTHER_HI_EDU_DESC,FATHER_HI_EDU_CD\n",
        "+ Về mặt ý nghĩa nó không khác gì nhau nên ta sẽ tiến hành xóa thay vì xử lý giá trị null"
      ]
    },
    {
      "cell_type": "code",
      "execution_count": 124,
      "metadata": {},
      "outputs": [
        {
          "data": {
            "application/vnd.livy.statement-meta+json": {
              "execution_finish_time": "2023-12-10T03:03:50.6440209Z",
              "execution_start_time": "2023-12-10T03:03:50.4977597Z",
              "livy_statement_state": "available",
              "parent_msg_id": "052e300d-a0d4-4f47-959c-7a9cb1663762",
              "queued_time": "2023-12-10T03:01:25.8160659Z",
              "session_id": "6",
              "session_start_time": null,
              "spark_jobs": null,
              "spark_pool": "ApacheSparkPool",
              "state": "finished",
              "statement_id": 44
            },
            "text/plain": [
              "StatementMeta(ApacheSparkPool, 6, 44, Finished, Available)"
            ]
          },
          "metadata": {},
          "output_type": "display_data"
        }
      ],
      "source": [
        "df = df.drop(columns=[\n",
        "    'MOTHER_HI_EDU_CD',\n",
        "    'FATHER_HI_EDU_CD',\n",
        "], axis=1)"
      ]
    },
    {
      "cell_type": "markdown",
      "metadata": {},
      "source": [
        "##### *SECOND_TERM_EARNED_HRS*, *SECOND_TERM_ATTEMPT_HRS*"
      ]
    },
    {
      "cell_type": "code",
      "execution_count": 125,
      "metadata": {},
      "outputs": [
        {
          "data": {
            "application/vnd.livy.statement-meta+json": {
              "execution_finish_time": "2023-12-10T03:03:50.9354679Z",
              "execution_start_time": "2023-12-10T03:03:50.7707223Z",
              "livy_statement_state": "available",
              "parent_msg_id": "d166496b-0c8e-4ffe-88a1-0ad5e4de558c",
              "queued_time": "2023-12-10T03:01:25.9653891Z",
              "session_id": "6",
              "session_start_time": null,
              "spark_jobs": null,
              "spark_pool": "ApacheSparkPool",
              "state": "finished",
              "statement_id": 45
            },
            "text/plain": [
              "StatementMeta(ApacheSparkPool, 6, 45, Finished, Available)"
            ]
          },
          "metadata": {},
          "output_type": "display_data"
        },
        {
          "data": {
            "text/plain": [
              "count    3191.000000\n",
              "mean       12.511125\n",
              "std         3.470492\n",
              "min         0.000000\n",
              "25%        11.000000\n",
              "50%        13.000000\n",
              "75%        15.000000\n",
              "max        23.000000\n",
              "Name: SECOND_TERM_EARNED_HRS, dtype: float64"
            ]
          },
          "execution_count": 91,
          "metadata": {},
          "output_type": "execute_result"
        }
      ],
      "source": [
        "df['SECOND_TERM_EARNED_HRS'].describe()"
      ]
    },
    {
      "cell_type": "code",
      "execution_count": 126,
      "metadata": {},
      "outputs": [
        {
          "data": {
            "application/vnd.livy.statement-meta+json": {
              "execution_finish_time": "2023-12-10T03:03:51.2308877Z",
              "execution_start_time": "2023-12-10T03:03:51.069719Z",
              "livy_statement_state": "available",
              "parent_msg_id": "419ecb0a-3369-4c06-830d-518cf673c0ee",
              "queued_time": "2023-12-10T03:01:26.0964047Z",
              "session_id": "6",
              "session_start_time": null,
              "spark_jobs": null,
              "spark_pool": "ApacheSparkPool",
              "state": "finished",
              "statement_id": 46
            },
            "text/plain": [
              "StatementMeta(ApacheSparkPool, 6, 46, Finished, Available)"
            ]
          },
          "metadata": {},
          "output_type": "display_data"
        },
        {
          "name": "stderr",
          "output_type": "stream",
          "text": [
            "/home/trusted-service-user/cluster-env/env/lib/python3.10/site-packages/seaborn/_oldcore.py:1498: FutureWarning: is_categorical_dtype is deprecated and will be removed in a future version. Use isinstance(dtype, CategoricalDtype) instead\n",
            "  if pd.api.types.is_categorical_dtype(vector):\n"
          ]
        },
        {
          "data": {
            "image/png": "[encoded data removed]",
            "text/plain": [
              "<Figure size 640x480 with 1 Axes>"
            ]
          },
          "metadata": {},
          "output_type": "display_data"
        }
      ],
      "source": [
        "sns.boxplot(x=df['SECOND_TERM_EARNED_HRS'])\n",
        "plt.title('Boxplot of SECOND_TERM_EARNED_HRS')\n",
        "plt.show()"
      ]
    },
    {
      "cell_type": "code",
      "execution_count": 127,
      "metadata": {},
      "outputs": [
        {
          "data": {
            "application/vnd.livy.statement-meta+json": {
              "execution_finish_time": "2023-12-10T03:03:51.5305304Z",
              "execution_start_time": "2023-12-10T03:03:51.3605564Z",
              "livy_statement_state": "available",
              "parent_msg_id": "d51d1e9f-eb03-4cb6-9c7e-629dd9e3dc04",
              "queued_time": "2023-12-10T03:01:26.2421306Z",
              "session_id": "6",
              "session_start_time": null,
              "spark_jobs": null,
              "spark_pool": "ApacheSparkPool",
              "state": "finished",
              "statement_id": 47
            },
            "text/plain": [
              "StatementMeta(ApacheSparkPool, 6, 47, Finished, Available)"
            ]
          },
          "metadata": {},
          "output_type": "display_data"
        }
      ],
      "source": [
        "# Thấy thế các giá trị null bằng giá trị trung vị\n",
        "df['SECOND_TERM_EARNED_HRS']=df['SECOND_TERM_EARNED_HRS'].fillna(df['SECOND_TERM_EARNED_HRS'].median())"
      ]
    },
    {
      "cell_type": "code",
      "execution_count": 128,
      "metadata": {},
      "outputs": [
        {
          "data": {
            "application/vnd.livy.statement-meta+json": {
              "execution_finish_time": "2023-12-10T03:03:51.8231757Z",
              "execution_start_time": "2023-12-10T03:03:51.6627349Z",
              "livy_statement_state": "available",
              "parent_msg_id": "8ee7b4ac-6631-4c41-a993-64a738e60d46",
              "queued_time": "2023-12-10T03:01:26.3677243Z",
              "session_id": "6",
              "session_start_time": null,
              "spark_jobs": null,
              "spark_pool": "ApacheSparkPool",
              "state": "finished",
              "statement_id": 48
            },
            "text/plain": [
              "StatementMeta(ApacheSparkPool, 6, 48, Finished, Available)"
            ]
          },
          "metadata": {},
          "output_type": "display_data"
        },
        {
          "data": {
            "text/plain": [
              "count    3194.000000\n",
              "mean       14.285848\n",
              "std         2.104387\n",
              "min         2.000000\n",
              "25%        13.000000\n",
              "50%        14.000000\n",
              "75%        16.000000\n",
              "max        23.000000\n",
              "Name: SECOND_TERM_ATTEMPT_HRS, dtype: float64"
            ]
          },
          "execution_count": 97,
          "metadata": {},
          "output_type": "execute_result"
        }
      ],
      "source": [
        "df['SECOND_TERM_ATTEMPT_HRS'].describe()"
      ]
    },
    {
      "cell_type": "code",
      "execution_count": 129,
      "metadata": {},
      "outputs": [
        {
          "data": {
            "application/vnd.livy.statement-meta+json": {
              "execution_finish_time": "2023-12-10T03:03:52.1052063Z",
              "execution_start_time": "2023-12-10T03:03:51.9481344Z",
              "livy_statement_state": "available",
              "parent_msg_id": "9c8b98de-ed3b-4836-b3b7-de356e72c9b6",
              "queued_time": "2023-12-10T03:01:26.5074612Z",
              "session_id": "6",
              "session_start_time": null,
              "spark_jobs": null,
              "spark_pool": "ApacheSparkPool",
              "state": "finished",
              "statement_id": 49
            },
            "text/plain": [
              "StatementMeta(ApacheSparkPool, 6, 49, Finished, Available)"
            ]
          },
          "metadata": {},
          "output_type": "display_data"
        },
        {
          "name": "stderr",
          "output_type": "stream",
          "text": [
            "/home/trusted-service-user/cluster-env/env/lib/python3.10/site-packages/seaborn/_oldcore.py:1498: FutureWarning: is_categorical_dtype is deprecated and will be removed in a future version. Use isinstance(dtype, CategoricalDtype) instead\n",
            "  if pd.api.types.is_categorical_dtype(vector):\n"
          ]
        },
        {
          "data": {
            "image/png": "[encoded data removed]",
            "text/plain": [
              "<Figure size 640x480 with 1 Axes>"
            ]
          },
          "metadata": {},
          "output_type": "display_data"
        }
      ],
      "source": [
        "\n",
        "sns.boxplot(x=df['SECOND_TERM_ATTEMPT_HRS'])\n",
        "plt.title('Boxplot of SECOND_TERM_ATTEMPT_HRS')\n",
        "plt.show()"
      ]
    },
    {
      "cell_type": "code",
      "execution_count": 130,
      "metadata": {},
      "outputs": [
        {
          "data": {
            "application/vnd.livy.statement-meta+json": {
              "execution_finish_time": "2023-12-10T03:03:52.3881429Z",
              "execution_start_time": "2023-12-10T03:03:52.2326458Z",
              "livy_statement_state": "available",
              "parent_msg_id": "e70aebbf-7d71-4dc4-8de5-6ec4cf86fb9f",
              "queued_time": "2023-12-10T03:01:26.6413005Z",
              "session_id": "6",
              "session_start_time": null,
              "spark_jobs": null,
              "spark_pool": "ApacheSparkPool",
              "state": "finished",
              "statement_id": 50
            },
            "text/plain": [
              "StatementMeta(ApacheSparkPool, 6, 50, Finished, Available)"
            ]
          },
          "metadata": {},
          "output_type": "display_data"
        }
      ],
      "source": [
        "# Thấy thế các giá trị null bằng giá trị trung vị\n",
        "df['SECOND_TERM_ATTEMPT_HRS']=df['SECOND_TERM_ATTEMPT_HRS'].fillna(df['SECOND_TERM_ATTEMPT_HRS'].median())"
      ]
    },
    {
      "cell_type": "code",
      "execution_count": 131,
      "metadata": {},
      "outputs": [
        {
          "data": {
            "application/vnd.livy.statement-meta+json": {
              "execution_finish_time": "2023-12-10T03:03:52.664391Z",
              "execution_start_time": "2023-12-10T03:03:52.5199882Z",
              "livy_statement_state": "available",
              "parent_msg_id": "c58d7ccc-8ed8-48a7-9c9f-954208c9d5c6",
              "queued_time": "2023-12-10T03:01:26.7741955Z",
              "session_id": "6",
              "session_start_time": null,
              "spark_jobs": null,
              "spark_pool": "ApacheSparkPool",
              "state": "finished",
              "statement_id": 51
            },
            "text/plain": [
              "StatementMeta(ApacheSparkPool, 6, 51, Finished, Available)"
            ]
          },
          "metadata": {},
          "output_type": "display_data"
        },
        {
          "data": {
            "text/plain": [
              "STUDENT IDENTIFIER          0\n",
              "STDNT_AGE                   0\n",
              "STDNT_GENDER                0\n",
              "STDNT_BACKGROUND            0\n",
              "IN_STATE_FLAG               0\n",
              "INTERNATIONAL_STS           0\n",
              "STDNT_MAJOR                 0\n",
              "STDNT_MINOR                 0\n",
              "STDNT_TEST_ENTRANCE_COMB    0\n",
              "FIRST_TERM                  0\n",
              "CORE_COURSE_NAME_1_F        0\n",
              "CORE_COURSE_GRADE_1_F       0\n",
              "CORE_COURSE_NAME_2_F        0\n",
              "CORE_COURSE_GRADE_2_F       0\n",
              "CORE_COURSE_NAME_3_F        0\n",
              "CORE_COURSE_GRADE_3_F       0\n",
              "SECOND_TERM                 0\n",
              "CORE_COURSE_NAME_1_S        0\n",
              "CORE_COURSE_GRADE_1_S       0\n",
              "CORE_COURSE_NAME_2_S        0\n",
              "CORE_COURSE_GRADE_2_S       0\n",
              "CORE_COURSE_NAME_3_S        0\n",
              "CORE_COURSE_GRADE_3_S       0\n",
              "HOUSING_STS                 0\n",
              "RETURNED_2ND_YR             0\n",
              "DISTANCE_FROM_HOME          0\n",
              "HIGH_SCHL_GPA               0\n",
              "HIGH_SCHL_NAME              0\n",
              "FATHER_HI_EDU_DESC          0\n",
              "MOTHER_HI_EDU_DESC          0\n",
              "DEGREE_GROUP_CD             0\n",
              "DEGREE_GROUP_DESC           0\n",
              "FIRST_TERM_ATTEMPT_HRS      0\n",
              "FIRST_TERM_EARNED_HRS       0\n",
              "SECOND_TERM_ATTEMPT_HRS     0\n",
              "SECOND_TERM_EARNED_HRS      0\n",
              "GROSS_FIN_NEED              0\n",
              "COST_OF_ATTEND              0\n",
              "EST_FAM_CONTRIBUTION        0\n",
              "UNMET_NEED                  0\n",
              "dtype: int64"
            ]
          },
          "execution_count": 103,
          "metadata": {},
          "output_type": "execute_result"
        }
      ],
      "source": [
        "df.isnull().sum()"
      ]
    },
    {
      "cell_type": "markdown",
      "metadata": {},
      "source": [
        "## Feature extraction"
      ]
    },
    {
      "cell_type": "markdown",
      "metadata": {},
      "source": [
        "+ FIRST_TERM_ATTEMPT_HRS: Số giờ sinh viên đã cố gắng hoặc điểm số mà học sinh đã cố gắng trong học kỳ đầu tiên\n",
        "+ FIRST_TERM_EARNED_HRS: Số giờ mà sinh viên đạt được hoặc Điểm mà sinh viên đạt được trong học kỳ đầu tiên\n",
        "+ SECOND_TERM_ATTEMPT_HRS: Số giờ học sinh đã cố gắng hoặc điểm số mà học sinh đã cố gắng trong học kỳ thứ hai\n",
        "+ SECOND_TERM_EARNED_HRS: Số giờ mà sinh viên đạt được hoặc điểm mà sinh viên đạt được trong học kỳ thứ hai"
      ]
    },
    {
      "cell_type": "markdown",
      "metadata": {},
      "source": [
        "Ta sẽ tiến hành tạo một thuộc tính mới dựa trên sự chênh lệch giữa số giờ cố gắng và số giờ đạt được. Điều này có thể là một chỉ số về khả năng của sinh viên trong việc đối mặt với khối lượng công việc và đạt được kết quả."
      ]
    },
    {
      "cell_type": "markdown",
      "metadata": {},
      "source": [
        "+ DIFF_FIRST_TERM > 0: Có thể được hiểu là sinh viên đã cố gắng hơn so với số giờ thực sự đạt được. Điều này có thể là dấu hiệu tích cực về sự nỗ lực và cam kết học tập.\n",
        "+ DIFF_FIRST_TERM = 0: Sự chênh lệch là 0 có thể đại diện cho việc số giờ cố gắng và số giờ đạt được là bằng nhau. Sinh viên đã đạt được một phần lớn hoặc toàn bộ số giờ cố gắng.\n",
        "\n",
        "+ DIFF_FIRST_TERM < 0: Sự chênh lệch là âm có thể chỉ ra rằng sinh viên đã cố gắng ít hơn so với số giờ thực sự đạt được. Điều này có thể là dấu hiệu về khả năng quản lý thời gian hoặc đối mặt với khối lượng công việc."
      ]
    },
    {
      "cell_type": "code",
      "execution_count": 132,
      "metadata": {},
      "outputs": [
        {
          "data": {
            "application/vnd.livy.statement-meta+json": {
              "execution_finish_time": "2023-12-10T03:03:52.9533992Z",
              "execution_start_time": "2023-12-10T03:03:52.7986618Z",
              "livy_statement_state": "available",
              "parent_msg_id": "66ab036f-aac7-4f23-8558-98454eddf671",
              "queued_time": "2023-12-10T03:01:26.9065265Z",
              "session_id": "6",
              "session_start_time": null,
              "spark_jobs": null,
              "spark_pool": "ApacheSparkPool",
              "state": "finished",
              "statement_id": 52
            },
            "text/plain": [
              "StatementMeta(ApacheSparkPool, 6, 52, Finished, Available)"
            ]
          },
          "metadata": {},
          "output_type": "display_data"
        }
      ],
      "source": [
        "df['DIFF_FIRST_TERM']=df['FIRST_TERM_ATTEMPT_HRS']-df['FIRST_TERM_EARNED_HRS']"
      ]
    },
    {
      "cell_type": "code",
      "execution_count": 133,
      "metadata": {},
      "outputs": [
        {
          "data": {
            "application/vnd.livy.statement-meta+json": {
              "execution_finish_time": "2023-12-10T03:03:53.2310207Z",
              "execution_start_time": "2023-12-10T03:03:53.0802935Z",
              "livy_statement_state": "available",
              "parent_msg_id": "2316c1c5-78c4-4d8e-a947-8238f53ad632",
              "queued_time": "2023-12-10T03:01:27.0449699Z",
              "session_id": "6",
              "session_start_time": null,
              "spark_jobs": null,
              "spark_pool": "ApacheSparkPool",
              "state": "finished",
              "statement_id": 53
            },
            "text/plain": [
              "StatementMeta(ApacheSparkPool, 6, 53, Finished, Available)"
            ]
          },
          "metadata": {},
          "output_type": "display_data"
        }
      ],
      "source": [
        "# Tương tự với DIFF_SECOND_TERM\n",
        "df['DIFF_SECOND_TERM']=df['SECOND_TERM_ATTEMPT_HRS']-df['SECOND_TERM_EARNED_HRS']"
      ]
    },
    {
      "cell_type": "code",
      "execution_count": 134,
      "metadata": {},
      "outputs": [
        {
          "data": {
            "application/vnd.livy.statement-meta+json": {
              "execution_finish_time": "2023-12-10T03:03:53.5292862Z",
              "execution_start_time": "2023-12-10T03:03:53.3757603Z",
              "livy_statement_state": "available",
              "parent_msg_id": "be63fef9-c1d2-4557-ab7d-ac2f2ee3407e",
              "queued_time": "2023-12-10T03:01:27.1762827Z",
              "session_id": "6",
              "session_start_time": null,
              "spark_jobs": null,
              "spark_pool": "ApacheSparkPool",
              "state": "finished",
              "statement_id": 54
            },
            "text/plain": [
              "StatementMeta(ApacheSparkPool, 6, 54, Finished, Available)"
            ]
          },
          "metadata": {},
          "output_type": "display_data"
        }
      ],
      "source": [
        "# Xóa các thuộc tính\n",
        "df = df.drop(['FIRST_TERM_ATTEMPT_HRS','FIRST_TERM_EARNED_HRS','SECOND_TERM_ATTEMPT_HRS','SECOND_TERM_EARNED_HRS'],axis=1)"
      ]
    },
    {
      "cell_type": "markdown",
      "metadata": {
        "nteract": {
          "transient": {
            "deleting": false
          }
        }
      },
      "source": [
        "Nhằm biểu diễn rõ hơn về học lực của sinh viên ta sẽ tiến hành tạo thêm cột mới HIGH_SCHL_GPA_CLASSIFY"
      ]
    },
    {
      "cell_type": "code",
      "execution_count": 135,
      "metadata": {
        "jupyter": {
          "outputs_hidden": false,
          "source_hidden": false
        },
        "nteract": {
          "transient": {
            "deleting": false
          }
        }
      },
      "outputs": [
        {
          "data": {
            "application/vnd.livy.statement-meta+json": {
              "execution_finish_time": "2023-12-10T03:03:53.8065721Z",
              "execution_start_time": "2023-12-10T03:03:53.6560534Z",
              "livy_statement_state": "available",
              "parent_msg_id": "a1ba4a53-7b7f-4655-9c10-233e2b674ceb",
              "queued_time": "2023-12-10T03:01:27.3261806Z",
              "session_id": "6",
              "session_start_time": null,
              "spark_jobs": null,
              "spark_pool": "ApacheSparkPool",
              "state": "finished",
              "statement_id": 55
            },
            "text/plain": [
              "StatementMeta(ApacheSparkPool, 6, 55, Finished, Available)"
            ]
          },
          "metadata": {},
          "output_type": "display_data"
        }
      ],
      "source": [
        "def classify_gpa(gpa):\n",
        "    if gpa >= 3.8:\n",
        "        return \"Excellent\"\n",
        "    elif 3.2 <= gpa < 3.8:\n",
        "        return \"Good\"\n",
        "    elif 2.5 <= gpa < 3.2:\n",
        "        return \"Above Average\"\n",
        "    elif 2.0 <= gpa < 2.5:\n",
        "        return \"Average\"\n",
        "    else:\n",
        "        return \"Poor\""
      ]
    },
    {
      "cell_type": "code",
      "execution_count": 136,
      "metadata": {
        "jupyter": {
          "outputs_hidden": false,
          "source_hidden": false
        },
        "nteract": {
          "transient": {
            "deleting": false
          }
        }
      },
      "outputs": [
        {
          "data": {
            "application/vnd.livy.statement-meta+json": {
              "execution_finish_time": "2023-12-10T03:03:54.0724013Z",
              "execution_start_time": "2023-12-10T03:03:53.9295799Z",
              "livy_statement_state": "available",
              "parent_msg_id": "dbff5596-d642-4339-b802-3b60d11d936e",
              "queued_time": "2023-12-10T03:01:27.4565623Z",
              "session_id": "6",
              "session_start_time": null,
              "spark_jobs": null,
              "spark_pool": "ApacheSparkPool",
              "state": "finished",
              "statement_id": 56
            },
            "text/plain": [
              "StatementMeta(ApacheSparkPool, 6, 56, Finished, Available)"
            ]
          },
          "metadata": {},
          "output_type": "display_data"
        }
      ],
      "source": [
        "df['HIGH_SCHL_GPA_CLASSIFY'] = df['HIGH_SCHL_GPA'].apply(classify_gpa)"
      ]
    },
    {
      "cell_type": "code",
      "execution_count": 137,
      "metadata": {
        "jupyter": {
          "outputs_hidden": false,
          "source_hidden": false
        },
        "nteract": {
          "transient": {
            "deleting": false
          }
        }
      },
      "outputs": [
        {
          "data": {
            "application/vnd.livy.statement-meta+json": {
              "execution_finish_time": "2023-12-10T03:03:54.368635Z",
              "execution_start_time": "2023-12-10T03:03:54.2151584Z",
              "livy_statement_state": "available",
              "parent_msg_id": "80477dec-71a8-42b7-be56-2ee61f64f53c",
              "queued_time": "2023-12-10T03:01:27.5924579Z",
              "session_id": "6",
              "session_start_time": null,
              "spark_jobs": null,
              "spark_pool": "ApacheSparkPool",
              "state": "finished",
              "statement_id": 57
            },
            "text/plain": [
              "StatementMeta(ApacheSparkPool, 6, 57, Finished, Available)"
            ]
          },
          "metadata": {},
          "output_type": "display_data"
        }
      ],
      "source": [
        "# Xóa HIGH_SCHL_GPA\n",
        "df = df.drop(['HIGH_SCHL_GPA'],axis=1)"
      ]
    },
    {
      "cell_type": "markdown",
      "metadata": {},
      "source": [
        "## Feature selection"
      ]
    },
    {
      "cell_type": "markdown",
      "metadata": {},
      "source": [
        "Ta tiến hành loại bỏ các thuộc tính không cần thiết cho mô hình"
      ]
    },
    {
      "cell_type": "code",
      "execution_count": 138,
      "metadata": {},
      "outputs": [
        {
          "data": {
            "application/vnd.livy.statement-meta+json": {
              "execution_finish_time": "2023-12-10T03:03:54.6360995Z",
              "execution_start_time": "2023-12-10T03:03:54.4914874Z",
              "livy_statement_state": "available",
              "parent_msg_id": "215e9b1c-3ca7-49f0-9389-5e96dd02189f",
              "queued_time": "2023-12-10T03:01:27.7187406Z",
              "session_id": "6",
              "session_start_time": null,
              "spark_jobs": null,
              "spark_pool": "ApacheSparkPool",
              "state": "finished",
              "statement_id": 58
            },
            "text/plain": [
              "StatementMeta(ApacheSparkPool, 6, 58, Finished, Available)"
            ]
          },
          "metadata": {},
          "output_type": "display_data"
        }
      ],
      "source": [
        "df = df.drop(columns=[\n",
        "    'STUDENT IDENTIFIER',\n",
        "    'HIGH_SCHL_NAME',\n",
        "    'DEGREE_GROUP_CD',\n",
        "], axis=1)"
      ]
    },
    {
      "cell_type": "markdown",
      "metadata": {},
      "source": [
        "Các thuộc tính như mã số sinh viên, hay mã tr cấp 3 không mang lại nhiều kết quả tốt cho việc dự đoán, thuộc tính DEGREE_GROUP_CD là mã bằng cấp mà sinh viên đã đăng ký vào trường đại học tuy nhiên DEGREE_GROUP_DESC đã mô tả ý nghĩa nên ta sẽ loại bỏ"
      ]
    },
    {
      "cell_type": "code",
      "execution_count": 139,
      "metadata": {},
      "outputs": [
        {
          "data": {
            "application/vnd.livy.statement-meta+json": {
              "execution_finish_time": "2023-12-10T03:03:54.9258714Z",
              "execution_start_time": "2023-12-10T03:03:54.7650558Z",
              "livy_statement_state": "available",
              "parent_msg_id": "d8b080cb-b780-4ce5-8386-7eb453a06dc4",
              "queued_time": "2023-12-10T03:01:27.8785845Z",
              "session_id": "6",
              "session_start_time": null,
              "spark_jobs": null,
              "spark_pool": "ApacheSparkPool",
              "state": "finished",
              "statement_id": 59
            },
            "text/plain": [
              "StatementMeta(ApacheSparkPool, 6, 59, Finished, Available)"
            ]
          },
          "metadata": {},
          "output_type": "display_data"
        },
        {
          "data": {
            "text/html": [
              "<div>\n",
              "<style scoped>\n",
              "    .dataframe tbody tr th:only-of-type {\n",
              "        vertical-align: middle;\n",
              "    }\n",
              "\n",
              "    .dataframe tbody tr th {\n",
              "        vertical-align: top;\n",
              "    }\n",
              "\n",
              "    .dataframe thead th {\n",
              "        text-align: right;\n",
              "    }\n",
              "</style>\n",
              "<table border=\"1\" class=\"dataframe\">\n",
              "  <thead>\n",
              "    <tr style=\"text-align: right;\">\n",
              "      <th></th>\n",
              "      <th>STDNT_AGE</th>\n",
              "      <th>STDNT_GENDER</th>\n",
              "      <th>STDNT_BACKGROUND</th>\n",
              "      <th>IN_STATE_FLAG</th>\n",
              "      <th>INTERNATIONAL_STS</th>\n",
              "      <th>STDNT_MAJOR</th>\n",
              "      <th>STDNT_MINOR</th>\n",
              "      <th>STDNT_TEST_ENTRANCE_COMB</th>\n",
              "      <th>FIRST_TERM</th>\n",
              "      <th>CORE_COURSE_NAME_1_F</th>\n",
              "      <th>...</th>\n",
              "      <th>FATHER_HI_EDU_DESC</th>\n",
              "      <th>MOTHER_HI_EDU_DESC</th>\n",
              "      <th>DEGREE_GROUP_DESC</th>\n",
              "      <th>GROSS_FIN_NEED</th>\n",
              "      <th>COST_OF_ATTEND</th>\n",
              "      <th>EST_FAM_CONTRIBUTION</th>\n",
              "      <th>UNMET_NEED</th>\n",
              "      <th>DIFF_FIRST_TERM</th>\n",
              "      <th>DIFF_SECOND_TERM</th>\n",
              "      <th>HIGH_SCHL_GPA_CLASSIFY</th>\n",
              "    </tr>\n",
              "  </thead>\n",
              "  <tbody>\n",
              "    <tr>\n",
              "      <th>0</th>\n",
              "      <td>18</td>\n",
              "      <td>F</td>\n",
              "      <td>BGD 1</td>\n",
              "      <td>Y</td>\n",
              "      <td>N</td>\n",
              "      <td>Undeclared</td>\n",
              "      <td>N</td>\n",
              "      <td>1150.0</td>\n",
              "      <td>200708</td>\n",
              "      <td>ANTH 1105</td>\n",
              "      <td>...</td>\n",
              "      <td>No Information</td>\n",
              "      <td>No Information</td>\n",
              "      <td>Bachelors</td>\n",
              "      <td>0</td>\n",
              "      <td>0</td>\n",
              "      <td>0</td>\n",
              "      <td>0.0</td>\n",
              "      <td>0</td>\n",
              "      <td>0.0</td>\n",
              "      <td>Excellent</td>\n",
              "    </tr>\n",
              "    <tr>\n",
              "      <th>1</th>\n",
              "      <td>19</td>\n",
              "      <td>F</td>\n",
              "      <td>BGD 1</td>\n",
              "      <td>N</td>\n",
              "      <td>N</td>\n",
              "      <td>Undeclared</td>\n",
              "      <td>N</td>\n",
              "      <td>1190.0</td>\n",
              "      <td>200808</td>\n",
              "      <td>ANTH 1105</td>\n",
              "      <td>...</td>\n",
              "      <td>College/Beyond</td>\n",
              "      <td>College/Beyond</td>\n",
              "      <td>Bachelors</td>\n",
              "      <td>570000</td>\n",
              "      <td>1355760</td>\n",
              "      <td>785760</td>\n",
              "      <td>459300.0</td>\n",
              "      <td>0</td>\n",
              "      <td>0.0</td>\n",
              "      <td>Above Average</td>\n",
              "    </tr>\n",
              "    <tr>\n",
              "      <th>2</th>\n",
              "      <td>18</td>\n",
              "      <td>M</td>\n",
              "      <td>BGD 1</td>\n",
              "      <td>Y</td>\n",
              "      <td>N</td>\n",
              "      <td>Mathematics</td>\n",
              "      <td>N</td>\n",
              "      <td>1030.0</td>\n",
              "      <td>201008</td>\n",
              "      <td>ANTH 1105</td>\n",
              "      <td>...</td>\n",
              "      <td>High School</td>\n",
              "      <td>Other/Unknown</td>\n",
              "      <td>Bachelors</td>\n",
              "      <td>0</td>\n",
              "      <td>0</td>\n",
              "      <td>0</td>\n",
              "      <td>0.0</td>\n",
              "      <td>0</td>\n",
              "      <td>0.0</td>\n",
              "      <td>Good</td>\n",
              "    </tr>\n",
              "    <tr>\n",
              "      <th>3</th>\n",
              "      <td>18</td>\n",
              "      <td>M</td>\n",
              "      <td>BGD 1</td>\n",
              "      <td>Y</td>\n",
              "      <td>N</td>\n",
              "      <td>Undeclared</td>\n",
              "      <td>N</td>\n",
              "      <td>1220.0</td>\n",
              "      <td>200708</td>\n",
              "      <td>ANTH 1107</td>\n",
              "      <td>...</td>\n",
              "      <td>College/Beyond</td>\n",
              "      <td>College/Beyond</td>\n",
              "      <td>Bachelors</td>\n",
              "      <td>0</td>\n",
              "      <td>0</td>\n",
              "      <td>0</td>\n",
              "      <td>0.0</td>\n",
              "      <td>0</td>\n",
              "      <td>0.0</td>\n",
              "      <td>Above Average</td>\n",
              "    </tr>\n",
              "    <tr>\n",
              "      <th>4</th>\n",
              "      <td>18</td>\n",
              "      <td>F</td>\n",
              "      <td>BGD 1</td>\n",
              "      <td>Y</td>\n",
              "      <td>N</td>\n",
              "      <td>Art</td>\n",
              "      <td>N</td>\n",
              "      <td>1190.0</td>\n",
              "      <td>200808</td>\n",
              "      <td>ANTH 1107</td>\n",
              "      <td>...</td>\n",
              "      <td>College/Beyond</td>\n",
              "      <td>High School</td>\n",
              "      <td>Bachelors</td>\n",
              "      <td>835920</td>\n",
              "      <td>1355760</td>\n",
              "      <td>519840</td>\n",
              "      <td>278340.0</td>\n",
              "      <td>0</td>\n",
              "      <td>0.0</td>\n",
              "      <td>Excellent</td>\n",
              "    </tr>\n",
              "    <tr>\n",
              "      <th>5</th>\n",
              "      <td>18</td>\n",
              "      <td>M</td>\n",
              "      <td>BGD 1</td>\n",
              "      <td>Y</td>\n",
              "      <td>N</td>\n",
              "      <td>Political Science</td>\n",
              "      <td>N</td>\n",
              "      <td>1070.0</td>\n",
              "      <td>201008</td>\n",
              "      <td>ARAB 1001</td>\n",
              "      <td>...</td>\n",
              "      <td>High School</td>\n",
              "      <td>College/Beyond</td>\n",
              "      <td>Bachelors</td>\n",
              "      <td>0</td>\n",
              "      <td>0</td>\n",
              "      <td>0</td>\n",
              "      <td>0.0</td>\n",
              "      <td>0</td>\n",
              "      <td>0.0</td>\n",
              "      <td>Excellent</td>\n",
              "    </tr>\n",
              "    <tr>\n",
              "      <th>6</th>\n",
              "      <td>18</td>\n",
              "      <td>F</td>\n",
              "      <td>BGD 1</td>\n",
              "      <td>Y</td>\n",
              "      <td>N</td>\n",
              "      <td>Biology</td>\n",
              "      <td>N</td>\n",
              "      <td>590.0</td>\n",
              "      <td>200508</td>\n",
              "      <td>ARTH 1100</td>\n",
              "      <td>...</td>\n",
              "      <td>No Information</td>\n",
              "      <td>No Information</td>\n",
              "      <td>Bachelors</td>\n",
              "      <td>0</td>\n",
              "      <td>0</td>\n",
              "      <td>0</td>\n",
              "      <td>0.0</td>\n",
              "      <td>0</td>\n",
              "      <td>0.0</td>\n",
              "      <td>Excellent</td>\n",
              "    </tr>\n",
              "    <tr>\n",
              "      <th>7</th>\n",
              "      <td>18</td>\n",
              "      <td>F</td>\n",
              "      <td>BGD 1</td>\n",
              "      <td>Y</td>\n",
              "      <td>N</td>\n",
              "      <td>Biology</td>\n",
              "      <td>N</td>\n",
              "      <td>740.0</td>\n",
              "      <td>200508</td>\n",
              "      <td>ARTH 1100</td>\n",
              "      <td>...</td>\n",
              "      <td>No Information</td>\n",
              "      <td>No Information</td>\n",
              "      <td>Bachelors</td>\n",
              "      <td>0</td>\n",
              "      <td>0</td>\n",
              "      <td>0</td>\n",
              "      <td>0.0</td>\n",
              "      <td>0</td>\n",
              "      <td>0.0</td>\n",
              "      <td>Excellent</td>\n",
              "    </tr>\n",
              "    <tr>\n",
              "      <th>8</th>\n",
              "      <td>18</td>\n",
              "      <td>F</td>\n",
              "      <td>BGD 3</td>\n",
              "      <td>Y</td>\n",
              "      <td>N</td>\n",
              "      <td>Accounting</td>\n",
              "      <td>N</td>\n",
              "      <td>1070.0</td>\n",
              "      <td>200508</td>\n",
              "      <td>ARTH 1100</td>\n",
              "      <td>...</td>\n",
              "      <td>College/Beyond</td>\n",
              "      <td>College/Beyond</td>\n",
              "      <td>Bachelors</td>\n",
              "      <td>0</td>\n",
              "      <td>0</td>\n",
              "      <td>0</td>\n",
              "      <td>0.0</td>\n",
              "      <td>0</td>\n",
              "      <td>0.0</td>\n",
              "      <td>Excellent</td>\n",
              "    </tr>\n",
              "    <tr>\n",
              "      <th>9</th>\n",
              "      <td>18</td>\n",
              "      <td>F</td>\n",
              "      <td>BGD 1</td>\n",
              "      <td>Y</td>\n",
              "      <td>N</td>\n",
              "      <td>Undeclared</td>\n",
              "      <td>N</td>\n",
              "      <td>950.0</td>\n",
              "      <td>200608</td>\n",
              "      <td>ARTH 1100</td>\n",
              "      <td>...</td>\n",
              "      <td>College/Beyond</td>\n",
              "      <td>College/Beyond</td>\n",
              "      <td>Bachelors</td>\n",
              "      <td>0</td>\n",
              "      <td>0</td>\n",
              "      <td>0</td>\n",
              "      <td>0.0</td>\n",
              "      <td>0</td>\n",
              "      <td>0.0</td>\n",
              "      <td>Good</td>\n",
              "    </tr>\n",
              "  </tbody>\n",
              "</table>\n",
              "<p>10 rows × 35 columns</p>\n",
              "</div>"
            ],
            "text/plain": [
              "   STDNT_AGE STDNT_GENDER STDNT_BACKGROUND IN_STATE_FLAG INTERNATIONAL_STS  \\\n",
              "0         18            F            BGD 1             Y                 N   \n",
              "1         19            F            BGD 1             N                 N   \n",
              "2         18            M            BGD 1             Y                 N   \n",
              "3         18            M            BGD 1             Y                 N   \n",
              "4         18            F            BGD 1             Y                 N   \n",
              "5         18            M            BGD 1             Y                 N   \n",
              "6         18            F            BGD 1             Y                 N   \n",
              "7         18            F            BGD 1             Y                 N   \n",
              "8         18            F            BGD 3             Y                 N   \n",
              "9         18            F            BGD 1             Y                 N   \n",
              "\n",
              "         STDNT_MAJOR STDNT_MINOR  STDNT_TEST_ENTRANCE_COMB  FIRST_TERM  \\\n",
              "0         Undeclared           N                    1150.0      200708   \n",
              "1         Undeclared           N                    1190.0      200808   \n",
              "2        Mathematics           N                    1030.0      201008   \n",
              "3         Undeclared           N                    1220.0      200708   \n",
              "4                Art           N                    1190.0      200808   \n",
              "5  Political Science           N                    1070.0      201008   \n",
              "6            Biology           N                     590.0      200508   \n",
              "7            Biology           N                     740.0      200508   \n",
              "8         Accounting           N                    1070.0      200508   \n",
              "9         Undeclared           N                     950.0      200608   \n",
              "\n",
              "  CORE_COURSE_NAME_1_F  ... FATHER_HI_EDU_DESC MOTHER_HI_EDU_DESC  \\\n",
              "0            ANTH 1105  ...     No Information     No Information   \n",
              "1            ANTH 1105  ...     College/Beyond     College/Beyond   \n",
              "2            ANTH 1105  ...        High School      Other/Unknown   \n",
              "3            ANTH 1107  ...     College/Beyond     College/Beyond   \n",
              "4            ANTH 1107  ...     College/Beyond        High School   \n",
              "5            ARAB 1001  ...        High School     College/Beyond   \n",
              "6            ARTH 1100  ...     No Information     No Information   \n",
              "7            ARTH 1100  ...     No Information     No Information   \n",
              "8            ARTH 1100  ...     College/Beyond     College/Beyond   \n",
              "9            ARTH 1100  ...     College/Beyond     College/Beyond   \n",
              "\n",
              "  DEGREE_GROUP_DESC GROSS_FIN_NEED COST_OF_ATTEND  EST_FAM_CONTRIBUTION  \\\n",
              "0         Bachelors              0              0                     0   \n",
              "1         Bachelors         570000        1355760                785760   \n",
              "2         Bachelors              0              0                     0   \n",
              "3         Bachelors              0              0                     0   \n",
              "4         Bachelors         835920        1355760                519840   \n",
              "5         Bachelors              0              0                     0   \n",
              "6         Bachelors              0              0                     0   \n",
              "7         Bachelors              0              0                     0   \n",
              "8         Bachelors              0              0                     0   \n",
              "9         Bachelors              0              0                     0   \n",
              "\n",
              "  UNMET_NEED DIFF_FIRST_TERM DIFF_SECOND_TERM HIGH_SCHL_GPA_CLASSIFY  \n",
              "0        0.0               0              0.0              Excellent  \n",
              "1   459300.0               0              0.0          Above Average  \n",
              "2        0.0               0              0.0                   Good  \n",
              "3        0.0               0              0.0          Above Average  \n",
              "4   278340.0               0              0.0              Excellent  \n",
              "5        0.0               0              0.0              Excellent  \n",
              "6        0.0               0              0.0              Excellent  \n",
              "7        0.0               0              0.0              Excellent  \n",
              "8        0.0               0              0.0              Excellent  \n",
              "9        0.0               0              0.0                   Good  \n",
              "\n",
              "[10 rows x 35 columns]"
            ]
          },
          "execution_count": 119,
          "metadata": {},
          "output_type": "execute_result"
        }
      ],
      "source": [
        "df.head(10)"
      ]
    },
    {
      "cell_type": "code",
      "execution_count": 140,
      "metadata": {},
      "outputs": [
        {
          "data": {
            "application/vnd.livy.statement-meta+json": {
              "execution_finish_time": "2023-12-10T03:03:55.1972885Z",
              "execution_start_time": "2023-12-10T03:03:55.0535985Z",
              "livy_statement_state": "available",
              "parent_msg_id": "b20781e0-f3bc-46bb-9e6d-866f6dd5e6bb",
              "queued_time": "2023-12-10T03:01:28.0161625Z",
              "session_id": "6",
              "session_start_time": null,
              "spark_jobs": null,
              "spark_pool": "ApacheSparkPool",
              "state": "finished",
              "statement_id": 60
            },
            "text/plain": [
              "StatementMeta(ApacheSparkPool, 6, 60, Finished, Available)"
            ]
          },
          "metadata": {},
          "output_type": "display_data"
        },
        {
          "data": {
            "text/plain": [
              "FIRST_TERM\n",
              "200908    676\n",
              "201008    632\n",
              "200808    581\n",
              "200708    521\n",
              "200608    497\n",
              "200508    493\n",
              "Name: count, dtype: int64"
            ]
          },
          "execution_count": 121,
          "metadata": {},
          "output_type": "execute_result"
        }
      ],
      "source": [
        "df['FIRST_TERM'].value_counts()"
      ]
    },
    {
      "cell_type": "code",
      "execution_count": 141,
      "metadata": {},
      "outputs": [
        {
          "data": {
            "application/vnd.livy.statement-meta+json": {
              "execution_finish_time": "2023-12-10T03:03:55.4819308Z",
              "execution_start_time": "2023-12-10T03:03:55.325673Z",
              "livy_statement_state": "available",
              "parent_msg_id": "49ed301b-ec3f-4437-9e1f-c0490c339f87",
              "queued_time": "2023-12-10T03:01:28.1568192Z",
              "session_id": "6",
              "session_start_time": null,
              "spark_jobs": null,
              "spark_pool": "ApacheSparkPool",
              "state": "finished",
              "statement_id": 61
            },
            "text/plain": [
              "StatementMeta(ApacheSparkPool, 6, 61, Finished, Available)"
            ]
          },
          "metadata": {},
          "output_type": "display_data"
        }
      ],
      "source": [
        "df['FIRST_TERM'] = df['FIRST_TERM'].replace({200508:2005, 200608:2006, 200708:2007, 200808:2008, 200908:2009, 201008:2010 })"
      ]
    },
    {
      "cell_type": "code",
      "execution_count": 142,
      "metadata": {},
      "outputs": [
        {
          "data": {
            "application/vnd.livy.statement-meta+json": {
              "execution_finish_time": "2023-12-10T03:03:55.7763697Z",
              "execution_start_time": "2023-12-10T03:03:55.6183071Z",
              "livy_statement_state": "available",
              "parent_msg_id": "12e2159f-5242-481b-aaeb-9bc2fc4f4953",
              "queued_time": "2023-12-10T03:01:28.2918055Z",
              "session_id": "6",
              "session_start_time": null,
              "spark_jobs": null,
              "spark_pool": "ApacheSparkPool",
              "state": "finished",
              "statement_id": 62
            },
            "text/plain": [
              "StatementMeta(ApacheSparkPool, 6, 62, Finished, Available)"
            ]
          },
          "metadata": {},
          "output_type": "display_data"
        },
        {
          "data": {
            "text/plain": [
              "SECOND_TERM\n",
              "201002    676\n",
              "201102    632\n",
              "200902    581\n",
              "200802    521\n",
              "200702    497\n",
              "200602    493\n",
              "Name: count, dtype: int64"
            ]
          },
          "execution_count": 125,
          "metadata": {},
          "output_type": "execute_result"
        }
      ],
      "source": [
        "df['SECOND_TERM'].value_counts()"
      ]
    },
    {
      "cell_type": "code",
      "execution_count": 143,
      "metadata": {},
      "outputs": [
        {
          "data": {
            "application/vnd.livy.statement-meta+json": {
              "execution_finish_time": "2023-12-10T03:03:56.0713843Z",
              "execution_start_time": "2023-12-10T03:03:55.9075124Z",
              "livy_statement_state": "available",
              "parent_msg_id": "912d9e63-6f85-422e-af9f-05a813644500",
              "queued_time": "2023-12-10T03:01:28.4325215Z",
              "session_id": "6",
              "session_start_time": null,
              "spark_jobs": null,
              "spark_pool": "ApacheSparkPool",
              "state": "finished",
              "statement_id": 63
            },
            "text/plain": [
              "StatementMeta(ApacheSparkPool, 6, 63, Finished, Available)"
            ]
          },
          "metadata": {},
          "output_type": "display_data"
        }
      ],
      "source": [
        "df['SECOND_TERM'] = df['SECOND_TERM'].replace({200602:2006, 200702:2007, 200802:2008, 200902:2009, 201002:2010, 201102:2011 })"
      ]
    },
    {
      "cell_type": "code",
      "execution_count": 144,
      "metadata": {},
      "outputs": [
        {
          "data": {
            "application/vnd.livy.statement-meta+json": {
              "execution_finish_time": "2023-12-10T03:03:56.3678689Z",
              "execution_start_time": "2023-12-10T03:03:56.2148803Z",
              "livy_statement_state": "available",
              "parent_msg_id": "fa288b41-9458-4e61-b1b4-0023b21d1172",
              "queued_time": "2023-12-10T03:01:28.5741228Z",
              "session_id": "6",
              "session_start_time": null,
              "spark_jobs": null,
              "spark_pool": "ApacheSparkPool",
              "state": "finished",
              "statement_id": 64
            },
            "text/plain": [
              "StatementMeta(ApacheSparkPool, 6, 64, Finished, Available)"
            ]
          },
          "metadata": {},
          "output_type": "display_data"
        },
        {
          "data": {
            "text/plain": [
              "STDNT_MINOR\n",
              "N                                3160\n",
              "Spanish                            26\n",
              "Psychology                         19\n",
              "Music                              19\n",
              "Foundations of Business            15\n",
              "Communication                      14\n",
              "History                            13\n",
              "Theatre Arts                       12\n",
              "Criminal Justice                   12\n",
              "Computer Science - Systems         10\n",
              "Early Childhood Education           9\n",
              "Mathematics                         7\n",
              "Professional Writing                6\n",
              "Marketing                           6\n",
              "Art History                         6\n",
              "Art                                 5\n",
              "Sociology                           5\n",
              "English Language/Literature         5\n",
              "Political Science                   4\n",
              "Chemistry                           4\n",
              "Accounting                          4\n",
              "Biology                             4\n",
              "French                              4\n",
              "Computer Info. Management           3\n",
              "Exercise Science                    3\n",
              "International Business              3\n",
              "Economics                           3\n",
              "Health Science                      3\n",
              "Asian Studies                       2\n",
              "Creative Writing                    2\n",
              "Military Sci & Adv Leadership       2\n",
              "African Studies                     2\n",
              "Management                          2\n",
              "Anthropology                        2\n",
              "Philosophy                          2\n",
              "Women's Studies                     1\n",
              "Finance                             1\n",
              "Name: count, dtype: int64"
            ]
          },
          "execution_count": 129,
          "metadata": {},
          "output_type": "execute_result"
        }
      ],
      "source": [
        "df['STDNT_MINOR'].value_counts()"
      ]
    },
    {
      "cell_type": "code",
      "execution_count": 145,
      "metadata": {},
      "outputs": [
        {
          "data": {
            "application/vnd.livy.statement-meta+json": {
              "execution_finish_time": "2023-12-10T03:03:56.6347055Z",
              "execution_start_time": "2023-12-10T03:03:56.4909912Z",
              "livy_statement_state": "available",
              "parent_msg_id": "c1b86a37-a0f9-4a89-a631-93d64ee65682",
              "queued_time": "2023-12-10T03:01:28.7163222Z",
              "session_id": "6",
              "session_start_time": null,
              "spark_jobs": null,
              "spark_pool": "ApacheSparkPool",
              "state": "finished",
              "statement_id": 65
            },
            "text/plain": [
              "StatementMeta(ApacheSparkPool, 6, 65, Finished, Available)"
            ]
          },
          "metadata": {},
          "output_type": "display_data"
        }
      ],
      "source": [
        "# Ta thấy vì số lượng sinh viên không học chuyên ngành phụ nên ta xem xét loại bỏ thuộc tính này khỏi mô hình\n",
        "df = df.drop(['STDNT_MINOR'],axis=1)"
      ]
    },
    {
      "cell_type": "code",
      "execution_count": 146,
      "metadata": {},
      "outputs": [
        {
          "data": {
            "application/vnd.livy.statement-meta+json": {
              "execution_finish_time": "2023-12-10T03:03:56.9162944Z",
              "execution_start_time": "2023-12-10T03:03:56.7599334Z",
              "livy_statement_state": "available",
              "parent_msg_id": "6c7ccef6-1c5f-4a6d-b63d-9b48bcd5b2a5",
              "queued_time": "2023-12-10T03:01:28.8450802Z",
              "session_id": "6",
              "session_start_time": null,
              "spark_jobs": null,
              "spark_pool": "ApacheSparkPool",
              "state": "finished",
              "statement_id": 66
            },
            "text/plain": [
              "StatementMeta(ApacheSparkPool, 6, 66, Finished, Available)"
            ]
          },
          "metadata": {},
          "output_type": "display_data"
        },
        {
          "data": {
            "text/plain": [
              "CORE_COURSE_NAME_1_F\n",
              "ENGL 1101     624\n",
              "COMM 1110     278\n",
              "HIST 2111     271\n",
              "MATH 1111     226\n",
              "CHEM 1211     202\n",
              "             ... \n",
              "MATH 2125       1\n",
              "PHYS 2311       1\n",
              "GEOL 1121L      1\n",
              "THEA 1100I      1\n",
              "ENGL 2111       1\n",
              "Name: count, Length: 69, dtype: int64"
            ]
          },
          "execution_count": 133,
          "metadata": {},
          "output_type": "execute_result"
        }
      ],
      "source": [
        "df['CORE_COURSE_NAME_1_F'].value_counts()"
      ]
    },
    {
      "cell_type": "code",
      "execution_count": 147,
      "metadata": {},
      "outputs": [
        {
          "data": {
            "application/vnd.livy.statement-meta+json": {
              "execution_finish_time": "2023-12-10T03:03:57.1866818Z",
              "execution_start_time": "2023-12-10T03:03:57.0392229Z",
              "livy_statement_state": "available",
              "parent_msg_id": "9a099a75-c0c1-4eff-b299-4caba2f9b6d2",
              "queued_time": "2023-12-10T03:01:28.9931869Z",
              "session_id": "6",
              "session_start_time": null,
              "spark_jobs": null,
              "spark_pool": "ApacheSparkPool",
              "state": "finished",
              "statement_id": 67
            },
            "text/plain": [
              "StatementMeta(ApacheSparkPool, 6, 67, Finished, Available)"
            ]
          },
          "metadata": {},
          "output_type": "display_data"
        }
      ],
      "source": [
        "df['CORE_COURSE_NAME_1_F']=df['CORE_COURSE_NAME_1_F'].str.slice(0,4)\n",
        "df['CORE_COURSE_NAME_2_F']=df['CORE_COURSE_NAME_2_F'].str.slice(0,4)\n",
        "df['CORE_COURSE_NAME_3_F']=df['CORE_COURSE_NAME_3_F'].str.slice(0,4)\n",
        "df['CORE_COURSE_NAME_1_S']=df['CORE_COURSE_NAME_1_S'].str.slice(0,4)\n",
        "df['CORE_COURSE_NAME_2_S']=df['CORE_COURSE_NAME_2_S'].str.slice(0,4)\n",
        "df['CORE_COURSE_NAME_3_S']=df['CORE_COURSE_NAME_3_S'].str.slice(0,4)"
      ]
    },
    {
      "cell_type": "code",
      "execution_count": 148,
      "metadata": {
        "jupyter": {
          "outputs_hidden": false,
          "source_hidden": false
        },
        "nteract": {
          "transient": {
            "deleting": false
          }
        }
      },
      "outputs": [
        {
          "data": {
            "application/vnd.livy.statement-meta+json": {
              "execution_finish_time": "2023-12-10T03:03:57.4788006Z",
              "execution_start_time": "2023-12-10T03:03:57.3231191Z",
              "livy_statement_state": "available",
              "parent_msg_id": "55838491-6d70-4bbf-b732-369c84365b0f",
              "queued_time": "2023-12-10T03:01:29.1240654Z",
              "session_id": "6",
              "session_start_time": null,
              "spark_jobs": null,
              "spark_pool": "ApacheSparkPool",
              "state": "finished",
              "statement_id": 68
            },
            "text/plain": [
              "StatementMeta(ApacheSparkPool, 6, 68, Finished, Available)"
            ]
          },
          "metadata": {},
          "output_type": "display_data"
        }
      ],
      "source": [
        "df['STDNT_GENDER'] = df['STDNT_GENDER'].replace({'F': 0, 'M': 1})"
      ]
    },
    {
      "cell_type": "code",
      "execution_count": 149,
      "metadata": {
        "jupyter": {
          "outputs_hidden": false,
          "source_hidden": false
        },
        "nteract": {
          "transient": {
            "deleting": false
          }
        }
      },
      "outputs": [
        {
          "data": {
            "application/vnd.livy.statement-meta+json": {
              "execution_finish_time": "2023-12-10T03:03:57.7759544Z",
              "execution_start_time": "2023-12-10T03:03:57.6107343Z",
              "livy_statement_state": "available",
              "parent_msg_id": "3a896e57-4eee-43c6-9bea-cab636c2eca4",
              "queued_time": "2023-12-10T03:01:29.2641363Z",
              "session_id": "6",
              "session_start_time": null,
              "spark_jobs": null,
              "spark_pool": "ApacheSparkPool",
              "state": "finished",
              "statement_id": 69
            },
            "text/plain": [
              "StatementMeta(ApacheSparkPool, 6, 69, Finished, Available)"
            ]
          },
          "metadata": {},
          "output_type": "display_data"
        }
      ],
      "source": [
        "df['IN_STATE_FLAG'] = df['IN_STATE_FLAG'].replace({'Y': 1, 'N': 0})"
      ]
    },
    {
      "cell_type": "code",
      "execution_count": 150,
      "metadata": {
        "jupyter": {
          "outputs_hidden": false,
          "source_hidden": false
        },
        "nteract": {
          "transient": {
            "deleting": false
          }
        }
      },
      "outputs": [
        {
          "data": {
            "application/vnd.livy.statement-meta+json": {
              "execution_finish_time": "2023-12-10T03:03:58.0779751Z",
              "execution_start_time": "2023-12-10T03:03:57.9063668Z",
              "livy_statement_state": "available",
              "parent_msg_id": "55ae4a98-e127-426b-b034-88cdaccbdec0",
              "queued_time": "2023-12-10T03:01:29.4045125Z",
              "session_id": "6",
              "session_start_time": null,
              "spark_jobs": null,
              "spark_pool": "ApacheSparkPool",
              "state": "finished",
              "statement_id": 70
            },
            "text/plain": [
              "StatementMeta(ApacheSparkPool, 6, 70, Finished, Available)"
            ]
          },
          "metadata": {},
          "output_type": "display_data"
        }
      ],
      "source": [
        "df['INTERNATIONAL_STS'] = df['INTERNATIONAL_STS'].replace({'Y': 1, 'N': 0})"
      ]
    },
    {
      "cell_type": "code",
      "execution_count": 151,
      "metadata": {
        "jupyter": {
          "outputs_hidden": false,
          "source_hidden": false
        },
        "nteract": {
          "transient": {
            "deleting": false
          }
        }
      },
      "outputs": [
        {
          "data": {
            "application/vnd.livy.statement-meta+json": {
              "execution_finish_time": "2023-12-10T03:03:58.3536312Z",
              "execution_start_time": "2023-12-10T03:03:58.2060482Z",
              "livy_statement_state": "available",
              "parent_msg_id": "9e3cab19-4cfe-4c53-9673-bdd2883dea29",
              "queued_time": "2023-12-10T03:01:29.5441347Z",
              "session_id": "6",
              "session_start_time": null,
              "spark_jobs": null,
              "spark_pool": "ApacheSparkPool",
              "state": "finished",
              "statement_id": 71
            },
            "text/plain": [
              "StatementMeta(ApacheSparkPool, 6, 71, Finished, Available)"
            ]
          },
          "metadata": {},
          "output_type": "display_data"
        }
      ],
      "source": [
        "df['HOUSING_STS'] = df['HOUSING_STS'].replace({'Off Campus': 0, 'On Campus': 1})"
      ]
    },
    {
      "cell_type": "code",
      "execution_count": 152,
      "metadata": {},
      "outputs": [
        {
          "data": {
            "application/vnd.livy.statement-meta+json": {
              "execution_finish_time": "2023-12-10T03:03:58.6189135Z",
              "execution_start_time": "2023-12-10T03:03:58.4736892Z",
              "livy_statement_state": "available",
              "parent_msg_id": "8a624f48-6bdb-4c29-b9c1-055abd7514c2",
              "queued_time": "2023-12-10T03:01:29.6821087Z",
              "session_id": "6",
              "session_start_time": null,
              "spark_jobs": null,
              "spark_pool": "ApacheSparkPool",
              "state": "finished",
              "statement_id": 72
            },
            "text/plain": [
              "StatementMeta(ApacheSparkPool, 6, 72, Finished, Available)"
            ]
          },
          "metadata": {},
          "output_type": "display_data"
        },
        {
          "name": "stdout",
          "output_type": "stream",
          "text": [
            "  Data Type  Column Count\n",
            "0    object            18\n",
            "1     int64            12\n",
            "2   float64             4\n",
            "\n",
            "Danh sách các cột cho mỗi kiểu dữ liệu:\n",
            "\n",
            "Kiểu dữ liệu object:\n",
            "['STDNT_BACKGROUND', 'STDNT_MAJOR', 'CORE_COURSE_NAME_1_F', 'CORE_COURSE_GRADE_1_F', 'CORE_COURSE_NAME_2_F', 'CORE_COURSE_GRADE_2_F', 'CORE_COURSE_NAME_3_F', 'CORE_COURSE_GRADE_3_F', 'CORE_COURSE_NAME_1_S', 'CORE_COURSE_GRADE_1_S', 'CORE_COURSE_NAME_2_S', 'CORE_COURSE_GRADE_2_S', 'CORE_COURSE_NAME_3_S', 'CORE_COURSE_GRADE_3_S', 'FATHER_HI_EDU_DESC', 'MOTHER_HI_EDU_DESC', 'DEGREE_GROUP_DESC', 'HIGH_SCHL_GPA_CLASSIFY']\n",
            "\n",
            "Kiểu dữ liệu int64:\n",
            "['STDNT_AGE', 'STDNT_GENDER', 'IN_STATE_FLAG', 'INTERNATIONAL_STS', 'FIRST_TERM', 'SECOND_TERM', 'HOUSING_STS', 'RETURNED_2ND_YR', 'GROSS_FIN_NEED', 'COST_OF_ATTEND', 'EST_FAM_CONTRIBUTION', 'DIFF_FIRST_TERM']\n",
            "\n",
            "Kiểu dữ liệu float64:\n",
            "['STDNT_TEST_ENTRANCE_COMB', 'DISTANCE_FROM_HOME', 'UNMET_NEED', 'DIFF_SECOND_TERM']\n"
          ]
        }
      ],
      "source": [
        "import pandas as pd\n",
        "\n",
        "data_types = df.dtypes\n",
        "data_types_df = pd.DataFrame(data_types, columns=['Data Type'])\n",
        "data_types_df['Column'] = data_types_df.index\n",
        "data_types_count = data_types_df['Data Type'].value_counts().reset_index()\n",
        "data_types_count.columns = ['Data Type', 'Column Count']\n",
        "print(data_types_count)\n",
        "print(\"\\nDanh sách các cột cho mỗi kiểu dữ liệu:\")\n",
        "for dtype in data_types_count['Data Type']:\n",
        "    columns_of_type = data_types_df[data_types_df['Data Type'] == dtype]['Column'].tolist()\n",
        "    print(f\"\\nKiểu dữ liệu {dtype}:\")\n",
        "    print(columns_of_type)\n"
      ]
    },
    {
      "cell_type": "markdown",
      "metadata": {},
      "source": [
        "Ta thấy có tổng cộng 16 kiểu dữ liệu số, ta sẽ tiến hành sử dụng ma trận tương quan để loại bỏ các thuộc tính có độ tương quan cao"
      ]
    },
    {
      "cell_type": "code",
      "execution_count": 153,
      "metadata": {},
      "outputs": [
        {
          "data": {
            "application/vnd.livy.statement-meta+json": {
              "execution_finish_time": "2023-12-10T03:03:58.8990618Z",
              "execution_start_time": "2023-12-10T03:03:58.744262Z",
              "livy_statement_state": "available",
              "parent_msg_id": "f1af03df-d871-4133-b9d3-16f8306889c3",
              "queued_time": "2023-12-10T03:01:29.8216383Z",
              "session_id": "6",
              "session_start_time": null,
              "spark_jobs": null,
              "spark_pool": "ApacheSparkPool",
              "state": "finished",
              "statement_id": 73
            },
            "text/plain": [
              "StatementMeta(ApacheSparkPool, 6, 73, Finished, Available)"
            ]
          },
          "metadata": {},
          "output_type": "display_data"
        }
      ],
      "source": [
        "correlation_matrix = df.corr(numeric_only=True)"
      ]
    },
    {
      "cell_type": "code",
      "execution_count": 154,
      "metadata": {},
      "outputs": [
        {
          "data": {
            "application/vnd.livy.statement-meta+json": {
              "execution_finish_time": "2023-12-10T03:04:00.1461026Z",
              "execution_start_time": "2023-12-10T03:03:59.0286785Z",
              "livy_statement_state": "available",
              "parent_msg_id": "99121804-b662-417a-b036-abcb2cdd999e",
              "queued_time": "2023-12-10T03:01:29.9672526Z",
              "session_id": "6",
              "session_start_time": null,
              "spark_jobs": null,
              "spark_pool": "ApacheSparkPool",
              "state": "finished",
              "statement_id": 74
            },
            "text/plain": [
              "StatementMeta(ApacheSparkPool, 6, 74, Finished, Available)"
            ]
          },
          "metadata": {},
          "output_type": "display_data"
        },
        {
          "data": {
            "image/png": "[encoded data removed]",
            "text/plain": [
              "<Figure size 1000x800 with 2 Axes>"
            ]
          },
          "metadata": {},
          "output_type": "display_data"
        }
      ],
      "source": [
        "import seaborn as sns\n",
        "import matplotlib.pyplot as plt\n",
        "\n",
        "plt.figure(figsize=(10, 8))\n",
        "sns.heatmap(correlation_matrix, annot=True, cmap='coolwarm', fmt='.2f')\n",
        "plt.show()\n"
      ]
    },
    {
      "cell_type": "code",
      "execution_count": 155,
      "metadata": {},
      "outputs": [
        {
          "data": {
            "application/vnd.livy.statement-meta+json": {
              "execution_finish_time": "2023-12-10T03:04:00.4454401Z",
              "execution_start_time": "2023-12-10T03:04:00.2814899Z",
              "livy_statement_state": "available",
              "parent_msg_id": "d92ebb24-e23a-4290-9304-3073a1d8eea4",
              "queued_time": "2023-12-10T03:01:30.1053516Z",
              "session_id": "6",
              "session_start_time": null,
              "spark_jobs": null,
              "spark_pool": "ApacheSparkPool",
              "state": "finished",
              "statement_id": 75
            },
            "text/plain": [
              "StatementMeta(ApacheSparkPool, 6, 75, Finished, Available)"
            ]
          },
          "metadata": {},
          "output_type": "display_data"
        }
      ],
      "source": [
        "# Chọn ngưỡng là 0.7\n",
        "high_correlation = abs(correlation_matrix) > 0.7"
      ]
    },
    {
      "cell_type": "markdown",
      "metadata": {},
      "source": [
        "Loại bỏ một cột từ mỗi cặp cột có độ tương quan cao"
      ]
    },
    {
      "cell_type": "code",
      "execution_count": 156,
      "metadata": {},
      "outputs": [
        {
          "data": {
            "application/vnd.livy.statement-meta+json": {
              "execution_finish_time": "2023-12-10T03:04:00.7175173Z",
              "execution_start_time": "2023-12-10T03:04:00.5709354Z",
              "livy_statement_state": "available",
              "parent_msg_id": "8a67c25a-d23c-4127-b333-f3b853eec6ff",
              "queued_time": "2023-12-10T03:01:30.2408822Z",
              "session_id": "6",
              "session_start_time": null,
              "spark_jobs": null,
              "spark_pool": "ApacheSparkPool",
              "state": "finished",
              "statement_id": 76
            },
            "text/plain": [
              "StatementMeta(ApacheSparkPool, 6, 76, Finished, Available)"
            ]
          },
          "metadata": {},
          "output_type": "display_data"
        }
      ],
      "source": [
        "columns_to_drop = set()\n",
        "\n",
        "for i in range(len(high_correlation.columns)):\n",
        "    for j in range(i):\n",
        "        if high_correlation.iloc[i, j]:\n",
        "            colname = high_correlation.columns[i]\n",
        "            columns_to_drop.add(colname)\n",
        "\n",
        "df = df.drop(columns=columns_to_drop)\n"
      ]
    },
    {
      "cell_type": "code",
      "execution_count": 157,
      "metadata": {},
      "outputs": [
        {
          "data": {
            "application/vnd.livy.statement-meta+json": {
              "execution_finish_time": "2023-12-10T03:04:01.9447618Z",
              "execution_start_time": "2023-12-10T03:04:00.836981Z",
              "livy_statement_state": "available",
              "parent_msg_id": "b35449a7-bfef-440f-9065-cafda4d0435b",
              "queued_time": "2023-12-10T03:01:30.380532Z",
              "session_id": "6",
              "session_start_time": null,
              "spark_jobs": null,
              "spark_pool": "ApacheSparkPool",
              "state": "finished",
              "statement_id": 77
            },
            "text/plain": [
              "StatementMeta(ApacheSparkPool, 6, 77, Finished, Available)"
            ]
          },
          "metadata": {},
          "output_type": "display_data"
        },
        {
          "data": {
            "image/png": "[encoded data removed]",
            "text/plain": [
              "<Figure size 1000x800 with 2 Axes>"
            ]
          },
          "metadata": {},
          "output_type": "display_data"
        }
      ],
      "source": [
        "import seaborn as sns\n",
        "import matplotlib.pyplot as plt\n",
        "\n",
        "correlation_matrix = df.corr(numeric_only=True)\n",
        "\n",
        "plt.figure(figsize=(10, 8))\n",
        "sns.heatmap(correlation_matrix, annot=True, cmap='coolwarm', fmt='.2f')\n",
        "plt.show()"
      ]
    },
    {
      "cell_type": "code",
      "execution_count": 158,
      "metadata": {
        "jupyter": {
          "outputs_hidden": false,
          "source_hidden": false
        },
        "nteract": {
          "transient": {
            "deleting": false
          }
        }
      },
      "outputs": [
        {
          "data": {
            "application/vnd.livy.statement-meta+json": {
              "execution_finish_time": "2023-12-10T03:04:02.2128468Z",
              "execution_start_time": "2023-12-10T03:04:02.0698192Z",
              "livy_statement_state": "available",
              "parent_msg_id": "d724d545-17a3-4d13-8a2e-9a5dffa4786e",
              "queued_time": "2023-12-10T03:01:30.5181445Z",
              "session_id": "6",
              "session_start_time": null,
              "spark_jobs": null,
              "spark_pool": "ApacheSparkPool",
              "state": "finished",
              "statement_id": 78
            },
            "text/plain": [
              "StatementMeta(ApacheSparkPool, 6, 78, Finished, Available)"
            ]
          },
          "metadata": {},
          "output_type": "display_data"
        },
        {
          "name": "stdout",
          "output_type": "stream",
          "text": [
            "<class 'pandas.core.frame.DataFrame'>\n",
            "RangeIndex: 3400 entries, 0 to 3399\n",
            "Data columns (total 31 columns):\n",
            " #   Column                    Non-Null Count  Dtype  \n",
            "---  ------                    --------------  -----  \n",
            " 0   STDNT_AGE                 3400 non-null   int64  \n",
            " 1   STDNT_GENDER              3400 non-null   int64  \n",
            " 2   STDNT_BACKGROUND          3400 non-null   object \n",
            " 3   IN_STATE_FLAG             3400 non-null   int64  \n",
            " 4   INTERNATIONAL_STS         3400 non-null   int64  \n",
            " 5   STDNT_MAJOR               3400 non-null   object \n",
            " 6   STDNT_TEST_ENTRANCE_COMB  3400 non-null   float64\n",
            " 7   FIRST_TERM                3400 non-null   int64  \n",
            " 8   CORE_COURSE_NAME_1_F      3400 non-null   object \n",
            " 9   CORE_COURSE_GRADE_1_F     3400 non-null   object \n",
            " 10  CORE_COURSE_NAME_2_F      3400 non-null   object \n",
            " 11  CORE_COURSE_GRADE_2_F     3400 non-null   object \n",
            " 12  CORE_COURSE_NAME_3_F      3400 non-null   object \n",
            " 13  CORE_COURSE_GRADE_3_F     3400 non-null   object \n",
            " 14  CORE_COURSE_NAME_1_S      3400 non-null   object \n",
            " 15  CORE_COURSE_GRADE_1_S     3400 non-null   object \n",
            " 16  CORE_COURSE_NAME_2_S      3400 non-null   object \n",
            " 17  CORE_COURSE_GRADE_2_S     3400 non-null   object \n",
            " 18  CORE_COURSE_NAME_3_S      3400 non-null   object \n",
            " 19  CORE_COURSE_GRADE_3_S     3400 non-null   object \n",
            " 20  HOUSING_STS               3400 non-null   int64  \n",
            " 21  RETURNED_2ND_YR           3400 non-null   int64  \n",
            " 22  DISTANCE_FROM_HOME        3400 non-null   float64\n",
            " 23  FATHER_HI_EDU_DESC        3400 non-null   object \n",
            " 24  MOTHER_HI_EDU_DESC        3400 non-null   object \n",
            " 25  DEGREE_GROUP_DESC         3400 non-null   object \n",
            " 26  GROSS_FIN_NEED            3400 non-null   int64  \n",
            " 27  EST_FAM_CONTRIBUTION      3400 non-null   int64  \n",
            " 28  DIFF_FIRST_TERM           3400 non-null   int64  \n",
            " 29  DIFF_SECOND_TERM          3400 non-null   float64\n",
            " 30  HIGH_SCHL_GPA_CLASSIFY    3400 non-null   object \n",
            "dtypes: float64(3), int64(10), object(18)\n",
            "memory usage: 823.6+ KB\n"
          ]
        }
      ],
      "source": [
        "df.info()"
      ]
    },
    {
      "cell_type": "markdown",
      "metadata": {},
      "source": [
        "# Save data after pre-processing"
      ]
    },
    {
      "cell_type": "markdown",
      "metadata": {},
      "source": [
        "##### Lưu data vào storage account đã được liên kết với Azure Maching Learning để phục vụ cho việc huấn luyện các mô hình"
      ]
    },
    {
      "cell_type": "code",
      "execution_count": 159,
      "metadata": {},
      "outputs": [
        {
          "data": {
            "application/vnd.livy.statement-meta+json": {
              "execution_finish_time": "2023-12-10T03:04:03.4013737Z",
              "execution_start_time": "2023-12-10T03:04:02.3358098Z",
              "livy_statement_state": "available",
              "parent_msg_id": "144ce5f9-2d73-486d-b330-6328f8f1f367",
              "queued_time": "2023-12-10T03:01:30.6645969Z",
              "session_id": "6",
              "session_start_time": null,
              "spark_jobs": null,
              "spark_pool": "ApacheSparkPool",
              "state": "finished",
              "statement_id": 79
            },
            "text/plain": [
              "StatementMeta(ApacheSparkPool, 6, 79, Finished, Available)"
            ]
          },
          "metadata": {},
          "output_type": "display_data"
        }
      ],
      "source": [
        "import pandas as pd\n",
        "from azure.storage.fileshare import ShareServiceClient\n",
        "\n",
        "# Assuming df is your DataFrame\n",
        "df.to_csv(\"data.csv\", index=False)\n",
        "\n",
        "# Specify your Azure Storage Account details\n",
        "account_name = \"\"\n",
        "account_key = \"\"\n",
        "file_share_name = \"\"\n",
        "directory_path = \"\"\n",
        "\n",
        "# Upload the CSV file to Azure File Share\n",
        "service = ShareServiceClient(account_url=f\"https://{account_name}.file.core.windows.net\", credential=account_key)\n",
        "share_client = service.get_share_client(file_share_name)\n",
        "\n",
        "# Create a directory if it doesn't exist\n",
        "directory_client = share_client.get_directory_client(directory_path)\n",
        "if not directory_client.exists():\n",
        "    directory_client.create_directory()\n",
        "\n",
        "# Upload the CSV file to the directory\n",
        "file_client = directory_client.get_file_client(\"data.csv\")\n",
        "with open(\"data.csv\", \"rb\") as data:\n",
        "    file_client.upload_file(data)"
      ]
    }
  ],
  "metadata": {
    "description": null,
    "kernel_info": {
      "name": "synapse_pyspark"
    },
    "kernelspec": {
      "display_name": "Synapse PySpark",
      "language": "Python",
      "name": "synapse_pyspark"
    },
    "language_info": {
      "name": "python"
    },
    "save_output": true,
    "synapse_widget": {
      "state": {},
      "version": "0.1"
    }
  },
  "nbformat": 4,
  "nbformat_minor": 2
}
