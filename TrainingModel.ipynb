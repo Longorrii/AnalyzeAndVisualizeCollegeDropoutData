{
  "cells": [
    {
      "cell_type": "markdown",
      "metadata": {},
      "source": [
        "# TRAIN MODEL"
      ]
    },
    {
      "cell_type": "markdown",
      "metadata": {
        "nteract": {
          "transient": {
            "deleting": false
          }
        }
      },
      "source": [
        "# Cài thư viện hổ trợ chuyển đổi mô hình sang format ONNX"
      ]
    },
    {
      "cell_type": "code",
      "execution_count": 1,
      "metadata": {
        "gather": {
          "logged": 1702173933103
        },
        "jupyter": {
          "outputs_hidden": false,
          "source_hidden": false
        },
        "nteract": {
          "transient": {
            "deleting": false
          }
        }
      },
      "outputs": [],
      "source": [
        "#%pip install scikit-learn==0.22.2.post1\n",
        "# %pip install onnx==1.11.0"
      ]
    },
    {
      "cell_type": "markdown",
      "metadata": {
        "nteract": {
          "transient": {
            "deleting": false
          }
        }
      },
      "source": [
        "## Import necessary libraries"
      ]
    },
    {
      "cell_type": "code",
      "execution_count": 1,
      "metadata": {
        "gather": {
          "logged": 1702178182513
        },
        "jupyter": {
          "outputs_hidden": false,
          "source_hidden": false
        },
        "nteract": {
          "transient": {
            "deleting": false
          }
        }
      },
      "outputs": [],
      "source": [
        "%matplotlib inline\n",
        "import pandas as pd\n",
        "import numpy as np\n",
        "import matplotlib.pyplot as plt\n",
        "import seaborn as sns\n",
        "from scipy import stats"
      ]
    },
    {
      "cell_type": "markdown",
      "metadata": {},
      "source": [
        "## Read dataset"
      ]
    },
    {
      "cell_type": "code",
      "execution_count": 2,
      "metadata": {
        "gather": {
          "logged": 1702178185197
        }
      },
      "outputs": [],
      "source": [
        "import pandas as pd\n",
        "df = pd.read_csv(\"data.csv\")"
      ]
    },
    {
      "cell_type": "markdown",
      "metadata": {},
      "source": [
        "Mô hình ONNX không hỗ trợ kiểu double (float64) nên ta sẽ tiến hành ép kiểu về float32"
      ]
    },
    {
      "cell_type": "code",
      "execution_count": 3,
      "metadata": {
        "gather": {
          "logged": 1702178189305
        },
        "jupyter": {
          "outputs_hidden": false,
          "source_hidden": false
        },
        "nteract": {
          "transient": {
            "deleting": false
          }
        }
      },
      "outputs": [],
      "source": [
        "df['STDNT_TEST_ENTRANCE_COMB'] = df['STDNT_TEST_ENTRANCE_COMB'].astype('float32')\n",
        "df['DISTANCE_FROM_HOME'] = df['DISTANCE_FROM_HOME'].astype('float32')\n",
        "df['DIFF_SECOND_TERM'] = df['DIFF_SECOND_TERM'].astype('float32')"
      ]
    },
    {
      "cell_type": "markdown",
      "metadata": {},
      "source": [
        "## Split training and testing data sets\n",
        "- 70% of the data is used to train the model.\n",
        "- 30% of the data is used to test the model."
      ]
    },
    {
      "cell_type": "code",
      "execution_count": 4,
      "metadata": {
        "gather": {
          "logged": 1702178193115
        }
      },
      "outputs": [],
      "source": [
        "from sklearn.model_selection import train_test_split\n",
        "\n",
        "train_df, test_df = train_test_split(df, test_size=0.3, random_state=123)\n",
        "\n",
        "x_train = pd.DataFrame(train_df.drop(['RETURNED_2ND_YR'], axis = 1))\n",
        "y_train = pd.DataFrame(train_df.iloc[:,train_df.columns.tolist().index('RETURNED_2ND_YR')])\n",
        "\n",
        "x_test = pd.DataFrame(test_df.drop(['RETURNED_2ND_YR'], axis = 1))\n",
        "y_test = pd.DataFrame(test_df.iloc[:,test_df.columns.tolist().index('RETURNED_2ND_YR')])"
      ]
    },
    {
      "cell_type": "markdown",
      "metadata": {},
      "source": [
        "## Export test data as CSV\n",
        "Export the test data as a CSV file. Later, we will load the CSV file into Synapse SQL pool to test the model (score model)"
      ]
    },
    {
      "cell_type": "code",
      "execution_count": 5,
      "metadata": {
        "gather": {
          "logged": 1702178198302
        }
      },
      "outputs": [
        {
          "name": "stdout",
          "output_type": "stream",
          "text": [
            "DataFrame saved to Azure Data Lake Storage.\n"
          ]
        }
      ],
      "source": [
        "import pandas as pd\n",
        "from adlfs import AzureBlobFileSystem\n",
        "\n",
        "account_key = ''\n",
        "account_name = ''\n",
        "\n",
        "adls_path = 'abfss://data@nhatlongstorage.dfs.core.windows.net/test_data.csv'\n",
        "\n",
        "# Create AzureBlobFileSystem instance with account key\n",
        "fs = AzureBlobFileSystem(account_name=account_name, account_key=account_key)\n",
        "\n",
        "# Write DataFrame to CSV on Azure Data Lake Storage\n",
        "with fs.open(adls_path, 'w') as f:\n",
        "    test_df.to_csv(f, index=False)\n",
        "\n",
        "print(\"DataFrame saved to Azure Data Lake Storage.\")"
      ]
    },
    {
      "cell_type": "code",
      "execution_count": 6,
      "metadata": {
        "gather": {
          "logged": 1702178201285
        }
      },
      "outputs": [
        {
          "name": "stdout",
          "output_type": "stream",
          "text": [
            "  Data Type  Column Count\n",
            "0    object            18\n",
            "1     int64             9\n",
            "2   float32             3\n",
            "\n",
            "Danh sách các cột cho mỗi kiểu dữ liệu:\n",
            "\n",
            "Kiểu dữ liệu object:\n",
            "['STDNT_BACKGROUND', 'STDNT_MAJOR', 'CORE_COURSE_NAME_1_F', 'CORE_COURSE_GRADE_1_F', 'CORE_COURSE_NAME_2_F', 'CORE_COURSE_GRADE_2_F', 'CORE_COURSE_NAME_3_F', 'CORE_COURSE_GRADE_3_F', 'CORE_COURSE_NAME_1_S', 'CORE_COURSE_GRADE_1_S', 'CORE_COURSE_NAME_2_S', 'CORE_COURSE_GRADE_2_S', 'CORE_COURSE_NAME_3_S', 'CORE_COURSE_GRADE_3_S', 'FATHER_HI_EDU_DESC', 'MOTHER_HI_EDU_DESC', 'DEGREE_GROUP_DESC', 'HIGH_SCHL_GPA_CLASSIFY']\n",
            "\n",
            "Kiểu dữ liệu int64:\n",
            "['STDNT_AGE', 'STDNT_GENDER', 'IN_STATE_FLAG', 'INTERNATIONAL_STS', 'FIRST_TERM', 'HOUSING_STS', 'GROSS_FIN_NEED', 'EST_FAM_CONTRIBUTION', 'DIFF_FIRST_TERM']\n",
            "\n",
            "Kiểu dữ liệu float32:\n",
            "['STDNT_TEST_ENTRANCE_COMB', 'DISTANCE_FROM_HOME', 'DIFF_SECOND_TERM']\n"
          ]
        }
      ],
      "source": [
        "import pandas as pd\n",
        "\n",
        "data_types = df.drop(labels='RETURNED_2ND_YR',axis=1).dtypes\n",
        "data_types_df = pd.DataFrame(data_types, columns=['Data Type'])\n",
        "data_types_df['Column'] = data_types_df.index\n",
        "data_types_count = data_types_df['Data Type'].value_counts().reset_index()\n",
        "data_types_count.columns = ['Data Type', 'Column Count']\n",
        "print(data_types_count)\n",
        "print(\"\\nDanh sách các cột cho mỗi kiểu dữ liệu:\")\n",
        "for dtype in data_types_count['Data Type']:\n",
        "    columns_of_type = data_types_df[data_types_df['Data Type'] == dtype]['Column'].tolist()\n",
        "    print(f\"\\nKiểu dữ liệu {dtype}:\")\n",
        "    print(columns_of_type)"
      ]
    },
    {
      "cell_type": "code",
      "execution_count": 7,
      "metadata": {
        "gather": {
          "logged": 1702178277187
        }
      },
      "outputs": [
        {
          "name": "stderr",
          "output_type": "stream",
          "text": [
            "/anaconda/envs/azureml_py38/lib/python3.8/site-packages/sklearn/utils/validation.py:760: DataConversionWarning: A column-vector y was passed when a 1d array was expected. Please change the shape of y to (n_samples, ), for example using ravel().\n",
            "  y = column_or_1d(y, warn=True)\n",
            "/anaconda/envs/azureml_py38/lib/python3.8/site-packages/sklearn/linear_model/_logistic.py:938: ConvergenceWarning: lbfgs failed to converge (status=1):\n",
            "STOP: TOTAL NO. of ITERATIONS REACHED LIMIT.\n",
            "\n",
            "Increase the number of iterations (max_iter) or scale the data as shown in:\n",
            "    https://scikit-learn.org/stable/modules/preprocessing.html\n",
            "Please also refer to the documentation for alternative solver options:\n",
            "    https://scikit-learn.org/stable/modules/linear_model.html#logistic-regression\n",
            "  n_iter_i = _check_optimize_result(\n"
          ]
        },
        {
          "data": {
            "text/plain": [
              "Pipeline(memory=None,\n",
              "         steps=[('preprocessor',\n",
              "                 ColumnTransformer(n_jobs=None, remainder='drop',\n",
              "                                   sparse_threshold=0.3,\n",
              "                                   transformer_weights=None,\n",
              "                                   transformers=[('float',\n",
              "                                                  Pipeline(memory=None,\n",
              "                                                           steps=[('imputer',\n",
              "                                                                   SimpleImputer(add_indicator=False,\n",
              "                                                                                 copy=True,\n",
              "                                                                                 fill_value=None,\n",
              "                                                                                 missing_values=nan,\n",
              "                                                                                 strategy='median',\n",
              "                                                                                 verbose=0)),\n",
              "                                                                  ('scaler',\n",
              "                                                                   StandardScaler(copy=True,\n",
              "                                                                                  with_me...\n",
              "                                                   'MOTHER_HI_EDU_DESC',\n",
              "                                                   'DEGREE_GROUP_DESC',\n",
              "                                                   'HIGH_SCHL_GPA_CLASSIFY'])],\n",
              "                                   verbose=False)),\n",
              "                ('classifier',\n",
              "                 LogisticRegression(C=1.0, class_weight=None, dual=False,\n",
              "                                    fit_intercept=True, intercept_scaling=1,\n",
              "                                    l1_ratio=None, max_iter=100,\n",
              "                                    multi_class='auto', n_jobs=None,\n",
              "                                    penalty='l2', random_state=None,\n",
              "                                    solver='lbfgs', tol=0.0001, verbose=0,\n",
              "                                    warm_start=False))],\n",
              "         verbose=False)"
            ]
          },
          "execution_count": 7,
          "metadata": {},
          "output_type": "execute_result"
        }
      ],
      "source": [
        "from sklearn.compose import ColumnTransformer\n",
        "from sklearn.linear_model import LogisticRegression\n",
        "from sklearn.pipeline import Pipeline\n",
        "from sklearn.impute import SimpleImputer\n",
        "from sklearn.preprocessing import StandardScaler, OneHotEncoder\n",
        "\n",
        "float_features = ['STDNT_TEST_ENTRANCE_COMB', 'DISTANCE_FROM_HOME', 'DIFF_SECOND_TERM']\n",
        "float_transformer = Pipeline(steps=[\n",
        "    ('imputer', SimpleImputer(strategy='median')),\n",
        "    ('scaler', StandardScaler())])\n",
        "\n",
        "integer_features = ['STDNT_AGE', 'STDNT_GENDER', 'IN_STATE_FLAG', 'INTERNATIONAL_STS', 'FIRST_TERM', 'HOUSING_STS', 'GROSS_FIN_NEED', 'EST_FAM_CONTRIBUTION', 'DIFF_FIRST_TERM']\n",
        "integer_transformer = Pipeline(steps=[\n",
        "    ('imputer', SimpleImputer(strategy='median')),\n",
        "    ('scaler', StandardScaler())])\n",
        "\n",
        "categorical_features = ['STDNT_BACKGROUND', 'STDNT_MAJOR', 'CORE_COURSE_NAME_1_F', 'CORE_COURSE_GRADE_1_F', 'CORE_COURSE_NAME_2_F', 'CORE_COURSE_GRADE_2_F', 'CORE_COURSE_NAME_3_F', 'CORE_COURSE_GRADE_3_F', 'CORE_COURSE_NAME_1_S', 'CORE_COURSE_GRADE_1_S', 'CORE_COURSE_NAME_2_S', 'CORE_COURSE_GRADE_2_S', 'CORE_COURSE_NAME_3_S', 'CORE_COURSE_GRADE_3_S', 'FATHER_HI_EDU_DESC', 'MOTHER_HI_EDU_DESC', 'DEGREE_GROUP_DESC', 'HIGH_SCHL_GPA_CLASSIFY']\n",
        "categorical_transformer = Pipeline(steps=[\n",
        "    ('onehot', OneHotEncoder(handle_unknown='ignore'))])\n",
        "\n",
        "preprocessor = ColumnTransformer(\n",
        "    transformers=[\n",
        "        ('float', float_transformer, float_features),\n",
        "        ('integer', integer_transformer, integer_features),\n",
        "        ('cat', categorical_transformer, categorical_features)\n",
        "    ])\n",
        "\n",
        "clf = Pipeline(steps=[('preprocessor', preprocessor),\n",
        "                      ('classifier', LogisticRegression(solver='lbfgs'))])\n",
        "\n",
        "# Train the model\n",
        "clf.fit(x_train, y_train)"
      ]
    },
    {
      "cell_type": "code",
      "execution_count": 8,
      "metadata": {
        "gather": {
          "logged": 1702178281836
        }
      },
      "outputs": [
        {
          "name": "stdout",
          "output_type": "stream",
          "text": [
            "0.8323529411764706\n"
          ]
        }
      ],
      "source": [
        "# Evalute the model\n",
        "score = clf.score(x_test, y_test)\n",
        "print(score)"
      ]
    },
    {
      "cell_type": "code",
      "execution_count": 9,
      "metadata": {
        "gather": {
          "logged": 1702178285753
        }
      },
      "outputs": [
        {
          "name": "stdout",
          "output_type": "stream",
          "text": [
            "              precision    recall  f1-score   support\n",
            "\n",
            "     class 0       0.70      0.33      0.45       210\n",
            "     class 1       0.85      0.96      0.90       810\n",
            "\n",
            "    accuracy                           0.83      1020\n",
            "   macro avg       0.77      0.65      0.67      1020\n",
            "weighted avg       0.82      0.83      0.81      1020\n",
            "\n"
          ]
        }
      ],
      "source": [
        "from sklearn.metrics import classification_report\n",
        "\n",
        "y_pred = clf.predict(x_test)\n",
        "\n",
        "classes = target_names = ['class 0', 'class 1']\n",
        "print(classification_report(y_test, y_pred, target_names=classes))"
      ]
    },
    {
      "cell_type": "code",
      "execution_count": 10,
      "metadata": {
        "gather": {
          "logged": 1702178289270
        }
      },
      "outputs": [
        {
          "data": {
            "text/plain": [
              "Text(0.5, 1.0, 'Logistic Regression Accuracy Score: 0.8323529411764706')"
            ]
          },
          "execution_count": 10,
          "metadata": {},
          "output_type": "execute_result"
        },
        {
          "data": {
            "image/png": "[encoded data removed]",
            "text/plain": [
              "<Figure size 800x800 with 2 Axes>"
            ]
          },
          "metadata": {},
          "output_type": "display_data"
        }
      ],
      "source": [
        "from sklearn import metrics\n",
        "lg_cm = metrics.confusion_matrix(y_test,y_pred)\n",
        "lg_score = metrics.accuracy_score(y_test, y_pred)\n",
        "\n",
        "plt.figure(figsize=(8,8))\n",
        "sns.heatmap(lg_cm, annot=True, fmt=\".3f\", linewidths=.5, square = True, cmap='Greens');\n",
        "plt.ylabel('Actual label');\n",
        "plt.xlabel('Predicted label');\n",
        "title = 'Logistic Regression Accuracy Score: {0}'.format(lg_score)\n",
        "plt.title(title, size = 10)"
      ]
    },
    {
      "cell_type": "markdown",
      "metadata": {},
      "source": [
        "## Convert the model to ONNX format\n",
        "Currently, T-SQL scoring only supports ONNX model format (https://onnx.ai/)."
      ]
    },
    {
      "cell_type": "code",
      "execution_count": 11,
      "metadata": {
        "gather": {
          "logged": 1702178301410
        }
      },
      "outputs": [
        {
          "name": "stderr",
          "output_type": "stream",
          "text": [
            "The maximum opset needed by this model is only 11.\n",
            "The maximum opset needed by this model is only 1.\n"
          ]
        }
      ],
      "source": [
        "from skl2onnx import convert_sklearn\n",
        "from skl2onnx.common.data_types import FloatTensorType, Int64TensorType, DoubleTensorType, StringTensorType\n",
        "\n",
        "def convert_dataframe_schema(df, drop=None):\n",
        "    inputs = []\n",
        "    for k, v in zip(df.columns, df.dtypes):\n",
        "        if drop is not None and k in drop:\n",
        "            continue\n",
        "        if v == 'int64':\n",
        "            t = Int64TensorType([1, 1])\n",
        "        elif v == 'float32':\n",
        "            t = FloatTensorType([1, 1])\n",
        "        elif v == 'float64':\n",
        "            t = DoubleTensorType([1, 1])\n",
        "        else:\n",
        "            t = StringTensorType([1, 1])\n",
        "        inputs.append((k, t))\n",
        "    return inputs\n",
        "\n",
        "model_inputs = convert_dataframe_schema(x_train)\n",
        "onnx_model = convert_sklearn(clf, \"log_onnx\", model_inputs)"
      ]
    },
    {
      "cell_type": "markdown",
      "metadata": {},
      "source": [
        "# Register the model format ONNX with MLFlow"
      ]
    },
    {
      "cell_type": "code",
      "execution_count": 12,
      "metadata": {
        "gather": {
          "logged": 1702178304669
        }
      },
      "outputs": [
        {
          "name": "stdout",
          "output_type": "stream",
          "text": [
            "azureml\n",
            "cloudcomputingproject\n",
            "eastus2\n",
            "f8f08080-5dd9-4457-8e82-7fba247e8dfe\n"
          ]
        }
      ],
      "source": [
        "from azureml.core import Workspace\n",
        "\n",
        "ws = Workspace.from_config()\n",
        "print(ws.name, ws.resource_group, ws.location, ws.subscription_id, sep='\\n')"
      ]
    },
    {
      "cell_type": "code",
      "execution_count": 13,
      "metadata": {
        "gather": {
          "logged": 1702178328090
        }
      },
      "outputs": [
        {
          "name": "stderr",
          "output_type": "stream",
          "text": [
            "2023/12/10 03:18:41 INFO mlflow.tracking.fluent: Experiment with name 'log_onnx1_exp' does not exist. Creating a new experiment.\n",
            "/anaconda/envs/azureml_py38/lib/python3.8/site-packages/mlflow/models/signature.py:137: UserWarning: Hint: Inferred schema contains integer column(s). Integer columns in Python cannot represent missing values. If your input data contains missing values at inference time, it will be encoded as floats and will cause a schema enforcement error. The best way to avoid this problem is to infer the model schema based on a realistic data sample (training dataset) that includes missing values. Alternatively, you can declare integer columns as doubles (float64) whenever these columns may have missing values. See `Handling Integers With Missing Values <https://www.mlflow.org/docs/latest/models.html#handling-integers-with-missing-values>`_ for more details.\n",
            "  inputs = _infer_schema(model_input)\n",
            "/anaconda/envs/azureml_py38/lib/python3.8/site-packages/mlflow/models/signature.py:138: UserWarning: Hint: Inferred schema contains integer column(s). Integer columns in Python cannot represent missing values. If your input data contains missing values at inference time, it will be encoded as floats and will cause a schema enforcement error. The best way to avoid this problem is to infer the model schema based on a realistic data sample (training dataset) that includes missing values. Alternatively, you can declare integer columns as doubles (float64) whenever these columns may have missing values. See `Handling Integers With Missing Values <https://www.mlflow.org/docs/latest/models.html#handling-integers-with-missing-values>`_ for more details.\n",
            "  outputs = _infer_schema(model_output) if model_output is not None else None\n",
            "2023/12/10 03:18:43 WARNING mlflow.utils.environment: Encountered an unexpected error while inferring pip requirements (model URI: /tmp/tmp_scu6h_q/model, flavor: onnx), fall back to return ['onnx==1.11.0', 'onnxruntime==1.11.1']. Set logging level to DEBUG to see the full traceback.\n",
            "/anaconda/envs/azureml_py38/lib/python3.8/site-packages/_distutils_hack/__init__.py:33: UserWarning: Setuptools is replacing distutils.\n",
            "  warnings.warn(\"Setuptools is replacing distutils.\")\n",
            "Successfully registered model 'log_onnx1'.\n",
            "2023/12/10 03:18:47 INFO mlflow.tracking._model_registry.client: Waiting up to 300 seconds for model version to finish creation. Model name: log_onnx1, version 1\n",
            "Created version '1' of model 'log_onnx1'.\n"
          ]
        }
      ],
      "source": [
        "import mlflow\n",
        "import mlflow.onnx\n",
        "\n",
        "from mlflow.models.signature import infer_signature\n",
        "\n",
        "experiment_name = 'log_onnx_exp'\n",
        "artifact_path = 'log_onnx_artifact'\n",
        "\n",
        "mlflow.set_tracking_uri(ws.get_mlflow_tracking_uri())\n",
        "mlflow.set_experiment(experiment_name)\n",
        "\n",
        "with mlflow.start_run() as run:\n",
        "    # Infer signature\n",
        "    input_sample = x_train.head(1)\n",
        "    output_sample = pd.DataFrame(columns=['output_label'], data=[1])\n",
        "    signature = infer_signature(input_sample, output_sample)\n",
        "\n",
        "    # Save the model to the outputs directory for capture\n",
        "    mlflow.onnx.log_model(onnx_model, artifact_path, signature=signature, input_example=input_sample)\n",
        "\n",
        "    # Register the model to AML model registry\n",
        "    mlflow.register_model('runs:/' + run.info.run_id + '/' + artifact_path, 'log_onnx')"
      ]
    }
  ],
  "metadata": {
    "description": null,
    "kernel_info": {
      "name": "python38-azureml"
    },
    "kernelspec": {
      "display_name": "Python 3.8 - AzureML",
      "language": "python",
      "name": "python38-azureml"
    },
    "language_info": {
      "codemirror_mode": {
        "name": "ipython",
        "version": 3
      },
      "file_extension": ".py",
      "mimetype": "text/x-python",
      "name": "python",
      "nbconvert_exporter": "python",
      "pygments_lexer": "ipython3",
      "version": "3.8.5"
    },
    "microsoft": {
      "host": {
        "AzureML": {
          "notebookHasBeenCompleted": true
        }
      },
      "ms_spell_check": {
        "ms_spell_check_language": "en"
      }
    },
    "nteract": {
      "version": "nteract-front-end@1.0.0"
    },
    "save_output": true,
    "synapse_widget": {
      "state": {},
      "version": "0.1"
    }
  },
  "nbformat": 4,
  "nbformat_minor": 2
}
